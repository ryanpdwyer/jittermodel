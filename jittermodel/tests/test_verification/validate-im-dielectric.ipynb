{
 "metadata": {
  "name": "",
  "signature": "sha256:45e426fcb8dbad61db7389b32efbd12bffc3352350a09e6c769e19f0012bbe38"
 },
 "nbformat": 3,
 "nbformat_minor": 0,
 "worksheets": [
  {
   "cells": [
    {
     "cell_type": "code",
     "collapsed": false,
     "input": [
      "from __future__ import division\n",
      "from sympy import *\n",
      "from sympy import init_printing\n",
      "init_printing(use_latex='mathjax')\n",
      "from sympy.utilities.autowrap import ufuncify, autowrap\n",
      "from copy import deepcopy\n",
      "import numpy as np\n",
      "from IPython.display import display"
     ],
     "language": "python",
     "metadata": {},
     "outputs": [],
     "prompt_number": 1
    },
    {
     "cell_type": "markdown",
     "metadata": {},
     "source": [
      "# Dielectric constant functions"
     ]
    },
    {
     "cell_type": "markdown",
     "metadata": {},
     "source": [
      "Let's generate some values for $\\theta_\\text{1}$ and $\\theta_\\text{2}$ that we can check by hand."
     ]
    },
    {
     "cell_type": "code",
     "collapsed": false,
     "input": [
      "from sympy.abc import D, k, kappa, omega, lamda, eta, alpha, theta\n",
      "E_s1 = symbols('E_s1')\n",
      "E_s, E_d, E_eff, h_s, h_d= symbols('E_s E_d E_eff h_s h_d')\n",
      "k, kappa, omega, D, h = symbols('k kappa omega D h')"
     ],
     "language": "python",
     "metadata": {},
     "outputs": [],
     "prompt_number": 2
    },
    {
     "cell_type": "markdown",
     "metadata": {},
     "source": [
      "Intermediates used to calculate $\\theta_\\text{I}, \\theta_\\text{II}$:"
     ]
    },
    {
     "cell_type": "code",
     "collapsed": false,
     "input": [
      "intermediates = {alpha : E_eff / E_d,\n",
      "eta: sqrt(k**2 + kappa**2 / E_s + omega*1j / D),\n",
      "lamda: (1 - E_eff / E_s)*(k / eta)}\n",
      "for key, val in intermediates.viewitems():\n",
      "    display(Eq(key, val))"
     ],
     "language": "python",
     "metadata": {},
     "outputs": [
      {
       "latex": [
        "$$\\lambda = \\frac{k}{\\eta} \\left(- \\frac{E_{eff}}{E_{s}} + 1\\right)$$"
       ],
       "metadata": {},
       "output_type": "display_data",
       "text": [
        "      \u239b  E_eff    \u239e\n",
        "    k\u22c5\u239c- \u2500\u2500\u2500\u2500\u2500 + 1\u239f\n",
        "      \u239d   E_s     \u23a0\n",
        "\u03bb = \u2500\u2500\u2500\u2500\u2500\u2500\u2500\u2500\u2500\u2500\u2500\u2500\u2500\u2500\u2500\n",
        "           \u03b7       "
       ]
      },
      {
       "latex": [
        "$$\\alpha = \\frac{E_{eff}}{E_{d}}$$"
       ],
       "metadata": {},
       "output_type": "display_data",
       "text": [
        "    E_eff\n",
        "\u03b1 = \u2500\u2500\u2500\u2500\u2500\n",
        "     E_d "
       ]
      },
      {
       "latex": [
        "$$\\eta = \\sqrt{k^{2} + \\frac{\\kappa^{2}}{E_{s}} + \\frac{1.0 i}{D} \\omega}$$"
       ],
       "metadata": {},
       "output_type": "display_data",
       "text": [
        "         ____________________\n",
        "        \u2571        2           \n",
        "       \u2571   2    \u03ba    1.0\u22c5\u2148\u22c5\u03c9 \n",
        "\u03b7 =   \u2571   k  + \u2500\u2500\u2500 + \u2500\u2500\u2500\u2500\u2500\u2500\u2500 \n",
        "    \u2572\u2571         E_s      D    "
       ]
      }
     ],
     "prompt_number": 10
    },
    {
     "cell_type": "code",
     "collapsed": false,
     "input": [
      "theta_I_bracket_term = (-lamda / tanh(eta * h_s) +\n",
      "                        (sinh(k * h_s) * sinh(eta * h_s) + alpha * cosh(k*h_s) * sinh(eta * h_s) - \n",
      "                         lamda * (cosh(k*h_s) * cosh(eta*h_s) - 2 + lamda * sinh(k*h_s)/sinh(eta *h_s)))/\n",
      "                        (cosh(k*h_s)*sinh(eta*h_s) + alpha * sinh(k*h_s) * sinh(eta*h_s) - lamda * sinh(k * h_s) * cosh(eta * h_s))\n",
      "                        )"
     ],
     "language": "python",
     "metadata": {},
     "outputs": [],
     "prompt_number": 4
    },
    {
     "cell_type": "code",
     "collapsed": false,
     "input": [
      "theta_I = E_s / E_eff * theta_I_bracket_term"
     ],
     "language": "python",
     "metadata": {},
     "outputs": [],
     "prompt_number": 5
    },
    {
     "cell_type": "code",
     "collapsed": false,
     "input": [
      "theta_I"
     ],
     "language": "python",
     "metadata": {},
     "outputs": [
      {
       "latex": [
        "$$\\frac{E_{s}}{E_{eff}} \\left(- \\frac{\\lambda}{\\tanh{\\left (\\eta h_{s} \\right )}} + \\frac{\\alpha \\sinh{\\left (\\eta h_{s} \\right )} \\cosh{\\left (h_{s} k \\right )} - \\lambda \\left(\\frac{\\lambda \\sinh{\\left (h_{s} k \\right )}}{\\sinh{\\left (\\eta h_{s} \\right )}} + \\cosh{\\left (\\eta h_{s} \\right )} \\cosh{\\left (h_{s} k \\right )} - 2\\right) + \\sinh{\\left (\\eta h_{s} \\right )} \\sinh{\\left (h_{s} k \\right )}}{\\alpha \\sinh{\\left (\\eta h_{s} \\right )} \\sinh{\\left (h_{s} k \\right )} - \\lambda \\sinh{\\left (h_{s} k \\right )} \\cosh{\\left (\\eta h_{s} \\right )} + \\sinh{\\left (\\eta h_{s} \\right )} \\cosh{\\left (h_{s} k \\right )}}\\right)$$"
       ],
       "metadata": {},
       "output_type": "pyout",
       "prompt_number": 6,
       "text": [
        "    \u239b                                              \u239b\u03bb\u22c5sinh(h_s\u22c5k)             \n",
        "    \u239c                \u03b1\u22c5sinh(\u03b7\u22c5h_s)\u22c5cosh(h_s\u22c5k) - \u03bb\u22c5\u239c\u2500\u2500\u2500\u2500\u2500\u2500\u2500\u2500\u2500\u2500\u2500\u2500\u2500 + cosh(\u03b7\u22c5h_s\n",
        "    \u239c       \u03bb                                      \u239d sinh(\u03b7\u22c5h_s)              \n",
        "E_s\u22c5\u239c- \u2500\u2500\u2500\u2500\u2500\u2500\u2500\u2500\u2500\u2500\u2500 + \u2500\u2500\u2500\u2500\u2500\u2500\u2500\u2500\u2500\u2500\u2500\u2500\u2500\u2500\u2500\u2500\u2500\u2500\u2500\u2500\u2500\u2500\u2500\u2500\u2500\u2500\u2500\u2500\u2500\u2500\u2500\u2500\u2500\u2500\u2500\u2500\u2500\u2500\u2500\u2500\u2500\u2500\u2500\u2500\u2500\u2500\u2500\u2500\u2500\u2500\u2500\u2500\u2500\u2500\u2500\u2500\u2500\n",
        "    \u239d  tanh(\u03b7\u22c5h_s)              \u03b1\u22c5sinh(\u03b7\u22c5h_s)\u22c5sinh(h_s\u22c5k) - \u03bb\u22c5sinh(h_s\u22c5k)\u22c5cosh\n",
        "\u2500\u2500\u2500\u2500\u2500\u2500\u2500\u2500\u2500\u2500\u2500\u2500\u2500\u2500\u2500\u2500\u2500\u2500\u2500\u2500\u2500\u2500\u2500\u2500\u2500\u2500\u2500\u2500\u2500\u2500\u2500\u2500\u2500\u2500\u2500\u2500\u2500\u2500\u2500\u2500\u2500\u2500\u2500\u2500\u2500\u2500\u2500\u2500\u2500\u2500\u2500\u2500\u2500\u2500\u2500\u2500\u2500\u2500\u2500\u2500\u2500\u2500\u2500\u2500\u2500\u2500\u2500\u2500\u2500\u2500\u2500\u2500\u2500\u2500\u2500\u2500\u2500\u2500\n",
        "                                                           E_eff              \n",
        "\n",
        "                 \u239e                          \u239e\n",
        ")\u22c5cosh(h_s\u22c5k) - 2\u239f + sinh(\u03b7\u22c5h_s)\u22c5sinh(h_s\u22c5k)\u239f\n",
        "                 \u23a0                          \u239f\n",
        "\u2500\u2500\u2500\u2500\u2500\u2500\u2500\u2500\u2500\u2500\u2500\u2500\u2500\u2500\u2500\u2500\u2500\u2500\u2500\u2500\u2500\u2500\u2500\u2500\u2500\u2500\u2500\u2500\u2500\u2500\u2500\u2500\u2500\u2500\u2500\u2500\u2500\u2500\u2500\u2500\u2500\u2500\u2500\u2500\u239f\n",
        "(\u03b7\u22c5h_s) + sinh(\u03b7\u22c5h_s)\u22c5cosh(h_s\u22c5k)           \u23a0\n",
        "\u2500\u2500\u2500\u2500\u2500\u2500\u2500\u2500\u2500\u2500\u2500\u2500\u2500\u2500\u2500\u2500\u2500\u2500\u2500\u2500\u2500\u2500\u2500\u2500\u2500\u2500\u2500\u2500\u2500\u2500\u2500\u2500\u2500\u2500\u2500\u2500\u2500\u2500\u2500\u2500\u2500\u2500\u2500\u2500\u2500\n",
        "                                             "
       ]
      }
     ],
     "prompt_number": 6
    },
    {
     "cell_type": "code",
     "collapsed": false,
     "input": [
      "theta_I_python = lambdify((k, E_s, E_eff, eta, h_s, alpha, lamda), theta_I, default_array=True)\n",
      "theta_I_c = autowrap(theta_I, language='C', backend='Cython', args=(k, E_s, E_eff, eta, h_s, alpha, lamda))\n",
      "theta_I_f = autowrap(theta_I, language='F95', backend='f2py', args=(k, E_s, E_eff, eta, h_s, alpha, lamda))"
     ],
     "language": "python",
     "metadata": {},
     "outputs": [],
     "prompt_number": 271
    },
    {
     "cell_type": "code",
     "collapsed": false,
     "input": [
      "theta_II = E_s / E_d * (E_eff + (1-lamda)*E_d/tanh(k*h_d))/(E_eff / tanh(k*h_d) + (1 - lamda) * E_d)\n",
      "theta_II"
     ],
     "language": "python",
     "metadata": {},
     "outputs": [
      {
       "latex": [
        "$$\\frac{E_{s} \\left(\\frac{E_{d} \\left(- \\lambda + 1\\right)}{\\tanh{\\left (h_{d} k \\right )}} + E_{eff}\\right)}{E_{d} \\left(E_{d} \\left(- \\lambda + 1\\right) + \\frac{E_{eff}}{\\tanh{\\left (h_{d} k \\right )}}\\right)}$$"
       ],
       "metadata": {},
       "output_type": "pyout",
       "prompt_number": 272,
       "text": [
        "       \u239bE_d\u22c5(-\u03bb + 1)        \u239e   \n",
        "   E_s\u22c5\u239c\u2500\u2500\u2500\u2500\u2500\u2500\u2500\u2500\u2500\u2500\u2500\u2500 + E_eff\u239f   \n",
        "       \u239dtanh(h_d\u22c5k)         \u23a0   \n",
        "\u2500\u2500\u2500\u2500\u2500\u2500\u2500\u2500\u2500\u2500\u2500\u2500\u2500\u2500\u2500\u2500\u2500\u2500\u2500\u2500\u2500\u2500\u2500\u2500\u2500\u2500\u2500\u2500\u2500\u2500\u2500\u2500\n",
        "    \u239b                  E_eff   \u239e\n",
        "E_d\u22c5\u239cE_d\u22c5(-\u03bb + 1) + \u2500\u2500\u2500\u2500\u2500\u2500\u2500\u2500\u2500\u2500\u2500\u239f\n",
        "    \u239d               tanh(h_d\u22c5k)\u23a0"
       ]
      }
     ],
     "prompt_number": 272
    },
    {
     "cell_type": "code",
     "collapsed": false,
     "input": [
      "{k:0.01, E_s:3.5-0.05j, E_d: 3.5-0.05j, E_eff: 3.5 - 0.5j, }"
     ],
     "language": "python",
     "metadata": {},
     "outputs": [
      {
       "metadata": {},
       "output_type": "pyout",
       "prompt_number": 273,
       "text": [
        "{k: 0.01, E_d: (3.5-0.05j), E_eff: (3.5-0.5j), E_s: (3.5-0.05j)}"
       ]
      }
     ],
     "prompt_number": 273
    },
    {
     "cell_type": "code",
     "collapsed": false,
     "input": [
      "%timeit theta_I_python(1, 3, 2, 0.2, 4, 1.02, 1.8)"
     ],
     "language": "python",
     "metadata": {},
     "outputs": [
      {
       "output_type": "stream",
       "stream": "stdout",
       "text": [
        "100000 loops, best of 3: 3.33 \u00b5s per loop\n"
       ]
      }
     ],
     "prompt_number": 274
    },
    {
     "cell_type": "code",
     "collapsed": false,
     "input": [
      "%timeit theta_I_c(1, 3, 2, 0.2, 4, 1.02, 1.8)"
     ],
     "language": "python",
     "metadata": {},
     "outputs": [
      {
       "output_type": "stream",
       "stream": "stdout",
       "text": [
        "1000000 loops, best of 3: 437 ns per loop\n"
       ]
      }
     ],
     "prompt_number": 275
    },
    {
     "cell_type": "code",
     "collapsed": false,
     "input": [
      "%timeit theta_I_f(1, 3, 2, 0.2, 4, 1.02, 1.8)"
     ],
     "language": "python",
     "metadata": {},
     "outputs": [
      {
       "output_type": "stream",
       "stream": "stdout",
       "text": [
        "1000000 loops, best of 3: 481 ns per loop\n"
       ]
      }
     ],
     "prompt_number": 276
    },
    {
     "cell_type": "code",
     "collapsed": false,
     "input": [
      "((E_s - theta) / (E_s + theta))"
     ],
     "language": "python",
     "metadata": {},
     "outputs": [
      {
       "latex": [
        "$$\\frac{E_{s} - \\theta}{E_{s} + \\theta}$$"
       ],
       "metadata": {},
       "output_type": "pyout",
       "prompt_number": 277,
       "text": [
        "E_s - \u03b8\n",
        "\u2500\u2500\u2500\u2500\u2500\u2500\u2500\n",
        "E_s + \u03b8"
       ]
      }
     ],
     "prompt_number": 277
    },
    {
     "cell_type": "code",
     "collapsed": false,
     "input": [
      "from sympy.functions.elementary.complexes import im"
     ],
     "language": "python",
     "metadata": {},
     "outputs": [],
     "prompt_number": 278
    },
    {
     "cell_type": "code",
     "collapsed": false,
     "input": [
      "complex_result = (E_s - theta) / (E_s + theta)"
     ],
     "language": "python",
     "metadata": {},
     "outputs": [],
     "prompt_number": 279
    },
    {
     "cell_type": "code",
     "collapsed": false,
     "input": [
      "dielectric_I = complex_result.subs({theta:theta_I}).subs(intermediates).subs(intermediates)"
     ],
     "language": "python",
     "metadata": {},
     "outputs": [],
     "prompt_number": 280
    },
    {
     "cell_type": "code",
     "collapsed": false,
     "input": [
      "dielectric_args = (k, omega, kappa, E_s, E_d, E_eff, h_s, D)\n",
      "dielectric_I_python = lambdify(dielectric_args, dielectric_I, dummify=False, modules=\"numpy\")"
     ],
     "language": "python",
     "metadata": {},
     "outputs": [],
     "prompt_number": 281
    },
    {
     "cell_type": "code",
     "collapsed": false,
     "input": [
      "%timeit dielectric_I_python(k=1.1, omega=432, kappa=0.3, E_s=3-0.1j, E_d=4-1j, E_eff=4-5j, h_s=0.07, D=0.0077)"
     ],
     "language": "python",
     "metadata": {},
     "outputs": [
      {
       "output_type": "stream",
       "stream": "stdout",
       "text": [
        "10000 loops, best of 3: 150 \u00b5s per loop\n"
       ]
      }
     ],
     "prompt_number": 282
    },
    {
     "cell_type": "code",
     "collapsed": false,
     "input": [
      "dielectric_I_python(k=1.1, omega=432, kappa=0.3, E_s=3-0.1j, E_d=4-1j, E_eff=4-5j, h_s=0.07, D=0.0077)"
     ],
     "language": "python",
     "metadata": {},
     "outputs": [
      {
       "metadata": {},
       "output_type": "pyout",
       "prompt_number": 283,
       "text": [
        "(0.6365044412573243-0.10023319309176819j)"
       ]
      }
     ],
     "prompt_number": 283
    },
    {
     "cell_type": "code",
     "collapsed": false,
     "input": [
      "lambdify(expr=tanh(h_s * intermediates[eta]), args=[k, kappa, omega, D, h_s, E_s], modules='numpy')(0.01, 0.3, 432, 0.0077, 0.07, 3-1j)"
     ],
     "language": "python",
     "metadata": {},
     "outputs": [
      {
       "metadata": {},
       "output_type": "pyout",
       "prompt_number": 285,
       "text": [
        "(1.0000000000148801-1.302525298862032e-10j)"
       ]
      }
     ],
     "prompt_number": 285
    },
    {
     "cell_type": "code",
     "collapsed": false,
     "input": [
      "lambdify(expr=(h_s * intermediates[eta]), args=[k, kappa, omega, D, h_s, E_s], modules='numpy')(0.01, 0.3, 432, 1e-6, 0.07, 3-1j)"
     ],
     "language": "python",
     "metadata": {},
     "outputs": [
      {
       "metadata": {},
       "output_type": "pyout",
       "prompt_number": 286,
       "text": [
        "(1028.78569201192+1028.7856919473827j)"
       ]
      }
     ],
     "prompt_number": 286
    },
    {
     "cell_type": "code",
     "collapsed": false,
     "input": [
      "np.tanh(100000)"
     ],
     "language": "python",
     "metadata": {},
     "outputs": [
      {
       "latex": [
        "$$1.0$$"
       ],
       "metadata": {},
       "output_type": "pyout",
       "prompt_number": 289,
       "text": [
        "1.0"
       ]
      }
     ],
     "prompt_number": 289
    },
    {
     "cell_type": "code",
     "collapsed": false,
     "input": [
      "sympy.printing.lambdarepr.lambdarepr(dielectric_I)"
     ],
     "language": "python",
     "metadata": {},
     "outputs": [
      {
       "metadata": {},
       "output_type": "pyout",
       "prompt_number": 290,
       "text": [
        "'(E_s - E_s*(-k*(-E_eff/E_s + 1)/(sqrt(k**2 + kappa**2/E_s + 1.0*I*omega/D)*tanh(h_s*sqrt(k**2 + kappa**2/E_s + 1.0*I*omega/D))) + (-k*(-E_eff/E_s + 1)*(k*(-E_eff/E_s + 1)*sinh(h_s*k)/(sqrt(k**2 + kappa**2/E_s + 1.0*I*omega/D)*sinh(h_s*sqrt(k**2 + kappa**2/E_s + 1.0*I*omega/D))) + cosh(h_s*k)*cosh(h_s*sqrt(k**2 + kappa**2/E_s + 1.0*I*omega/D)) - 2)/sqrt(k**2 + kappa**2/E_s + 1.0*I*omega/D) + sinh(h_s*k)*sinh(h_s*sqrt(k**2 + kappa**2/E_s + 1.0*I*omega/D)) + E_eff*sinh(h_s*sqrt(k**2 + kappa**2/E_s + 1.0*I*omega/D))*cosh(h_s*k)/E_d)/(-k*(-E_eff/E_s + 1)*sinh(h_s*k)*cosh(h_s*sqrt(k**2 + kappa**2/E_s + 1.0*I*omega/D))/sqrt(k**2 + kappa**2/E_s + 1.0*I*omega/D) + sinh(h_s*sqrt(k**2 + kappa**2/E_s + 1.0*I*omega/D))*cosh(h_s*k) + E_eff*sinh(h_s*k)*sinh(h_s*sqrt(k**2 + kappa**2/E_s + 1.0*I*omega/D))/E_d))/E_eff)/(E_s + E_s*(-k*(-E_eff/E_s + 1)/(sqrt(k**2 + kappa**2/E_s + 1.0*I*omega/D)*tanh(h_s*sqrt(k**2 + kappa**2/E_s + 1.0*I*omega/D))) + (-k*(-E_eff/E_s + 1)*(k*(-E_eff/E_s + 1)*sinh(h_s*k)/(sqrt(k**2 + kappa**2/E_s + 1.0*I*omega/D)*sinh(h_s*sqrt(k**2 + kappa**2/E_s + 1.0*I*omega/D))) + cosh(h_s*k)*cosh(h_s*sqrt(k**2 + kappa**2/E_s + 1.0*I*omega/D)) - 2)/sqrt(k**2 + kappa**2/E_s + 1.0*I*omega/D) + sinh(h_s*k)*sinh(h_s*sqrt(k**2 + kappa**2/E_s + 1.0*I*omega/D)) + E_eff*sinh(h_s*sqrt(k**2 + kappa**2/E_s + 1.0*I*omega/D))*cosh(h_s*k)/E_d)/(-k*(-E_eff/E_s + 1)*sinh(h_s*k)*cosh(h_s*sqrt(k**2 + kappa**2/E_s + 1.0*I*omega/D))/sqrt(k**2 + kappa**2/E_s + 1.0*I*omega/D) + sinh(h_s*sqrt(k**2 + kappa**2/E_s + 1.0*I*omega/D))*cosh(h_s*k) + E_eff*sinh(h_s*k)*sinh(h_s*sqrt(k**2 + kappa**2/E_s + 1.0*I*omega/D))/E_d))/E_eff)'"
       ]
      }
     ],
     "prompt_number": 290
    },
    {
     "cell_type": "markdown",
     "metadata": {},
     "source": [
      "## Small functions"
     ]
    },
    {
     "cell_type": "code",
     "collapsed": false,
     "input": [
      "_eta = intermediates[eta]"
     ],
     "language": "python",
     "metadata": {},
     "outputs": [],
     "prompt_number": 291
    },
    {
     "cell_type": "code",
     "collapsed": false,
     "input": [
      "all_k = [1, 10, 100, 1000, 10000, 100000]\n",
      "all_eta = [_eta.evalf(subs={k:_k, kappa:3500, E_s:3 - 0.001j, D: 0.005, omega:300})\n",
      "           for _k in all_k]"
     ],
     "language": "python",
     "metadata": {},
     "outputs": [],
     "prompt_number": 292
    },
    {
     "cell_type": "code",
     "collapsed": false,
     "input": [
      "print(str(all_eta).replace('*I', 'j').replace(\",\", \",\\n\"))"
     ],
     "language": "python",
     "metadata": {},
     "outputs": [
      {
       "output_type": "stream",
       "stream": "stdout",
       "text": [
        "[2020.78311260126 + 15.182507854811j,\n",
        " 2020.80760652432 + 15.182323829782j,\n",
        " 2023.25550170076 + 15.163955048756j,\n",
        " 2254.66583909462 + 13.607584302718j,\n",
        " 10202.1243828582 + 3.007271263178j,\n",
        " 100020.414581093 + 0.30674293451j]\n"
       ]
      }
     ],
     "prompt_number": 293
    },
    {
     "cell_type": "code",
     "collapsed": false,
     "input": [
      "_lamda = intermediates[lamda]\n",
      "all_lamda = [_lamda.evalf(subs=\n",
      "                {k:_k, E_s:3-0.001j, D:0.005,\n",
      "                 E_eff:3 - 100j, eta: _eta_}) for _k, _eta_ in zip(all_k, all_eta)]\n",
      "    "
     ],
     "language": "python",
     "metadata": {},
     "outputs": [],
     "prompt_number": 294
    },
    {
     "cell_type": "code",
     "collapsed": false,
     "input": [
      "print(str(all_lamda).replace('*I', 'j').replace(\",\", \",\\n\"))"
     ],
     "language": "python",
     "metadata": {},
     "outputs": [
      {
       "output_type": "stream",
       "stream": "stdout",
       "text": [
        "[0.0001184255261724 + 0.0164941987549306j,\n",
        " 0.00118421087011718 + 0.164939988752172j,\n",
        " 0.0117978533636026 + 1.64740475175451j,\n",
        " 0.0842948437214929 + 14.7834985873234j,\n",
        " -0.00125999301746353 + 32.672603689536j,\n",
        " -0.0110065260871034 + 33.3261929274151j]\n"
       ]
      }
     ],
     "prompt_number": 295
    },
    {
     "cell_type": "code",
     "collapsed": false,
     "input": [
      "all_theta_I = [theta_I.evalf(subs={k:_k, E_s:3-0.001j, D:0.005,\n",
      "                                   E_eff:3 - 100j, eta: _eta_,\n",
      "                                   lamda:_lamda_, h_s:0.1, alpha: 0.65-0.0002j}) for _k, _eta, _lamda_ in zip(all_k, all_eta, all_lamda)]"
     ],
     "language": "python",
     "metadata": {},
     "outputs": [],
     "prompt_number": 296
    },
    {
     "cell_type": "code",
     "collapsed": false,
     "input": [
      "print(str(all_theta_I).replace('*I', 'j').replace(\",\", \",\\n\"))"
     ],
     "language": "python",
     "metadata": {},
     "outputs": [
      {
       "output_type": "stream",
       "stream": "stdout",
       "text": [
        "[0.00157126996626562 + 0.0210682675809495j,\n",
        " 0.00672782406000677 + 0.0281575198774334j,\n",
        " 0.050275664263775 + 0.0281213204722464j,\n",
        " 0.443934273416263 + 0.0140052914999941j,\n",
        " 0.980197277948465 + 0.000305155415174606j,\n",
        " 0.999795989512753 + 3.05416795636227e-6j]\n"
       ]
      }
     ],
     "prompt_number": 297
    },
    {
     "cell_type": "code",
     "collapsed": false,
     "input": [
      "sympy.printing.lambdarepr.lambdarepr(theta_I)"
     ],
     "language": "python",
     "metadata": {},
     "outputs": [
      {
       "metadata": {},
       "output_type": "pyout",
       "prompt_number": 316,
       "text": [
        "'E_s*(-lamda/tanh(eta*h_s) + (alpha*sinh(eta*h_s)*cosh(h_s*k) - lamda*(lamda*sinh(h_s*k)/sinh(eta*h_s) + cosh(eta*h_s)*cosh(h_s*k) - 2) + sinh(eta*h_s)*sinh(h_s*k))/(alpha*sinh(eta*h_s)*sinh(h_s*k) - lamda*sinh(h_s*k)*cosh(eta*h_s) + sinh(eta*h_s)*cosh(h_s*k)))/E_eff'"
       ]
      }
     ],
     "prompt_number": 316
    },
    {
     "cell_type": "code",
     "collapsed": false,
     "input": [
      "theta_I_python = lambdify((k, E_s, D, E_eff, eta, lamda, h_s, alpha), theta_I, dummify=False, modules='numpy')"
     ],
     "language": "python",
     "metadata": {},
     "outputs": [],
     "prompt_number": 299
    },
    {
     "cell_type": "code",
     "collapsed": false,
     "input": [
      "def copy_update_dict(dictionary, **kwargs):\n",
      "    copied_dictionary = deepcopy(dictionary)\n",
      "    copied_dictionary.update(kwargs)\n",
      "    return copied_dictionary"
     ],
     "language": "python",
     "metadata": {},
     "outputs": [],
     "prompt_number": 300
    },
    {
     "cell_type": "code",
     "collapsed": false,
     "input": [
      "theta_subs = {k: 1, E_s:3-0.001j, D:0.005, E_eff:3 - 100j, eta: 2020.78311260126 + 15.182507854811j, lamda:0.0001184255261724 + 0.0164941987549306j, h_s:0.1, alpha: 0.65-0.0002j}\n",
      "theta_I_kwargs = {str(key): np.complex128(val) for key, val in theta_subs.items()}\n",
      "theta_I_all_kwargs = [copy_update_dict(theta_I_kwargs, k=np.float(_k), eta=np.complex128(_eta_), lamda=np.complex128(_lamda_))\n",
      "                          for _k, _eta_, _lamda_ in zip(all_k, all_eta, all_lamda)]\n",
      "all_theta_I_lambda = [theta_I_python(**kwargs) for kwargs in theta_I_all_kwargs]"
     ],
     "language": "python",
     "metadata": {},
     "outputs": [],
     "prompt_number": 325
    },
    {
     "cell_type": "code",
     "collapsed": false,
     "input": [
      "all_theta_I_lambda"
     ],
     "language": "python",
     "metadata": {},
     "outputs": [
      {
       "metadata": {},
       "output_type": "pyout",
       "prompt_number": 322,
       "text": [
        "[(0.0015712699662656168099+0.021068267580949522918j),\n",
        " (0.0067278240600067682324+0.028157519877433359369j),\n",
        " (0.050275664263774947722+0.028121320472246408962j),\n",
        " (0.4439342734162634505+0.01400529149999407839j),\n",
        " (nan+nan*j),\n",
        " (nan+nan*j)]"
       ]
      }
     ],
     "prompt_number": 322
    },
    {
     "cell_type": "markdown",
     "metadata": {},
     "source": [
      "So for some reason the sympy version of this is implemented better."
     ]
    },
    {
     "cell_type": "code",
     "collapsed": false,
     "input": [
      "theta_subs = {k: 1, E_s:3-0.001j, D:0.005, E_eff:3 - 100j, E_d: 3 - 0.001j, eta: 2020.78311260126 + 15.182507854811j, lamda:0.0001184255261724 + 0.0164941987549306j, h_s:0.1, alpha: 0.65-0.0002j}\n",
      "all_theta_II = [theta_II.evalf(subs={k: _k, E_s:3-0.001j, E_eff:3 - 100j,\n",
      "                                     E_d: 3 - 0.001j, lamda:_lamda_, h_d:0.1})\n",
      "                for _k, _lamda_ in zip(all_k, all_lamda)] "
     ],
     "language": "python",
     "metadata": {},
     "outputs": [],
     "prompt_number": 339
    },
    {
     "cell_type": "code",
     "collapsed": false,
     "input": [
      "print(str(all_theta_II).replace('*I', 'j').replace(\",\", \",\\n\"))"
     ],
     "language": "python",
     "metadata": {},
     "outputs": [
      {
       "output_type": "stream",
       "stream": "stdout",
       "text": [
        "[0.101145810077246 + 0.0296480635666554j,\n",
        " 0.764320753451023 + 0.0123928030520502j,\n",
        " 0.999999996277978 + 2.1003332939236e-10j,\n",
        " 1.0 + 8.470329472543e-22j,\n",
        " 1.00000000000000,\n",
        " 1.00000000000000]\n"
       ]
      }
     ],
     "prompt_number": 342
    },
    {
     "cell_type": "markdown",
     "metadata": {},
     "source": [
      "## Avoiding numerical errors in calculating $\\theta_I$\n",
      "\n",
      "To avoid numerical errors in calculating $\\theta_I$ (associated with numpy's problems with large values of hyperbolic trigonometry functions for large values of $\\theta$ (see Eric Moore's github issue). We have $\\theta_I$ is\n",
      "\n",
      "$$\\frac{\\epsilon_{\\text{s}}}{\\epsilon_{\\text{eff}}} \\left(- \\frac{\\lambda}{\\tanh{\\left (\\eta h_{\\text{s}} \\right )}} + \\frac{\\alpha \\sinh{\\left (\\eta h_{\\text{s}} \\right )} \\cosh{\\left (h_{\\text{s}} k \\right )} - \\lambda \\left(\\frac{\\lambda \\sinh{\\left (h_{\\text{s}} k \\right )}}{\\sinh{\\left (\\eta h_{\\text{s}} \\right )}} + \\cosh{\\left (\\eta h_{\\text{s}} \\right )} \\cosh{\\left (h_{\\text{s}} k \\right )} - 2\\right) + \\sinh{\\left (\\eta h_{\\text{s}} \\right )} \\sinh{\\left (h_{\\text{s}} k \\right )}}{\\alpha \\sinh{\\left (\\eta h_{\\text{s}} \\right )} \\sinh{\\left (h_{\\text{s}} k \\right )} - \\lambda \\sinh{\\left (h_{\\text{s}} k \\right )} \\cosh{\\left (\\eta h_{\\text{s}} \\right )} + \\sinh{\\left (\\eta h_{\\text{s}} \\right )} \\cosh{\\left (h_{\\text{s}} k \\right )}}\\right)$$"
     ]
    },
    {
     "cell_type": "code",
     "collapsed": false,
     "input": [
      "theta_I_numexpr = lambdify((k, E_s, D, E_eff, eta, lamda, h_s, alpha), theta_I, dummify=False, modules='numexpr')\n",
      "theta_subs = {k: 1, E_s:3-0.001j, D:0.005, E_eff:3 - 100j, eta: 2020.78311260126 + 15.182507854811j, lamda:0.0001184255261724 + 0.0164941987549306j, h_s:0.1, alpha: 0.65-0.0002j}\n",
      "theta_I_kwargs = {str(key): np.complex128(val) for key, val in theta_subs.items()}\n",
      "theta_I_all_kwargs = [copy_update_dict(theta_I_kwargs, k=np.float(_k), eta=np.complex128(_eta_), lamda=np.complex128(_lamda_))\n",
      "                          for _k, _eta_, _lamda_ in zip(all_k, all_eta, all_lamda)]\n",
      "all_theta_I_numexpr = [theta_I_numexpr(**kwargs) for kwargs in theta_I_all_kwargs]"
     ],
     "language": "python",
     "metadata": {},
     "outputs": [],
     "prompt_number": 330
    },
    {
     "cell_type": "markdown",
     "metadata": {},
     "source": [
      "In the limit,\n",
      "\n",
      "$$e^{k h_{\\text{s}}} \\gg 1$$\n",
      "\n",
      "we can approximate,\n",
      "\n",
      "$$\\coth \\eta h_\\text{s} = \\tanh \\eta h_\\text{s} = 1$$,\n",
      "\n",
      "$$\\sinh k h_\\text{s} = \\cosh k h_\\text{s} = \\exp(k h_\\text{s})/2$$,\n",
      "\n",
      "$$\\sinh \\eta h_\\text{s} = \\cosh \\eta h_\\text{s} = \\exp(\\eta h_\\text{s})/2$$"
     ]
    },
    {
     "cell_type": "code",
     "collapsed": false,
     "input": [
      "large_k = {sinh(k * h_s): exp(k *h_s)/2, cosh(k * h_s): exp(k * h_s)/2,\n",
      "           sinh(eta * h_s): exp(eta*h_s)/2, cosh(eta*h_s): exp(eta * h_s)/2,\n",
      "           coth(eta * h_s): 1, tanh(eta * h_s): 1}\n",
      "\n",
      "theta_I.subs(large_k)"
     ],
     "language": "python",
     "metadata": {},
     "outputs": [
      {
       "latex": [
        "$$\\frac{E_{s}}{E_{eff}} \\left(- \\lambda + \\frac{\\frac{\\alpha}{4} e^{\\eta h_{s}} e^{h_{s} k} - \\lambda \\left(\\lambda e^{- \\eta h_{s}} e^{h_{s} k} + \\frac{e^{\\eta h_{s}}}{4} e^{h_{s} k} - 2\\right) + \\frac{e^{\\eta h_{s}}}{4} e^{h_{s} k}}{\\frac{\\alpha}{4} e^{\\eta h_{s}} e^{h_{s} k} - \\frac{\\lambda}{4} e^{\\eta h_{s}} e^{h_{s} k} + \\frac{e^{\\eta h_{s}}}{4} e^{h_{s} k}}\\right)$$"
       ],
       "metadata": {},
       "output_type": "pyout",
       "prompt_number": 96,
       "text": [
        "    \u239b        \u03b7\u22c5h_s  h_s\u22c5k     \u239b                    \u03b7\u22c5h_s  h_s\u22c5k    \u239e    \u03b7\u22c5h_s \n",
        "    \u239c     \u03b1\u22c5\u212f     \u22c5\u212f          \u239c   -\u03b7\u22c5h_s  h_s\u22c5k   \u212f     \u22c5\u212f         \u239f   \u212f     \u22c5\n",
        "    \u239c     \u2500\u2500\u2500\u2500\u2500\u2500\u2500\u2500\u2500\u2500\u2500\u2500\u2500\u2500\u2500 - \u03bb\u22c5\u239c\u03bb\u22c5\u212f      \u22c5\u212f      + \u2500\u2500\u2500\u2500\u2500\u2500\u2500\u2500\u2500\u2500\u2500\u2500\u2500 - 2\u239f + \u2500\u2500\u2500\u2500\u2500\u2500\u2500\n",
        "    \u239c            4            \u239d                         4          \u23a0         4\n",
        "E_s\u22c5\u239c-\u03bb + \u2500\u2500\u2500\u2500\u2500\u2500\u2500\u2500\u2500\u2500\u2500\u2500\u2500\u2500\u2500\u2500\u2500\u2500\u2500\u2500\u2500\u2500\u2500\u2500\u2500\u2500\u2500\u2500\u2500\u2500\u2500\u2500\u2500\u2500\u2500\u2500\u2500\u2500\u2500\u2500\u2500\u2500\u2500\u2500\u2500\u2500\u2500\u2500\u2500\u2500\u2500\u2500\u2500\u2500\u2500\u2500\u2500\u2500\u2500\u2500\u2500\u2500\u2500\u2500\u2500\u2500\u2500\u2500\n",
        "    \u239c                    \u03b7\u22c5h_s  h_s\u22c5k      \u03b7\u22c5h_s  h_s\u22c5k    \u03b7\u22c5h_s  h_s\u22c5k       \n",
        "    \u239c                 \u03b1\u22c5\u212f     \u22c5\u212f        \u03bb\u22c5\u212f     \u22c5\u212f        \u212f     \u22c5\u212f            \n",
        "    \u239c                 \u2500\u2500\u2500\u2500\u2500\u2500\u2500\u2500\u2500\u2500\u2500\u2500\u2500\u2500\u2500 - \u2500\u2500\u2500\u2500\u2500\u2500\u2500\u2500\u2500\u2500\u2500\u2500\u2500\u2500\u2500 + \u2500\u2500\u2500\u2500\u2500\u2500\u2500\u2500\u2500\u2500\u2500\u2500\u2500       \n",
        "    \u239d                        4                 4                4             \n",
        "\u2500\u2500\u2500\u2500\u2500\u2500\u2500\u2500\u2500\u2500\u2500\u2500\u2500\u2500\u2500\u2500\u2500\u2500\u2500\u2500\u2500\u2500\u2500\u2500\u2500\u2500\u2500\u2500\u2500\u2500\u2500\u2500\u2500\u2500\u2500\u2500\u2500\u2500\u2500\u2500\u2500\u2500\u2500\u2500\u2500\u2500\u2500\u2500\u2500\u2500\u2500\u2500\u2500\u2500\u2500\u2500\u2500\u2500\u2500\u2500\u2500\u2500\u2500\u2500\u2500\u2500\u2500\u2500\u2500\u2500\u2500\u2500\u2500\u2500\u2500\u2500\u2500\u2500\n",
        "                                        E_eff                                 \n",
        "\n",
        " h_s\u22c5k\u239e\n",
        "\u212f     \u239f\n",
        "\u2500\u2500\u2500\u2500\u2500\u2500\u239f\n",
        "      \u239f\n",
        "\u2500\u2500\u2500\u2500\u2500\u2500\u239f\n",
        "      \u239f\n",
        "      \u239f\n",
        "      \u239f\n",
        "      \u23a0\n",
        "\u2500\u2500\u2500\u2500\u2500\u2500\u2500\n",
        "       "
       ]
      }
     ],
     "prompt_number": 96
    },
    {
     "cell_type": "code",
     "collapsed": false,
     "input": [
      "theta_full = theta_I.subs(intermediates).subs(intermediates)\n",
      "\n",
      "def theta_k(_k):\n",
      "    return {k: _k, E_s:3-0.001j, D:0.005, E_d:4.65, E_eff:3 - 100j, h_s:0.1, kappa:3500, E_s:3 - 0.001j, D: 0.005, omega:300}\n",
      "\n",
      "simplified_pre_sub = (E_s/E_eff*(-lamda + (1+alpha-lamda*(1 - 8*exp(-h_s*(k+eta)) + 4*lamda*exp(-2*eta*h_s)))/(1 + alpha - lamda)))\n",
      "simplified = simplified_pre_sub.subs(intermediates).subs(intermediates)"
     ],
     "language": "python",
     "metadata": {},
     "outputs": [],
     "prompt_number": 103
    },
    {
     "cell_type": "code",
     "collapsed": false,
     "input": [
      "print(theta_full.subs(theta_k(60)).evalf())\n",
      "print(simplified.subs(theta_k(60)).evalf())\n",
      "print(theta_I.subs(large_k).subs(intermediates).subs(intermediates).subs(theta_k(60)).evalf())"
     ],
     "language": "python",
     "metadata": {},
     "outputs": [
      {
       "output_type": "stream",
       "stream": "stdout",
       "text": [
        "0.0305522794210152 + 0.0288610299476901*I\n",
        "0.0305522357456196 + 0.0288606649881057*I"
       ]
      },
      {
       "output_type": "stream",
       "stream": "stdout",
       "text": [
        "\n",
        "0.0305522357456196 + 0.0288606649881057*I"
       ]
      },
      {
       "output_type": "stream",
       "stream": "stdout",
       "text": [
        "\n"
       ]
      }
     ],
     "prompt_number": 104
    },
    {
     "cell_type": "code",
     "collapsed": false,
     "input": [
      "eta.subs(intermediates).subs(intermediates).subs(theta_k(80)).evalf()"
     ],
     "language": "python",
     "metadata": {},
     "outputs": [
      {
       "latex": [
        "$$2022.36570074502 + 15.170626889408 i$$"
       ],
       "metadata": {},
       "output_type": "pyout",
       "prompt_number": 57,
       "text": [
        "2022.36570074502 + 15.170626889408\u22c5\u2148"
       ]
      }
     ],
     "prompt_number": 57
    },
    {
     "cell_type": "code",
     "collapsed": false,
     "input": [
      "def theta_k2(_k, _D, _kappa):\n",
      "    return {k: _k, E_s:3-0.001j, D:_D, E_d:4.65, E_eff:3 - 100j, h_s:0.1, kappa:_kappa, E_s:3 - 0.001j, D: 0.005, omega:300}"
     ],
     "language": "python",
     "metadata": {},
     "outputs": [],
     "prompt_number": 84
    },
    {
     "cell_type": "code",
     "collapsed": false,
     "input": [
      "print(theta_full.subs(theta_k2(60, 0.005/1e6, 3500*1e6)).evalf())\n",
      "print(simplified.subs(theta_k2(60, 0.005/1e6, 3500*1e6)).evalf())"
     ],
     "language": "python",
     "metadata": {},
     "outputs": [
      {
       "output_type": "stream",
       "stream": "stdout",
       "text": [
        "0.000909256549701857 + 0.0299730883346336*I\n",
        "0.000909211401593154 + 0.0299727236530035*I"
       ]
      },
      {
       "output_type": "stream",
       "stream": "stdout",
       "text": [
        "\n"
       ]
      }
     ],
     "prompt_number": 105
    }
   ],
   "metadata": {}
  }
 ]
}