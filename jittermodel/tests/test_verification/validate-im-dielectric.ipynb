{
 "metadata": {
  "name": "",
  "signature": "sha256:fb7c87028df5a51c567b24c77c59ed10c2de79cb5cb5d072d67838d03be5dfbd"
 },
 "nbformat": 3,
 "nbformat_minor": 0,
 "worksheets": [
  {
   "cells": [
    {
     "cell_type": "code",
     "collapsed": false,
     "input": [
      "from __future__ import division\n",
      "from sympy import *\n",
      "from sympy import init_printing\n",
      "init_printing(use_latex='mathjax')\n",
      "from sympy.utilities.autowrap import ufuncify, autowrap\n",
      "import numpy as np\n",
      "from IPython.display import display"
     ],
     "language": "python",
     "metadata": {},
     "outputs": [],
     "prompt_number": 83
    },
    {
     "cell_type": "markdown",
     "metadata": {},
     "source": [
      "# Dielectric constant functions"
     ]
    },
    {
     "cell_type": "markdown",
     "metadata": {},
     "source": [
      "Let's generate some values for $\\theta_\\text{1}$ and $\\theta_\\text{2}$ that we can check by hand."
     ]
    },
    {
     "cell_type": "code",
     "collapsed": false,
     "input": [
      "from sympy.abc import D, k, kappa, omega, lamda, eta, alpha, theta\n",
      "E_s1 = symbols('E_s1')\n",
      "E_s, E_d, E_eff, h_s, h_d= symbols('E_s E_d E_eff h_s h_d')\n",
      "k, kappa, omega, D, h = symbols('k kappa omega D h')"
     ],
     "language": "python",
     "metadata": {},
     "outputs": [],
     "prompt_number": 145
    },
    {
     "cell_type": "markdown",
     "metadata": {},
     "source": [
      "Intermediates used to calculate $\\theta_\\text{I}, \\theta_\\text{II}$:"
     ]
    },
    {
     "cell_type": "code",
     "collapsed": false,
     "input": [
      "intermediates = {alpha : E_eff / E_d,\n",
      "eta: sqrt(k**2 + kappa**2 / E_s + omega*1j / D),\n",
      "lamda: (1 - E_eff / E_s)*(k / eta)}\n",
      "for key, val in intermediates.viewitems():\n",
      "    display(Eq(key, val))"
     ],
     "language": "python",
     "metadata": {},
     "outputs": [
      {
       "latex": [
        "$$\\lambda = \\frac{k}{\\eta} \\left(- \\frac{E_{eff}}{E_{s}} + 1\\right)$$"
       ],
       "metadata": {},
       "output_type": "display_data",
       "text": [
        "      \u239b  E_eff    \u239e\n",
        "    k\u22c5\u239c- \u2500\u2500\u2500\u2500\u2500 + 1\u239f\n",
        "      \u239d   E_s     \u23a0\n",
        "\u03bb = \u2500\u2500\u2500\u2500\u2500\u2500\u2500\u2500\u2500\u2500\u2500\u2500\u2500\u2500\u2500\n",
        "           \u03b7       "
       ]
      },
      {
       "latex": [
        "$$\\alpha = \\frac{E_{eff}}{E_{d}}$$"
       ],
       "metadata": {},
       "output_type": "display_data",
       "text": [
        "    E_eff\n",
        "\u03b1 = \u2500\u2500\u2500\u2500\u2500\n",
        "     E_d "
       ]
      },
      {
       "latex": [
        "$$\\eta = \\sqrt{k^{2} + \\frac{\\kappa^{2}}{E_{s}} + \\frac{1.0 i}{D} \\omega}$$"
       ],
       "metadata": {},
       "output_type": "display_data",
       "text": [
        "         ____________________\n",
        "        \u2571        2           \n",
        "       \u2571   2    \u03ba    1.0\u22c5\u2148\u22c5\u03c9 \n",
        "\u03b7 =   \u2571   k  + \u2500\u2500\u2500 + \u2500\u2500\u2500\u2500\u2500\u2500\u2500 \n",
        "    \u2572\u2571         E_s      D    "
       ]
      }
     ],
     "prompt_number": 146
    },
    {
     "cell_type": "code",
     "collapsed": false,
     "input": [
      "theta_I_bracket_term = (-lamda / tanh(eta * h_s) +\n",
      "                        (sinh(k * h_s) * sinh(eta * h_s) + alpha * cosh(k*h_s) * sinh(eta * h_s) - \n",
      "                         lamda * (cosh(k*h_s) * cosh(eta*h_s) - 2 + lamda * sinh(k*h_s)/sinh(eta *h_s)))/\n",
      "                        (cosh(k*h_s)*sinh(eta*h_s) + alpha * sinh(k*h_s) * sinh(eta*h_s) - lamda * sinh(k * h_s) * cosh(eta * h_s))\n",
      "                        )"
     ],
     "language": "python",
     "metadata": {},
     "outputs": [],
     "prompt_number": 147
    },
    {
     "cell_type": "code",
     "collapsed": false,
     "input": [
      "theta_I = E_s / E_eff * theta_I_bracket_term"
     ],
     "language": "python",
     "metadata": {},
     "outputs": [],
     "prompt_number": 148
    },
    {
     "cell_type": "code",
     "collapsed": false,
     "input": [
      "theta_I"
     ],
     "language": "python",
     "metadata": {},
     "outputs": [
      {
       "latex": [
        "$$\\frac{E_{s}}{E_{eff}} \\left(- \\frac{\\lambda}{\\tanh{\\left (\\eta h_{s} \\right )}} + \\frac{\\alpha \\sinh{\\left (\\eta h_{s} \\right )} \\cosh{\\left (h_{s} k \\right )} - \\lambda \\left(\\frac{\\lambda \\sinh{\\left (h_{s} k \\right )}}{\\sinh{\\left (\\eta h_{s} \\right )}} + \\cosh{\\left (\\eta h_{s} \\right )} \\cosh{\\left (h_{s} k \\right )} - 2\\right) + \\sinh{\\left (\\eta h_{s} \\right )} \\sinh{\\left (h_{s} k \\right )}}{\\alpha \\sinh{\\left (\\eta h_{s} \\right )} \\sinh{\\left (h_{s} k \\right )} - \\lambda \\sinh{\\left (h_{s} k \\right )} \\cosh{\\left (\\eta h_{s} \\right )} + \\sinh{\\left (\\eta h_{s} \\right )} \\cosh{\\left (h_{s} k \\right )}}\\right)$$"
       ],
       "metadata": {},
       "output_type": "pyout",
       "prompt_number": 161,
       "text": [
        "    \u239b                                              \u239b\u03bb\u22c5sinh(h_s\u22c5k)             \n",
        "    \u239c                \u03b1\u22c5sinh(\u03b7\u22c5h_s)\u22c5cosh(h_s\u22c5k) - \u03bb\u22c5\u239c\u2500\u2500\u2500\u2500\u2500\u2500\u2500\u2500\u2500\u2500\u2500\u2500\u2500 + cosh(\u03b7\u22c5h_s\n",
        "    \u239c       \u03bb                                      \u239d sinh(\u03b7\u22c5h_s)              \n",
        "E_s\u22c5\u239c- \u2500\u2500\u2500\u2500\u2500\u2500\u2500\u2500\u2500\u2500\u2500 + \u2500\u2500\u2500\u2500\u2500\u2500\u2500\u2500\u2500\u2500\u2500\u2500\u2500\u2500\u2500\u2500\u2500\u2500\u2500\u2500\u2500\u2500\u2500\u2500\u2500\u2500\u2500\u2500\u2500\u2500\u2500\u2500\u2500\u2500\u2500\u2500\u2500\u2500\u2500\u2500\u2500\u2500\u2500\u2500\u2500\u2500\u2500\u2500\u2500\u2500\u2500\u2500\u2500\u2500\u2500\u2500\u2500\n",
        "    \u239d  tanh(\u03b7\u22c5h_s)              \u03b1\u22c5sinh(\u03b7\u22c5h_s)\u22c5sinh(h_s\u22c5k) - \u03bb\u22c5sinh(h_s\u22c5k)\u22c5cosh\n",
        "\u2500\u2500\u2500\u2500\u2500\u2500\u2500\u2500\u2500\u2500\u2500\u2500\u2500\u2500\u2500\u2500\u2500\u2500\u2500\u2500\u2500\u2500\u2500\u2500\u2500\u2500\u2500\u2500\u2500\u2500\u2500\u2500\u2500\u2500\u2500\u2500\u2500\u2500\u2500\u2500\u2500\u2500\u2500\u2500\u2500\u2500\u2500\u2500\u2500\u2500\u2500\u2500\u2500\u2500\u2500\u2500\u2500\u2500\u2500\u2500\u2500\u2500\u2500\u2500\u2500\u2500\u2500\u2500\u2500\u2500\u2500\u2500\u2500\u2500\u2500\u2500\u2500\u2500\n",
        "                                                           E_eff              \n",
        "\n",
        "                 \u239e                          \u239e\n",
        ")\u22c5cosh(h_s\u22c5k) - 2\u239f + sinh(\u03b7\u22c5h_s)\u22c5sinh(h_s\u22c5k)\u239f\n",
        "                 \u23a0                          \u239f\n",
        "\u2500\u2500\u2500\u2500\u2500\u2500\u2500\u2500\u2500\u2500\u2500\u2500\u2500\u2500\u2500\u2500\u2500\u2500\u2500\u2500\u2500\u2500\u2500\u2500\u2500\u2500\u2500\u2500\u2500\u2500\u2500\u2500\u2500\u2500\u2500\u2500\u2500\u2500\u2500\u2500\u2500\u2500\u2500\u2500\u239f\n",
        "(\u03b7\u22c5h_s) + sinh(\u03b7\u22c5h_s)\u22c5cosh(h_s\u22c5k)           \u23a0\n",
        "\u2500\u2500\u2500\u2500\u2500\u2500\u2500\u2500\u2500\u2500\u2500\u2500\u2500\u2500\u2500\u2500\u2500\u2500\u2500\u2500\u2500\u2500\u2500\u2500\u2500\u2500\u2500\u2500\u2500\u2500\u2500\u2500\u2500\u2500\u2500\u2500\u2500\u2500\u2500\u2500\u2500\u2500\u2500\u2500\u2500\n",
        "                                             "
       ]
      }
     ],
     "prompt_number": 161
    },
    {
     "cell_type": "code",
     "collapsed": false,
     "input": [
      "theta_I_python = lambdify((k, E_s, E_eff, eta, h_s, alpha, lamda), theta_I, default_array=True)\n",
      "theta_I_c = autowrap(theta_I, language='C', backend='Cython', args=(k, E_s, E_eff, eta, h_s, alpha, lamda))\n",
      "theta_I_f = autowrap(theta_I, language='F95', backend='f2py', args=(k, E_s, E_eff, eta, h_s, alpha, lamda))"
     ],
     "language": "python",
     "metadata": {},
     "outputs": [],
     "prompt_number": 150
    },
    {
     "cell_type": "code",
     "collapsed": false,
     "input": [
      "theta_II = E_s / E_d * (E_eff + (1-lamda)*E_d/tanh(k*h_d))/(E_eff / tanh(k*h_d) + (1 - lamda) * E_d)\n",
      "theta_II"
     ],
     "language": "python",
     "metadata": {},
     "outputs": [
      {
       "latex": [
        "$$\\frac{E_{s} \\left(\\frac{E_{d} \\left(- \\lambda + 1\\right)}{\\tanh{\\left (h_{d} k \\right )}} + E_{eff}\\right)}{E_{d} \\left(E_{d} \\left(- \\lambda + 1\\right) + \\frac{E_{eff}}{\\tanh{\\left (h_{d} k \\right )}}\\right)}$$"
       ],
       "metadata": {},
       "output_type": "pyout",
       "prompt_number": 159,
       "text": [
        "       \u239bE_d\u22c5(-\u03bb + 1)        \u239e   \n",
        "   E_s\u22c5\u239c\u2500\u2500\u2500\u2500\u2500\u2500\u2500\u2500\u2500\u2500\u2500\u2500 + E_eff\u239f   \n",
        "       \u239dtanh(h_d\u22c5k)         \u23a0   \n",
        "\u2500\u2500\u2500\u2500\u2500\u2500\u2500\u2500\u2500\u2500\u2500\u2500\u2500\u2500\u2500\u2500\u2500\u2500\u2500\u2500\u2500\u2500\u2500\u2500\u2500\u2500\u2500\u2500\u2500\u2500\u2500\u2500\n",
        "    \u239b                  E_eff   \u239e\n",
        "E_d\u22c5\u239cE_d\u22c5(-\u03bb + 1) + \u2500\u2500\u2500\u2500\u2500\u2500\u2500\u2500\u2500\u2500\u2500\u239f\n",
        "    \u239d               tanh(h_d\u22c5k)\u23a0"
       ]
      }
     ],
     "prompt_number": 159
    },
    {
     "cell_type": "code",
     "collapsed": false,
     "input": [
      "{k:0.01, E_s:3.5-0.05j, E_d: 3.5-0.05j, E_eff: 3.5 - 0.5j, }"
     ],
     "language": "python",
     "metadata": {},
     "outputs": []
    },
    {
     "cell_type": "code",
     "collapsed": false,
     "input": [
      "%timeit theta_I_python(1, 3, 2, 0.2, 4, 1.02, 1.8)"
     ],
     "language": "python",
     "metadata": {},
     "outputs": [
      {
       "output_type": "stream",
       "stream": "stdout",
       "text": [
        "100000 loops, best of 3: 3.18 \u00b5s per loop\n"
       ]
      }
     ],
     "prompt_number": 152
    },
    {
     "cell_type": "code",
     "collapsed": false,
     "input": [
      "%timeit theta_I_c(1, 3, 2, 0.2, 4, 1.02, 1.8)"
     ],
     "language": "python",
     "metadata": {},
     "outputs": [
      {
       "output_type": "stream",
       "stream": "stdout",
       "text": [
        "1000000 loops, best of 3: 472 ns per loop\n"
       ]
      }
     ],
     "prompt_number": 153
    },
    {
     "cell_type": "code",
     "collapsed": false,
     "input": [
      "%timeit theta_I_f(1, 3, 2, 0.2, 4, 1.02, 1.8)"
     ],
     "language": "python",
     "metadata": {},
     "outputs": [
      {
       "output_type": "stream",
       "stream": "stdout",
       "text": [
        "1000000 loops, best of 3: 468 ns per loop\n"
       ]
      }
     ],
     "prompt_number": 154
    },
    {
     "cell_type": "code",
     "collapsed": false,
     "input": [
      "((E_s - theta) / (E_s + theta))"
     ],
     "language": "python",
     "metadata": {},
     "outputs": [
      {
       "latex": [
        "$$\\frac{E_{s} - \\theta}{E_{s} + \\theta}$$"
       ],
       "metadata": {},
       "output_type": "pyout",
       "prompt_number": 21,
       "text": [
        "E_s - \u03b8\n",
        "\u2500\u2500\u2500\u2500\u2500\u2500\u2500\n",
        "E_s + \u03b8"
       ]
      }
     ],
     "prompt_number": 21
    },
    {
     "cell_type": "code",
     "collapsed": false,
     "input": [
      "from sympy.functions.elementary.complexes import im"
     ],
     "language": "python",
     "metadata": {},
     "outputs": [],
     "prompt_number": 168
    },
    {
     "cell_type": "code",
     "collapsed": false,
     "input": [
      "complex_result = (E_s - theta) / (E_s + theta)"
     ],
     "language": "python",
     "metadata": {},
     "outputs": [],
     "prompt_number": 22
    },
    {
     "cell_type": "code",
     "collapsed": false,
     "input": [
      "dielectric_I = complex_result.subs({theta:theta_I}).subs(intermediates).subs(intermediates)"
     ],
     "language": "python",
     "metadata": {},
     "outputs": [],
     "prompt_number": 37
    },
    {
     "cell_type": "code",
     "collapsed": false,
     "input": [
      "dielectric_args = (k, omega, kappa, E_s, E_d, E_eff, h_s, D)\n",
      "dielectric_I_python = lambdify(dielectric_args, dielectric_I, dummify=False, modules=\"numpy\")"
     ],
     "language": "python",
     "metadata": {},
     "outputs": [],
     "prompt_number": 142
    },
    {
     "cell_type": "code",
     "collapsed": false,
     "input": [
      "dielectric_I_python"
     ],
     "language": "python",
     "metadata": {},
     "outputs": [
      {
       "metadata": {},
       "output_type": "pyout",
       "prompt_number": 143,
       "text": [
        "<function numpy.<lambda>>"
       ]
      }
     ],
     "prompt_number": 143
    },
    {
     "cell_type": "code",
     "collapsed": false,
     "input": [
      "dielectric_I_c = autowrap??"
     ],
     "language": "python",
     "metadata": {},
     "outputs": [],
     "prompt_number": 134
    },
    {
     "cell_type": "code",
     "collapsed": false,
     "input": [
      "dielectric_I_c = autowrap"
     ],
     "language": "python",
     "metadata": {},
     "outputs": []
    },
    {
     "cell_type": "code",
     "collapsed": false,
     "input": [
      "dielectric_I_c = autowrap"
     ],
     "language": "python",
     "metadata": {},
     "outputs": []
    },
    {
     "cell_type": "code",
     "collapsed": false,
     "input": [
      "dielectric_I_c = autowrap(args=dielectric_args, expr=dielectric_I, language='C', backend='Cython')"
     ],
     "language": "python",
     "metadata": {},
     "outputs": [
      {
       "ename": "CodeWrapError",
       "evalue": "Error while executing command: /usr/local/opt/python/bin/python2.7 setup.py build_ext --inplace. Command output is:\nrunning build_ext\ncythoning wrapper_module_6.pyx to wrapper_module_6.c\nbuilding 'wrapper_module_6' extension\ncreating build\ncreating build/temp.macosx-10.9-x86_64-2.7\ngcc-4.8 -fno-strict-aliasing -fno-common -dynamic -I/usr/local/include -I/usr/local/opt/sqlite/include -DNDEBUG -g -fwrapv -O3 -Wall -Wstrict-prototypes -I/usr/local/Cellar/python/2.7.8_1/Frameworks/Python.framework/Versions/2.7/include/python2.7 -c wrapper_module_6.c -o build/temp.macosx-10.9-x86_64-2.7/wrapper_module_6.o -std=c99\ngcc-4.8 -fno-strict-aliasing -fno-common -dynamic -I/usr/local/include -I/usr/local/opt/sqlite/include -DNDEBUG -g -fwrapv -O3 -Wall -Wstrict-prototypes -I/usr/local/Cellar/python/2.7.8_1/Frameworks/Python.framework/Versions/2.7/include/python2.7 -c wrapped_code_6.c -o build/temp.macosx-10.9-x86_64-2.7/wrapped_code_6.o -std=c99\nwrapped_code_6.c: In function 'autofunc':\nwrapped_code_6.c:5:96: error: 'I' undeclared (first use in this function)\n    autofunc_result = (E_s - E_s*(-k*(-E_eff/E_s + 1)/(sqrt(pow(k, 2) + pow(kappa, 2)/E_s + 1.0*I*omega/D)*tanh(h_s*sqrt(pow(k, 2) + pow(kappa, 2)/E_s + 1.0*I*omega/D))) + (-k*(-E_eff/E_s + 1)*(k*(-E_eff/E_s + 1)*sinh(h_s*k)/(sqrt(pow(k, 2) + pow(kappa, 2)/E_s + 1.0*I*omega/D)*sinh(h_s*sqrt(pow(k, 2) + pow(kappa, 2)/E_s + 1.0*I*omega/D))) + cosh(h_s*k)*cosh(h_s*sqrt(pow(k, 2) + pow(kappa, 2)/E_s + 1.0*I*omega/D)) - 2)/sqrt(pow(k, 2) + pow(kappa, 2)/E_s + 1.0*I*omega/D) + sinh(h_s*k)*sinh(h_s*sqrt(pow(k, 2) + pow(kappa, 2)/E_s + 1.0*I*omega/D)) + E_eff*sinh(h_s*sqrt(pow(k, 2) + pow(kappa, 2)/E_s + 1.0*I*omega/D))*cosh(h_s*k)/E_d)/(-k*(-E_eff/E_s + 1)*sinh(h_s*k)*cosh(h_s*sqrt(pow(k, 2) + pow(kappa, 2)/E_s + 1.0*I*omega/D))/sqrt(pow(k, 2) + pow(kappa, 2)/E_s + 1.0*I*omega/D) + sinh(h_s*sqrt(pow(k, 2) + pow(kappa, 2)/E_s + 1.0*I*omega/D))*cosh(h_s*k) + E_eff*sinh(h_s*k)*sinh(h_s*sqrt(pow(k, 2) + pow(kappa, 2)/E_s + 1.0*I*omega/D))/E_d))/E_eff)/(E_s + E_s*(-k*(-E_eff/E_s + 1)/(sqrt(pow(k, 2) + pow(kappa, 2)/E_s + 1.0*I*omega/D)*tanh(h_s*sqrt(pow(k, 2) + pow(kappa, 2)/E_s + 1.0*I*omega/D))) + (-k*(-E_eff/E_s + 1)*(k*(-E_eff/E_s + 1)*sinh(h_s*k)/(sqrt(pow(k, 2) + pow(kappa, 2)/E_s + 1.0*I*omega/D)*sinh(h_s*sqrt(pow(k, 2) + pow(kappa, 2)/E_s + 1.0*I*omega/D))) + cosh(h_s*k)*cosh(h_s*sqrt(pow(k, 2) + pow(kappa, 2)/E_s + 1.0*I*omega/D)) - 2)/sqrt(pow(k, 2) + pow(kappa, 2)/E_s + 1.0*I*omega/D) + sinh(h_s*k)*sinh(h_s*sqrt(pow(k, 2) + pow(kappa, 2)/E_s + 1.0*I*omega/D)) + E_eff*sinh(h_s*sqrt(pow(k, 2) + pow(kappa, 2)/E_s + 1.0*I*omega/D))*cosh(h_s*k)/E_d)/(-k*(-E_eff/E_s + 1)*sinh(h_s*k)*cosh(h_s*sqrt(pow(k, 2) + pow(kappa, 2)/E_s + 1.0*I*omega/D))/sqrt(pow(k, 2) + pow(kappa, 2)/E_s + 1.0*I*omega/D) + sinh(h_s*sqrt(pow(k, 2) + pow(kappa, 2)/E_s + 1.0*I*omega/D))*cosh(h_s*k) + E_eff*sinh(h_s*k)*sinh(h_s*sqrt(pow(k, 2) + pow(kappa, 2)/E_s + 1.0*I*omega/D))/E_d))/E_eff);\n                                                                                                ^\nwrapped_code_6.c:5:96: note: each undeclared identifier is reported only once for each function it appears in\nerror: command 'gcc-4.8' failed with exit status 1\n",
       "output_type": "pyerr",
       "traceback": [
        "\u001b[0;31m---------------------------------------------------------------------------\u001b[0m\n\u001b[0;31mCodeWrapError\u001b[0m                             Traceback (most recent call last)",
        "\u001b[0;32m<ipython-input-137-8e0ab2bf3439>\u001b[0m in \u001b[0;36m<module>\u001b[0;34m()\u001b[0m\n\u001b[0;32m----> 1\u001b[0;31m \u001b[0mdielectric_I_c\u001b[0m \u001b[0;34m=\u001b[0m \u001b[0mautowrap\u001b[0m\u001b[0;34m(\u001b[0m\u001b[0margs\u001b[0m\u001b[0;34m=\u001b[0m\u001b[0mdielectric_args\u001b[0m\u001b[0;34m,\u001b[0m \u001b[0mexpr\u001b[0m\u001b[0;34m=\u001b[0m\u001b[0mdielectric_I\u001b[0m\u001b[0;34m,\u001b[0m \u001b[0mlanguage\u001b[0m\u001b[0;34m=\u001b[0m\u001b[0;34m'C'\u001b[0m\u001b[0;34m,\u001b[0m \u001b[0mbackend\u001b[0m\u001b[0;34m=\u001b[0m\u001b[0;34m'Cython'\u001b[0m\u001b[0;34m)\u001b[0m\u001b[0;34m\u001b[0m\u001b[0m\n\u001b[0m",
        "\u001b[0;32m/usr/local/lib/python2.7/site-packages/sympy/core/cache.pyc\u001b[0m in \u001b[0;36mwrapper\u001b[0;34m(*args, **kwargs)\u001b[0m\n\u001b[1;32m     89\u001b[0m             \u001b[0;32mdef\u001b[0m \u001b[0mwrapper\u001b[0m\u001b[0;34m(\u001b[0m\u001b[0;34m*\u001b[0m\u001b[0margs\u001b[0m\u001b[0;34m,\u001b[0m \u001b[0;34m**\u001b[0m\u001b[0mkwargs\u001b[0m\u001b[0;34m)\u001b[0m\u001b[0;34m:\u001b[0m\u001b[0;34m\u001b[0m\u001b[0m\n\u001b[1;32m     90\u001b[0m                 \u001b[0;32mtry\u001b[0m\u001b[0;34m:\u001b[0m\u001b[0;34m\u001b[0m\u001b[0m\n\u001b[0;32m---> 91\u001b[0;31m                     \u001b[0mretval\u001b[0m \u001b[0;34m=\u001b[0m \u001b[0mcfunc\u001b[0m\u001b[0;34m(\u001b[0m\u001b[0;34m*\u001b[0m\u001b[0margs\u001b[0m\u001b[0;34m,\u001b[0m \u001b[0;34m**\u001b[0m\u001b[0mkwargs\u001b[0m\u001b[0;34m)\u001b[0m\u001b[0;34m\u001b[0m\u001b[0m\n\u001b[0m\u001b[1;32m     92\u001b[0m                 \u001b[0;32mexcept\u001b[0m \u001b[0mTypeError\u001b[0m\u001b[0;34m:\u001b[0m\u001b[0;34m\u001b[0m\u001b[0m\n\u001b[1;32m     93\u001b[0m                     \u001b[0mretval\u001b[0m \u001b[0;34m=\u001b[0m \u001b[0mfunc\u001b[0m\u001b[0;34m(\u001b[0m\u001b[0;34m*\u001b[0m\u001b[0margs\u001b[0m\u001b[0;34m,\u001b[0m \u001b[0;34m**\u001b[0m\u001b[0mkwargs\u001b[0m\u001b[0;34m)\u001b[0m\u001b[0;34m\u001b[0m\u001b[0m\n",
        "\u001b[0;32m/usr/local/lib/python2.7/site-packages/sympy/core/compatibility.pyc\u001b[0m in \u001b[0;36mwrapper\u001b[0;34m(*args, **kwds)\u001b[0m\n\u001b[1;32m    870\u001b[0m                         \u001b[0mstats\u001b[0m\u001b[0;34m[\u001b[0m\u001b[0mHITS\u001b[0m\u001b[0;34m]\u001b[0m \u001b[0;34m+=\u001b[0m \u001b[0;36m1\u001b[0m\u001b[0;34m\u001b[0m\u001b[0m\n\u001b[1;32m    871\u001b[0m                         \u001b[0;32mreturn\u001b[0m \u001b[0mresult\u001b[0m\u001b[0;34m\u001b[0m\u001b[0m\n\u001b[0;32m--> 872\u001b[0;31m                 \u001b[0mresult\u001b[0m \u001b[0;34m=\u001b[0m \u001b[0muser_function\u001b[0m\u001b[0;34m(\u001b[0m\u001b[0;34m*\u001b[0m\u001b[0margs\u001b[0m\u001b[0;34m,\u001b[0m \u001b[0;34m**\u001b[0m\u001b[0mkwds\u001b[0m\u001b[0;34m)\u001b[0m\u001b[0;34m\u001b[0m\u001b[0m\n\u001b[0m\u001b[1;32m    873\u001b[0m                 \u001b[0;32mwith\u001b[0m \u001b[0mlock\u001b[0m\u001b[0;34m:\u001b[0m\u001b[0;34m\u001b[0m\u001b[0m\n\u001b[1;32m    874\u001b[0m                     \u001b[0mroot\u001b[0m\u001b[0;34m,\u001b[0m \u001b[0;34m=\u001b[0m \u001b[0mnonlocal_root\u001b[0m\u001b[0;34m\u001b[0m\u001b[0m\n",
        "\u001b[0;32m/usr/local/lib/python2.7/site-packages/sympy/utilities/autowrap.pyc\u001b[0m in \u001b[0;36mautowrap\u001b[0;34m(expr, language, backend, tempdir, args, flags, verbose, helpers)\u001b[0m\n\u001b[1;32m    507\u001b[0m         \u001b[0mhelps\u001b[0m\u001b[0;34m.\u001b[0m\u001b[0mappend\u001b[0m\u001b[0;34m(\u001b[0m\u001b[0mRoutine\u001b[0m\u001b[0;34m(\u001b[0m\u001b[0mname\u001b[0m\u001b[0;34m,\u001b[0m \u001b[0mexpr\u001b[0m\u001b[0;34m,\u001b[0m \u001b[0margs\u001b[0m\u001b[0;34m)\u001b[0m\u001b[0;34m)\u001b[0m\u001b[0;34m\u001b[0m\u001b[0m\n\u001b[1;32m    508\u001b[0m \u001b[0;34m\u001b[0m\u001b[0m\n\u001b[0;32m--> 509\u001b[0;31m     \u001b[0;32mreturn\u001b[0m \u001b[0mcode_wrapper\u001b[0m\u001b[0;34m.\u001b[0m\u001b[0mwrap_code\u001b[0m\u001b[0;34m(\u001b[0m\u001b[0mroutine\u001b[0m\u001b[0;34m,\u001b[0m \u001b[0mhelpers\u001b[0m\u001b[0;34m=\u001b[0m\u001b[0mhelps\u001b[0m\u001b[0;34m)\u001b[0m\u001b[0;34m\u001b[0m\u001b[0m\n\u001b[0m\u001b[1;32m    510\u001b[0m \u001b[0;34m\u001b[0m\u001b[0m\n\u001b[1;32m    511\u001b[0m \u001b[0;34m\u001b[0m\u001b[0m\n",
        "\u001b[0;32m/usr/local/lib/python2.7/site-packages/sympy/utilities/autowrap.pyc\u001b[0m in \u001b[0;36mwrap_code\u001b[0;34m(self, routine, helpers)\u001b[0m\n\u001b[1;32m    143\u001b[0m             \u001b[0mself\u001b[0m\u001b[0;34m.\u001b[0m\u001b[0m_generate_code\u001b[0m\u001b[0;34m(\u001b[0m\u001b[0mroutine\u001b[0m\u001b[0;34m,\u001b[0m \u001b[0mhelpers\u001b[0m\u001b[0;34m)\u001b[0m\u001b[0;34m\u001b[0m\u001b[0m\n\u001b[1;32m    144\u001b[0m             \u001b[0mself\u001b[0m\u001b[0;34m.\u001b[0m\u001b[0m_prepare_files\u001b[0m\u001b[0;34m(\u001b[0m\u001b[0mroutine\u001b[0m\u001b[0;34m)\u001b[0m\u001b[0;34m\u001b[0m\u001b[0m\n\u001b[0;32m--> 145\u001b[0;31m             \u001b[0mself\u001b[0m\u001b[0;34m.\u001b[0m\u001b[0m_process_files\u001b[0m\u001b[0;34m(\u001b[0m\u001b[0mroutine\u001b[0m\u001b[0;34m)\u001b[0m\u001b[0;34m\u001b[0m\u001b[0m\n\u001b[0m\u001b[1;32m    146\u001b[0m             \u001b[0mmod\u001b[0m \u001b[0;34m=\u001b[0m \u001b[0m__import__\u001b[0m\u001b[0;34m(\u001b[0m\u001b[0mself\u001b[0m\u001b[0;34m.\u001b[0m\u001b[0mmodule_name\u001b[0m\u001b[0;34m)\u001b[0m\u001b[0;34m\u001b[0m\u001b[0m\n\u001b[1;32m    147\u001b[0m         \u001b[0;32mfinally\u001b[0m\u001b[0;34m:\u001b[0m\u001b[0;34m\u001b[0m\u001b[0m\n",
        "\u001b[0;32m/usr/local/lib/python2.7/site-packages/sympy/utilities/autowrap.pyc\u001b[0m in \u001b[0;36m_process_files\u001b[0;34m(self, routine)\u001b[0m\n\u001b[1;32m    162\u001b[0m             raise CodeWrapError(\n\u001b[1;32m    163\u001b[0m                 \"Error while executing command: %s. Command output is:\\n%s\" % (\n\u001b[0;32m--> 164\u001b[0;31m                     \" \".join(command), e.output.decode()))\n\u001b[0m\u001b[1;32m    165\u001b[0m         \u001b[0;32mif\u001b[0m \u001b[0;32mnot\u001b[0m \u001b[0mself\u001b[0m\u001b[0;34m.\u001b[0m\u001b[0mquiet\u001b[0m\u001b[0;34m:\u001b[0m\u001b[0;34m\u001b[0m\u001b[0m\n\u001b[1;32m    166\u001b[0m             \u001b[0;32mprint\u001b[0m\u001b[0;34m(\u001b[0m\u001b[0mretoutput\u001b[0m\u001b[0;34m)\u001b[0m\u001b[0;34m\u001b[0m\u001b[0m\n",
        "\u001b[0;31mCodeWrapError\u001b[0m: Error while executing command: /usr/local/opt/python/bin/python2.7 setup.py build_ext --inplace. Command output is:\nrunning build_ext\ncythoning wrapper_module_6.pyx to wrapper_module_6.c\nbuilding 'wrapper_module_6' extension\ncreating build\ncreating build/temp.macosx-10.9-x86_64-2.7\ngcc-4.8 -fno-strict-aliasing -fno-common -dynamic -I/usr/local/include -I/usr/local/opt/sqlite/include -DNDEBUG -g -fwrapv -O3 -Wall -Wstrict-prototypes -I/usr/local/Cellar/python/2.7.8_1/Frameworks/Python.framework/Versions/2.7/include/python2.7 -c wrapper_module_6.c -o build/temp.macosx-10.9-x86_64-2.7/wrapper_module_6.o -std=c99\ngcc-4.8 -fno-strict-aliasing -fno-common -dynamic -I/usr/local/include -I/usr/local/opt/sqlite/include -DNDEBUG -g -fwrapv -O3 -Wall -Wstrict-prototypes -I/usr/local/Cellar/python/2.7.8_1/Frameworks/Python.framework/Versions/2.7/include/python2.7 -c wrapped_code_6.c -o build/temp.macosx-10.9-x86_64-2.7/wrapped_code_6.o -std=c99\nwrapped_code_6.c: In function 'autofunc':\nwrapped_code_6.c:5:96: error: 'I' undeclared (first use in this function)\n    autofunc_result = (E_s - E_s*(-k*(-E_eff/E_s + 1)/(sqrt(pow(k, 2) + pow(kappa, 2)/E_s + 1.0*I*omega/D)*tanh(h_s*sqrt(pow(k, 2) + pow(kappa, 2)/E_s + 1.0*I*omega/D))) + (-k*(-E_eff/E_s + 1)*(k*(-E_eff/E_s + 1)*sinh(h_s*k)/(sqrt(pow(k, 2) + pow(kappa, 2)/E_s + 1.0*I*omega/D)*sinh(h_s*sqrt(pow(k, 2) + pow(kappa, 2)/E_s + 1.0*I*omega/D))) + cosh(h_s*k)*cosh(h_s*sqrt(pow(k, 2) + pow(kappa, 2)/E_s + 1.0*I*omega/D)) - 2)/sqrt(pow(k, 2) + pow(kappa, 2)/E_s + 1.0*I*omega/D) + sinh(h_s*k)*sinh(h_s*sqrt(pow(k, 2) + pow(kappa, 2)/E_s + 1.0*I*omega/D)) + E_eff*sinh(h_s*sqrt(pow(k, 2) + pow(kappa, 2)/E_s + 1.0*I*omega/D))*cosh(h_s*k)/E_d)/(-k*(-E_eff/E_s + 1)*sinh(h_s*k)*cosh(h_s*sqrt(pow(k, 2) + pow(kappa, 2)/E_s + 1.0*I*omega/D))/sqrt(pow(k, 2) + pow(kappa, 2)/E_s + 1.0*I*omega/D) + sinh(h_s*sqrt(pow(k, 2) + pow(kappa, 2)/E_s + 1.0*I*omega/D))*cosh(h_s*k) + E_eff*sinh(h_s*k)*sinh(h_s*sqrt(pow(k, 2) + pow(kappa, 2)/E_s + 1.0*I*omega/D))/E_d))/E_eff)/(E_s + E_s*(-k*(-E_eff/E_s + 1)/(sqrt(pow(k, 2) + pow(kappa, 2)/E_s + 1.0*I*omega/D)*tanh(h_s*sqrt(pow(k, 2) + pow(kappa, 2)/E_s + 1.0*I*omega/D))) + (-k*(-E_eff/E_s + 1)*(k*(-E_eff/E_s + 1)*sinh(h_s*k)/(sqrt(pow(k, 2) + pow(kappa, 2)/E_s + 1.0*I*omega/D)*sinh(h_s*sqrt(pow(k, 2) + pow(kappa, 2)/E_s + 1.0*I*omega/D))) + cosh(h_s*k)*cosh(h_s*sqrt(pow(k, 2) + pow(kappa, 2)/E_s + 1.0*I*omega/D)) - 2)/sqrt(pow(k, 2) + pow(kappa, 2)/E_s + 1.0*I*omega/D) + sinh(h_s*k)*sinh(h_s*sqrt(pow(k, 2) + pow(kappa, 2)/E_s + 1.0*I*omega/D)) + E_eff*sinh(h_s*sqrt(pow(k, 2) + pow(kappa, 2)/E_s + 1.0*I*omega/D))*cosh(h_s*k)/E_d)/(-k*(-E_eff/E_s + 1)*sinh(h_s*k)*cosh(h_s*sqrt(pow(k, 2) + pow(kappa, 2)/E_s + 1.0*I*omega/D))/sqrt(pow(k, 2) + pow(kappa, 2)/E_s + 1.0*I*omega/D) + sinh(h_s*sqrt(pow(k, 2) + pow(kappa, 2)/E_s + 1.0*I*omega/D))*cosh(h_s*k) + E_eff*sinh(h_s*k)*sinh(h_s*sqrt(pow(k, 2) + pow(kappa, 2)/E_s + 1.0*I*omega/D))/E_d))/E_eff);\n                                                                                                ^\nwrapped_code_6.c:5:96: note: each undeclared identifier is reported only once for each function it appears in\nerror: command 'gcc-4.8' failed with exit status 1\n"
       ]
      }
     ],
     "prompt_number": 137
    },
    {
     "cell_type": "code",
     "collapsed": false,
     "input": [
      "%timeit dielectric_I_python(k=1.1, omega=432, kappa=0.3, E_s=3-0.1j, E_d=4-1j, E_eff=4-5j, h_s=0.07, D=0.0077)"
     ],
     "language": "python",
     "metadata": {},
     "outputs": [
      {
       "output_type": "stream",
       "stream": "stdout",
       "text": [
        "10000 loops, best of 3: 143 \u00b5s per loop\n"
       ]
      }
     ],
     "prompt_number": 125
    },
    {
     "cell_type": "code",
     "collapsed": false,
     "input": [
      "dielectric_I_python(k=1.1, omega=432, kappa=0.3, E_s=3-0.1j, E_d=4-1j, E_eff=4-5j, h_s=0.07, D=0.0077)"
     ],
     "language": "python",
     "metadata": {},
     "outputs": [
      {
       "metadata": {},
       "output_type": "pyout",
       "prompt_number": 135,
       "text": [
        "(0.6365044412573243-0.10023319309176819j)"
       ]
      }
     ],
     "prompt_number": 135
    },
    {
     "cell_type": "code",
     "collapsed": false,
     "input": [
      "dielectric_I_c(k=1.1, omega=432, kappa=0.3, e_s=3-0.1j, e_d=4-1j, e_eff=4-5j, h_s=0.07, d=0.0077)"
     ],
     "language": "python",
     "metadata": {},
     "outputs": [
      {
       "latex": [
        "$$0.599349450801$$"
       ],
       "metadata": {},
       "output_type": "pyout",
       "prompt_number": 136,
       "text": [
        "0.599349450801"
       ]
      }
     ],
     "prompt_number": 136
    },
    {
     "cell_type": "code",
     "collapsed": false,
     "input": [
      "import inspect"
     ],
     "language": "python",
     "metadata": {},
     "outputs": [],
     "prompt_number": 68
    },
    {
     "cell_type": "code",
     "collapsed": false,
     "input": [
      "lambdify(expr=tanh(h_s * intermediates[eta]), args=[k, kappa, omega, D, h_s, E_s], modules='numpy')(0.01, 0.3, 432, 0.0077, 0.07, 3-1j)"
     ],
     "language": "python",
     "metadata": {},
     "outputs": [
      {
       "metadata": {},
       "output_type": "pyout",
       "prompt_number": 127,
       "text": [
        "(1.0000000000148801-1.302525298862032e-10j)"
       ]
      }
     ],
     "prompt_number": 127
    },
    {
     "cell_type": "code",
     "collapsed": false,
     "input": [
      "lambdify(expr=(h_s * intermediates[eta]), args=[k, kappa, omega, D, h_s, E_s], modules='numpy')(0.01, 0.3, 432, 1e-6, 0.07, 3-1j)"
     ],
     "language": "python",
     "metadata": {},
     "outputs": [
      {
       "metadata": {},
       "output_type": "pyout",
       "prompt_number": 112,
       "text": [
        "(1028.78569201192+1028.7856919473827j)"
       ]
      }
     ],
     "prompt_number": 112
    },
    {
     "cell_type": "code",
     "collapsed": false,
     "input": [
      "np.tanh(100000)"
     ],
     "language": "python",
     "metadata": {},
     "outputs": [
      {
       "latex": [
        "$$1.0$$"
       ],
       "metadata": {},
       "output_type": "pyout",
       "prompt_number": 122,
       "text": [
        "1.0"
       ]
      }
     ],
     "prompt_number": 122
    },
    {
     "cell_type": "code",
     "collapsed": false,
     "input": [
      "sympy.printing.lambdarepr.lambdarepr(dielectric_I)"
     ],
     "language": "python",
     "metadata": {},
     "outputs": [
      {
       "metadata": {},
       "output_type": "pyout",
       "prompt_number": 84,
       "text": [
        "'(E_s - E_s*(-k*(-E_eff/E_s + 1)/(sqrt(k**2 + kappa**2/E_s + 1.0*I*omega/D)*tanh(h_s*sqrt(k**2 + kappa**2/E_s + 1.0*I*omega/D))) + (-k*(-E_eff/E_s + 1)*(k*(-E_eff/E_s + 1)*sinh(h_s*k)/(sqrt(k**2 + kappa**2/E_s + 1.0*I*omega/D)*sinh(h_s*sqrt(k**2 + kappa**2/E_s + 1.0*I*omega/D))) + cosh(h_s*k)*cosh(h_s*sqrt(k**2 + kappa**2/E_s + 1.0*I*omega/D)) - 2)/sqrt(k**2 + kappa**2/E_s + 1.0*I*omega/D) + sinh(h_s*k)*sinh(h_s*sqrt(k**2 + kappa**2/E_s + 1.0*I*omega/D)) + E_eff*sinh(h_s*sqrt(k**2 + kappa**2/E_s + 1.0*I*omega/D))*cosh(h_s*k)/E_d)/(-k*(-E_eff/E_s + 1)*sinh(h_s*k)*cosh(h_s*sqrt(k**2 + kappa**2/E_s + 1.0*I*omega/D))/sqrt(k**2 + kappa**2/E_s + 1.0*I*omega/D) + sinh(h_s*sqrt(k**2 + kappa**2/E_s + 1.0*I*omega/D))*cosh(h_s*k) + E_eff*sinh(h_s*k)*sinh(h_s*sqrt(k**2 + kappa**2/E_s + 1.0*I*omega/D))/E_d))/E_eff)/(E_s + E_s*(-k*(-E_eff/E_s + 1)/(sqrt(k**2 + kappa**2/E_s + 1.0*I*omega/D)*tanh(h_s*sqrt(k**2 + kappa**2/E_s + 1.0*I*omega/D))) + (-k*(-E_eff/E_s + 1)*(k*(-E_eff/E_s + 1)*sinh(h_s*k)/(sqrt(k**2 + kappa**2/E_s + 1.0*I*omega/D)*sinh(h_s*sqrt(k**2 + kappa**2/E_s + 1.0*I*omega/D))) + cosh(h_s*k)*cosh(h_s*sqrt(k**2 + kappa**2/E_s + 1.0*I*omega/D)) - 2)/sqrt(k**2 + kappa**2/E_s + 1.0*I*omega/D) + sinh(h_s*k)*sinh(h_s*sqrt(k**2 + kappa**2/E_s + 1.0*I*omega/D)) + E_eff*sinh(h_s*sqrt(k**2 + kappa**2/E_s + 1.0*I*omega/D))*cosh(h_s*k)/E_d)/(-k*(-E_eff/E_s + 1)*sinh(h_s*k)*cosh(h_s*sqrt(k**2 + kappa**2/E_s + 1.0*I*omega/D))/sqrt(k**2 + kappa**2/E_s + 1.0*I*omega/D) + sinh(h_s*sqrt(k**2 + kappa**2/E_s + 1.0*I*omega/D))*cosh(h_s*k) + E_eff*sinh(h_s*k)*sinh(h_s*sqrt(k**2 + kappa**2/E_s + 1.0*I*omega/D))/E_d))/E_eff)'"
       ]
      }
     ],
     "prompt_number": 84
    },
    {
     "cell_type": "code",
     "collapsed": false,
     "input": [
      "simplify(dielectric_I)"
     ],
     "language": "python",
     "metadata": {},
     "outputs": [
      {
       "latex": [
        "$$\\frac{E_{s} - \\frac{E_{s}}{E_{eff}} \\left(\\frac{k \\left(\\frac{E_{eff}}{E_{s}} - 1\\right)}{\\sqrt{k^{2} + \\frac{\\kappa^{2}}{E_{s}} + \\frac{1.0 i}{D} \\omega} \\tanh{\\left (h_{s} \\sqrt{k^{2} + \\frac{\\kappa^{2}}{E_{s}} + \\frac{1.0 i}{D} \\omega} \\right )}} + \\frac{- \\frac{k}{\\sqrt{k^{2} + \\frac{\\kappa^{2}}{E_{s}} + \\frac{1.0 i}{D} \\omega}} \\left(\\frac{E_{eff}}{E_{s}} - 1\\right) \\left(\\frac{k \\left(\\frac{E_{eff}}{E_{s}} - 1\\right) \\sinh{\\left (h_{s} k \\right )}}{\\sqrt{k^{2} + \\frac{\\kappa^{2}}{E_{s}} + \\frac{1.0 i}{D} \\omega} \\sinh{\\left (h_{s} \\sqrt{k^{2} + \\frac{\\kappa^{2}}{E_{s}} + \\frac{1.0 i}{D} \\omega} \\right )}} - \\cosh{\\left (h_{s} k \\right )} \\cosh{\\left (h_{s} \\sqrt{k^{2} + \\frac{\\kappa^{2}}{E_{s}} + \\frac{1.0 i}{D} \\omega} \\right )} + 2\\right) + \\sinh{\\left (h_{s} k \\right )} \\sinh{\\left (h_{s} \\sqrt{k^{2} + \\frac{\\kappa^{2}}{E_{s}} + \\frac{1.0 i}{D} \\omega} \\right )} + \\frac{E_{eff}}{E_{d}} \\sinh{\\left (h_{s} \\sqrt{k^{2} + \\frac{\\kappa^{2}}{E_{s}} + \\frac{1.0 i}{D} \\omega} \\right )} \\cosh{\\left (h_{s} k \\right )}}{\\frac{k \\cosh{\\left (h_{s} \\sqrt{k^{2} + \\frac{\\kappa^{2}}{E_{s}} + \\frac{1.0 i}{D} \\omega} \\right )}}{\\sqrt{k^{2} + \\frac{\\kappa^{2}}{E_{s}} + \\frac{1.0 i}{D} \\omega}} \\left(\\frac{E_{eff}}{E_{s}} - 1\\right) \\sinh{\\left (h_{s} k \\right )} + \\sinh{\\left (h_{s} \\sqrt{k^{2} + \\frac{\\kappa^{2}}{E_{s}} + \\frac{1.0 i}{D} \\omega} \\right )} \\cosh{\\left (h_{s} k \\right )} + \\frac{E_{eff}}{E_{d}} \\sinh{\\left (h_{s} k \\right )} \\sinh{\\left (h_{s} \\sqrt{k^{2} + \\frac{\\kappa^{2}}{E_{s}} + \\frac{1.0 i}{D} \\omega} \\right )}}\\right)}{E_{s} + \\frac{E_{s}}{E_{eff}} \\left(\\frac{k \\left(\\frac{E_{eff}}{E_{s}} - 1\\right)}{\\sqrt{k^{2} + \\frac{\\kappa^{2}}{E_{s}} + \\frac{1.0 i}{D} \\omega} \\tanh{\\left (h_{s} \\sqrt{k^{2} + \\frac{\\kappa^{2}}{E_{s}} + \\frac{1.0 i}{D} \\omega} \\right )}} + \\frac{- \\frac{k}{\\sqrt{k^{2} + \\frac{\\kappa^{2}}{E_{s}} + \\frac{1.0 i}{D} \\omega}} \\left(\\frac{E_{eff}}{E_{s}} - 1\\right) \\left(\\frac{k \\left(\\frac{E_{eff}}{E_{s}} - 1\\right) \\sinh{\\left (h_{s} k \\right )}}{\\sqrt{k^{2} + \\frac{\\kappa^{2}}{E_{s}} + \\frac{1.0 i}{D} \\omega} \\sinh{\\left (h_{s} \\sqrt{k^{2} + \\frac{\\kappa^{2}}{E_{s}} + \\frac{1.0 i}{D} \\omega} \\right )}} - \\cosh{\\left (h_{s} k \\right )} \\cosh{\\left (h_{s} \\sqrt{k^{2} + \\frac{\\kappa^{2}}{E_{s}} + \\frac{1.0 i}{D} \\omega} \\right )} + 2\\right) + \\sinh{\\left (h_{s} k \\right )} \\sinh{\\left (h_{s} \\sqrt{k^{2} + \\frac{\\kappa^{2}}{E_{s}} + \\frac{1.0 i}{D} \\omega} \\right )} + \\frac{E_{eff}}{E_{d}} \\sinh{\\left (h_{s} \\sqrt{k^{2} + \\frac{\\kappa^{2}}{E_{s}} + \\frac{1.0 i}{D} \\omega} \\right )} \\cosh{\\left (h_{s} k \\right )}}{\\frac{k \\cosh{\\left (h_{s} \\sqrt{k^{2} + \\frac{\\kappa^{2}}{E_{s}} + \\frac{1.0 i}{D} \\omega} \\right )}}{\\sqrt{k^{2} + \\frac{\\kappa^{2}}{E_{s}} + \\frac{1.0 i}{D} \\omega}} \\left(\\frac{E_{eff}}{E_{s}} - 1\\right) \\sinh{\\left (h_{s} k \\right )} + \\sinh{\\left (h_{s} \\sqrt{k^{2} + \\frac{\\kappa^{2}}{E_{s}} + \\frac{1.0 i}{D} \\omega} \\right )} \\cosh{\\left (h_{s} k \\right )} + \\frac{E_{eff}}{E_{d}} \\sinh{\\left (h_{s} k \\right )} \\sinh{\\left (h_{s} \\sqrt{k^{2} + \\frac{\\kappa^{2}}{E_{s}} + \\frac{1.0 i}{D} \\omega} \\right )}}\\right)}$$"
       ],
       "metadata": {},
       "output_type": "pyout",
       "prompt_number": 140,
       "text": [
        "          \u239b                                                                   \n",
        "          \u239c                                                                   \n",
        "          \u239c                                                                   \n",
        "          \u239c                                                                  k\n",
        "          \u239c                                                                   \n",
        "          \u239c                                                                   \n",
        "          \u239c                                                                   \n",
        "          \u239c                                                                   \n",
        "          \u239c                                                                   \n",
        "          \u239c                                                                - \u2500\n",
        "          \u239c                                                                   \n",
        "          \u239c                                                                   \n",
        "          \u239c                          \u239bE_eff    \u239e                              \n",
        "          \u239c                        k\u22c5\u239c\u2500\u2500\u2500\u2500\u2500 - 1\u239f                              \n",
        "          \u239c                          \u239d E_s     \u23a0                              \n",
        "      E_s\u22c5\u239c\u2500\u2500\u2500\u2500\u2500\u2500\u2500\u2500\u2500\u2500\u2500\u2500\u2500\u2500\u2500\u2500\u2500\u2500\u2500\u2500\u2500\u2500\u2500\u2500\u2500\u2500\u2500\u2500\u2500\u2500\u2500\u2500\u2500\u2500\u2500\u2500\u2500\u2500\u2500\u2500\u2500\u2500\u2500\u2500\u2500\u2500\u2500\u2500\u2500\u2500\u2500\u2500\u2500\u2500\u2500\u2500\u2500\u2500\u2500\u2500\u2500 + \u2500\u2500\u2500\n",
        "          \u239c     ____________________     \u239b         ____________________\u239e      \n",
        "          \u239c    \u2571        2                \u239c        \u2571        2           \u239f      \n",
        "          \u239c   \u2571   2    \u03ba    1.0\u22c5\u2148\u22c5\u03c9      \u239c       \u2571   2    \u03ba    1.0\u22c5\u2148\u22c5\u03c9 \u239f      \n",
        "          \u239c  \u2571   k  + \u2500\u2500\u2500 + \u2500\u2500\u2500\u2500\u2500\u2500\u2500 \u22c5tanh\u239ch_s\u22c5  \u2571   k  + \u2500\u2500\u2500 + \u2500\u2500\u2500\u2500\u2500\u2500\u2500 \u239f      \n",
        "          \u239c\u2572\u2571         E_s      D         \u239d    \u2572\u2571         E_s      D    \u23a0      \n",
        "          \u239c                                                                   \n",
        "          \u239c                                                                   \n",
        "          \u239c                                                                   \n",
        "          \u239c                                                                   \n",
        "          \u239c                                                                   \n",
        "          \u239d                                                                   \n",
        "E_s - \u2500\u2500\u2500\u2500\u2500\u2500\u2500\u2500\u2500\u2500\u2500\u2500\u2500\u2500\u2500\u2500\u2500\u2500\u2500\u2500\u2500\u2500\u2500\u2500\u2500\u2500\u2500\u2500\u2500\u2500\u2500\u2500\u2500\u2500\u2500\u2500\u2500\u2500\u2500\u2500\u2500\u2500\u2500\u2500\u2500\u2500\u2500\u2500\u2500\u2500\u2500\u2500\u2500\u2500\u2500\u2500\u2500\u2500\u2500\u2500\u2500\u2500\u2500\u2500\u2500\u2500\u2500\u2500\u2500\u2500\u2500\u2500\n",
        "                                                                              \n",
        "\u2500\u2500\u2500\u2500\u2500\u2500\u2500\u2500\u2500\u2500\u2500\u2500\u2500\u2500\u2500\u2500\u2500\u2500\u2500\u2500\u2500\u2500\u2500\u2500\u2500\u2500\u2500\u2500\u2500\u2500\u2500\u2500\u2500\u2500\u2500\u2500\u2500\u2500\u2500\u2500\u2500\u2500\u2500\u2500\u2500\u2500\u2500\u2500\u2500\u2500\u2500\u2500\u2500\u2500\u2500\u2500\u2500\u2500\u2500\u2500\u2500\u2500\u2500\u2500\u2500\u2500\u2500\u2500\u2500\u2500\u2500\u2500\u2500\u2500\u2500\u2500\u2500\u2500\n",
        "          \u239b                                                                   \n",
        "          \u239c                                                                   \n",
        "          \u239c                                                                   \n",
        "          \u239c                                                                  k\n",
        "          \u239c                                                                   \n",
        "          \u239c                                                                   \n",
        "          \u239c                                                                   \n",
        "          \u239c                                                                   \n",
        "          \u239c                                                                   \n",
        "          \u239c                                                                - \u2500\n",
        "          \u239c                                                                   \n",
        "          \u239c                                                                   \n",
        "          \u239c                          \u239bE_eff    \u239e                              \n",
        "          \u239c                        k\u22c5\u239c\u2500\u2500\u2500\u2500\u2500 - 1\u239f                              \n",
        "          \u239c                          \u239d E_s     \u23a0                              \n",
        "      E_s\u22c5\u239c\u2500\u2500\u2500\u2500\u2500\u2500\u2500\u2500\u2500\u2500\u2500\u2500\u2500\u2500\u2500\u2500\u2500\u2500\u2500\u2500\u2500\u2500\u2500\u2500\u2500\u2500\u2500\u2500\u2500\u2500\u2500\u2500\u2500\u2500\u2500\u2500\u2500\u2500\u2500\u2500\u2500\u2500\u2500\u2500\u2500\u2500\u2500\u2500\u2500\u2500\u2500\u2500\u2500\u2500\u2500\u2500\u2500\u2500\u2500\u2500\u2500 + \u2500\u2500\u2500\n",
        "          \u239c     ____________________     \u239b         ____________________\u239e      \n",
        "          \u239c    \u2571        2                \u239c        \u2571        2           \u239f      \n",
        "          \u239c   \u2571   2    \u03ba    1.0\u22c5\u2148\u22c5\u03c9      \u239c       \u2571   2    \u03ba    1.0\u22c5\u2148\u22c5\u03c9 \u239f      \n",
        "          \u239c  \u2571   k  + \u2500\u2500\u2500 + \u2500\u2500\u2500\u2500\u2500\u2500\u2500 \u22c5tanh\u239ch_s\u22c5  \u2571   k  + \u2500\u2500\u2500 + \u2500\u2500\u2500\u2500\u2500\u2500\u2500 \u239f      \n",
        "          \u239c\u2572\u2571         E_s      D         \u239d    \u2572\u2571         E_s      D    \u23a0      \n",
        "          \u239c                                                                   \n",
        "          \u239c                                                                   \n",
        "          \u239c                                                                   \n",
        "          \u239c                                                                   \n",
        "          \u239c                                                                   \n",
        "          \u239d                                                                   \n",
        "E_s + \u2500\u2500\u2500\u2500\u2500\u2500\u2500\u2500\u2500\u2500\u2500\u2500\u2500\u2500\u2500\u2500\u2500\u2500\u2500\u2500\u2500\u2500\u2500\u2500\u2500\u2500\u2500\u2500\u2500\u2500\u2500\u2500\u2500\u2500\u2500\u2500\u2500\u2500\u2500\u2500\u2500\u2500\u2500\u2500\u2500\u2500\u2500\u2500\u2500\u2500\u2500\u2500\u2500\u2500\u2500\u2500\u2500\u2500\u2500\u2500\u2500\u2500\u2500\u2500\u2500\u2500\u2500\u2500\u2500\u2500\u2500\u2500\n",
        "                                                                              \n",
        "\n",
        "             \u239b                    \u239bE_eff    \u239e                                 \n",
        "             \u239c                  k\u22c5\u239c\u2500\u2500\u2500\u2500\u2500 - 1\u239f\u22c5sinh(h_s\u22c5k)                     \n",
        " \u239bE_eff    \u239e \u239c                    \u239d E_s     \u23a0                                 \n",
        "\u22c5\u239c\u2500\u2500\u2500\u2500\u2500 - 1\u239f\u22c5\u239c\u2500\u2500\u2500\u2500\u2500\u2500\u2500\u2500\u2500\u2500\u2500\u2500\u2500\u2500\u2500\u2500\u2500\u2500\u2500\u2500\u2500\u2500\u2500\u2500\u2500\u2500\u2500\u2500\u2500\u2500\u2500\u2500\u2500\u2500\u2500\u2500\u2500\u2500\u2500\u2500\u2500\u2500\u2500\u2500\u2500\u2500\u2500\u2500\u2500\u2500\u2500\u2500\u2500\u2500\u2500\u2500\u2500\u2500\u2500\u2500\u2500 - \n",
        " \u239d E_s     \u23a0 \u239c     ____________________     \u239b         ____________________\u239e   \n",
        "             \u239c    \u2571        2                \u239c        \u2571        2           \u239f   \n",
        "             \u239c   \u2571   2    \u03ba    1.0\u22c5\u2148\u22c5\u03c9      \u239c       \u2571   2    \u03ba    1.0\u22c5\u2148\u22c5\u03c9 \u239f   \n",
        "             \u239c  \u2571   k  + \u2500\u2500\u2500 + \u2500\u2500\u2500\u2500\u2500\u2500\u2500 \u22c5sinh\u239ch_s\u22c5  \u2571   k  + \u2500\u2500\u2500 + \u2500\u2500\u2500\u2500\u2500\u2500\u2500 \u239f   \n",
        "             \u239d\u2572\u2571         E_s      D         \u239d    \u2572\u2571         E_s      D    \u23a0   \n",
        "\u2500\u2500\u2500\u2500\u2500\u2500\u2500\u2500\u2500\u2500\u2500\u2500\u2500\u2500\u2500\u2500\u2500\u2500\u2500\u2500\u2500\u2500\u2500\u2500\u2500\u2500\u2500\u2500\u2500\u2500\u2500\u2500\u2500\u2500\u2500\u2500\u2500\u2500\u2500\u2500\u2500\u2500\u2500\u2500\u2500\u2500\u2500\u2500\u2500\u2500\u2500\u2500\u2500\u2500\u2500\u2500\u2500\u2500\u2500\u2500\u2500\u2500\u2500\u2500\u2500\u2500\u2500\u2500\u2500\u2500\u2500\u2500\u2500\u2500\u2500\u2500\u2500\u2500\n",
        "                                                         ____________________ \n",
        "                                                        \u2571        2            \n",
        "                                                       \u2571   2    \u03ba    1.0\u22c5\u2148\u22c5\u03c9  \n",
        "                                                      \u2571   k  + \u2500\u2500\u2500 + \u2500\u2500\u2500\u2500\u2500\u2500\u2500  \n",
        "                                                    \u2572\u2571         E_s      D     \n",
        "\u2500\u2500\u2500\u2500\u2500\u2500\u2500\u2500\u2500\u2500\u2500\u2500\u2500\u2500\u2500\u2500\u2500\u2500\u2500\u2500\u2500\u2500\u2500\u2500\u2500\u2500\u2500\u2500\u2500\u2500\u2500\u2500\u2500\u2500\u2500\u2500\u2500\u2500\u2500\u2500\u2500\u2500\u2500\u2500\u2500\u2500\u2500\u2500\u2500\u2500\u2500\u2500\u2500\u2500\u2500\u2500\u2500\u2500\u2500\u2500\u2500\u2500\u2500\u2500\u2500\u2500\u2500\u2500\u2500\u2500\u2500\u2500\u2500\u2500\u2500\u2500\u2500\u2500\n",
        "                                                               \u239b         _____\n",
        "                                                               \u239c        \u2571     \n",
        "                                   \u239bE_eff    \u239e                 \u239c       \u2571   2  \n",
        "                                 k\u22c5\u239c\u2500\u2500\u2500\u2500\u2500 - 1\u239f\u22c5sinh(h_s\u22c5k)\u22c5cosh\u239ch_s\u22c5  \u2571   k  +\n",
        "                                   \u239d E_s     \u23a0                 \u239d    \u2572\u2571        \n",
        "                                 \u2500\u2500\u2500\u2500\u2500\u2500\u2500\u2500\u2500\u2500\u2500\u2500\u2500\u2500\u2500\u2500\u2500\u2500\u2500\u2500\u2500\u2500\u2500\u2500\u2500\u2500\u2500\u2500\u2500\u2500\u2500\u2500\u2500\u2500\u2500\u2500\u2500\u2500\u2500\u2500\u2500\u2500\u2500\u2500\u2500\n",
        "                                                        ____________________  \n",
        "                                                       \u2571        2             \n",
        "                                                      \u2571   2    \u03ba    1.0\u22c5\u2148\u22c5\u03c9   \n",
        "                                                     \u2571   k  + \u2500\u2500\u2500 + \u2500\u2500\u2500\u2500\u2500\u2500\u2500   \n",
        "                                                   \u2572\u2571         E_s      D      \n",
        "\u2500\u2500\u2500\u2500\u2500\u2500\u2500\u2500\u2500\u2500\u2500\u2500\u2500\u2500\u2500\u2500\u2500\u2500\u2500\u2500\u2500\u2500\u2500\u2500\u2500\u2500\u2500\u2500\u2500\u2500\u2500\u2500\u2500\u2500\u2500\u2500\u2500\u2500\u2500\u2500\u2500\u2500\u2500\u2500\u2500\u2500\u2500\u2500\u2500\u2500\u2500\u2500\u2500\u2500\u2500\u2500\u2500\u2500\u2500\u2500\u2500\u2500\u2500\u2500\u2500\u2500\u2500\u2500\u2500\u2500\u2500\u2500\u2500\u2500\u2500\u2500\u2500\u2500\n",
        "                                                                              \n",
        "\u2500\u2500\u2500\u2500\u2500\u2500\u2500\u2500\u2500\u2500\u2500\u2500\u2500\u2500\u2500\u2500\u2500\u2500\u2500\u2500\u2500\u2500\u2500\u2500\u2500\u2500\u2500\u2500\u2500\u2500\u2500\u2500\u2500\u2500\u2500\u2500\u2500\u2500\u2500\u2500\u2500\u2500\u2500\u2500\u2500\u2500\u2500\u2500\u2500\u2500\u2500\u2500\u2500\u2500\u2500\u2500\u2500\u2500\u2500\u2500\u2500\u2500\u2500\u2500\u2500\u2500\u2500\u2500\u2500\u2500\u2500\u2500\u2500\u2500\u2500\u2500\u2500\u2500\n",
        "             \u239b                    \u239bE_eff    \u239e                                 \n",
        "             \u239c                  k\u22c5\u239c\u2500\u2500\u2500\u2500\u2500 - 1\u239f\u22c5sinh(h_s\u22c5k)                     \n",
        " \u239bE_eff    \u239e \u239c                    \u239d E_s     \u23a0                                 \n",
        "\u22c5\u239c\u2500\u2500\u2500\u2500\u2500 - 1\u239f\u22c5\u239c\u2500\u2500\u2500\u2500\u2500\u2500\u2500\u2500\u2500\u2500\u2500\u2500\u2500\u2500\u2500\u2500\u2500\u2500\u2500\u2500\u2500\u2500\u2500\u2500\u2500\u2500\u2500\u2500\u2500\u2500\u2500\u2500\u2500\u2500\u2500\u2500\u2500\u2500\u2500\u2500\u2500\u2500\u2500\u2500\u2500\u2500\u2500\u2500\u2500\u2500\u2500\u2500\u2500\u2500\u2500\u2500\u2500\u2500\u2500\u2500\u2500 - \n",
        " \u239d E_s     \u23a0 \u239c     ____________________     \u239b         ____________________\u239e   \n",
        "             \u239c    \u2571        2                \u239c        \u2571        2           \u239f   \n",
        "             \u239c   \u2571   2    \u03ba    1.0\u22c5\u2148\u22c5\u03c9      \u239c       \u2571   2    \u03ba    1.0\u22c5\u2148\u22c5\u03c9 \u239f   \n",
        "             \u239c  \u2571   k  + \u2500\u2500\u2500 + \u2500\u2500\u2500\u2500\u2500\u2500\u2500 \u22c5sinh\u239ch_s\u22c5  \u2571   k  + \u2500\u2500\u2500 + \u2500\u2500\u2500\u2500\u2500\u2500\u2500 \u239f   \n",
        "             \u239d\u2572\u2571         E_s      D         \u239d    \u2572\u2571         E_s      D    \u23a0   \n",
        "\u2500\u2500\u2500\u2500\u2500\u2500\u2500\u2500\u2500\u2500\u2500\u2500\u2500\u2500\u2500\u2500\u2500\u2500\u2500\u2500\u2500\u2500\u2500\u2500\u2500\u2500\u2500\u2500\u2500\u2500\u2500\u2500\u2500\u2500\u2500\u2500\u2500\u2500\u2500\u2500\u2500\u2500\u2500\u2500\u2500\u2500\u2500\u2500\u2500\u2500\u2500\u2500\u2500\u2500\u2500\u2500\u2500\u2500\u2500\u2500\u2500\u2500\u2500\u2500\u2500\u2500\u2500\u2500\u2500\u2500\u2500\u2500\u2500\u2500\u2500\u2500\u2500\u2500\n",
        "                                                         ____________________ \n",
        "                                                        \u2571        2            \n",
        "                                                       \u2571   2    \u03ba    1.0\u22c5\u2148\u22c5\u03c9  \n",
        "                                                      \u2571   k  + \u2500\u2500\u2500 + \u2500\u2500\u2500\u2500\u2500\u2500\u2500  \n",
        "                                                    \u2572\u2571         E_s      D     \n",
        "\u2500\u2500\u2500\u2500\u2500\u2500\u2500\u2500\u2500\u2500\u2500\u2500\u2500\u2500\u2500\u2500\u2500\u2500\u2500\u2500\u2500\u2500\u2500\u2500\u2500\u2500\u2500\u2500\u2500\u2500\u2500\u2500\u2500\u2500\u2500\u2500\u2500\u2500\u2500\u2500\u2500\u2500\u2500\u2500\u2500\u2500\u2500\u2500\u2500\u2500\u2500\u2500\u2500\u2500\u2500\u2500\u2500\u2500\u2500\u2500\u2500\u2500\u2500\u2500\u2500\u2500\u2500\u2500\u2500\u2500\u2500\u2500\u2500\u2500\u2500\u2500\u2500\u2500\n",
        "                                                               \u239b         _____\n",
        "                                                               \u239c        \u2571     \n",
        "                                   \u239bE_eff    \u239e                 \u239c       \u2571   2  \n",
        "                                 k\u22c5\u239c\u2500\u2500\u2500\u2500\u2500 - 1\u239f\u22c5sinh(h_s\u22c5k)\u22c5cosh\u239ch_s\u22c5  \u2571   k  +\n",
        "                                   \u239d E_s     \u23a0                 \u239d    \u2572\u2571        \n",
        "                                 \u2500\u2500\u2500\u2500\u2500\u2500\u2500\u2500\u2500\u2500\u2500\u2500\u2500\u2500\u2500\u2500\u2500\u2500\u2500\u2500\u2500\u2500\u2500\u2500\u2500\u2500\u2500\u2500\u2500\u2500\u2500\u2500\u2500\u2500\u2500\u2500\u2500\u2500\u2500\u2500\u2500\u2500\u2500\u2500\u2500\n",
        "                                                        ____________________  \n",
        "                                                       \u2571        2             \n",
        "                                                      \u2571   2    \u03ba    1.0\u22c5\u2148\u22c5\u03c9   \n",
        "                                                     \u2571   k  + \u2500\u2500\u2500 + \u2500\u2500\u2500\u2500\u2500\u2500\u2500   \n",
        "                                                   \u2572\u2571         E_s      D      \n",
        "\u2500\u2500\u2500\u2500\u2500\u2500\u2500\u2500\u2500\u2500\u2500\u2500\u2500\u2500\u2500\u2500\u2500\u2500\u2500\u2500\u2500\u2500\u2500\u2500\u2500\u2500\u2500\u2500\u2500\u2500\u2500\u2500\u2500\u2500\u2500\u2500\u2500\u2500\u2500\u2500\u2500\u2500\u2500\u2500\u2500\u2500\u2500\u2500\u2500\u2500\u2500\u2500\u2500\u2500\u2500\u2500\u2500\u2500\u2500\u2500\u2500\u2500\u2500\u2500\u2500\u2500\u2500\u2500\u2500\u2500\u2500\u2500\u2500\u2500\u2500\u2500\u2500\u2500\n",
        "                                                                              \n",
        "\n",
        "                \u239b         ____________________\u239e    \u239e                          \n",
        "                \u239c        \u2571        2           \u239f    \u239f                          \n",
        "                \u239c       \u2571   2    \u03ba    1.0\u22c5\u2148\u22c5\u03c9 \u239f    \u239f                          \n",
        "cosh(h_s\u22c5k)\u22c5cosh\u239ch_s\u22c5  \u2571   k  + \u2500\u2500\u2500 + \u2500\u2500\u2500\u2500\u2500\u2500\u2500 \u239f + 2\u239f                          \n",
        "                \u239d    \u2572\u2571         E_s      D    \u23a0    \u239f                          \n",
        "                                                   \u239f                          \n",
        "                                                   \u239f                   \u239b      \n",
        "                                                   \u239f                   \u239c      \n",
        "                                                   \u23a0                   \u239c      \n",
        "\u2500\u2500\u2500\u2500\u2500\u2500\u2500\u2500\u2500\u2500\u2500\u2500\u2500\u2500\u2500\u2500\u2500\u2500\u2500\u2500\u2500\u2500\u2500\u2500\u2500\u2500\u2500\u2500\u2500\u2500\u2500\u2500\u2500\u2500\u2500\u2500\u2500\u2500\u2500\u2500\u2500\u2500\u2500\u2500\u2500\u2500\u2500\u2500\u2500\u2500\u2500\u2500 + sinh(h_s\u22c5k)\u22c5sinh\u239ch_s\u22c5  \n",
        "                                                                       \u239d    \u2572\u2571\n",
        "                                                                              \n",
        "                                                                              \n",
        "                                                                              \n",
        "                                                                              \n",
        "\u2500\u2500\u2500\u2500\u2500\u2500\u2500\u2500\u2500\u2500\u2500\u2500\u2500\u2500\u2500\u2500\u2500\u2500\u2500\u2500\u2500\u2500\u2500\u2500\u2500\u2500\u2500\u2500\u2500\u2500\u2500\u2500\u2500\u2500\u2500\u2500\u2500\u2500\u2500\u2500\u2500\u2500\u2500\u2500\u2500\u2500\u2500\u2500\u2500\u2500\u2500\u2500\u2500\u2500\u2500\u2500\u2500\u2500\u2500\u2500\u2500\u2500\u2500\u2500\u2500\u2500\u2500\u2500\u2500\u2500\u2500\u2500\u2500\u2500\u2500\u2500\u2500\u2500\n",
        "_______________\u239e                                                              \n",
        "   2           \u239f                                                              \n",
        "  \u03ba    1.0\u22c5\u2148\u22c5\u03c9 \u239f       \u239b         ____________________\u239e                        \n",
        " \u2500\u2500\u2500 + \u2500\u2500\u2500\u2500\u2500\u2500\u2500 \u239f       \u239c        \u2571        2           \u239f               E_eff\u22c5sin\n",
        " E_s      D    \u23a0       \u239c       \u2571   2    \u03ba    1.0\u22c5\u2148\u22c5\u03c9 \u239f                        \n",
        "\u2500\u2500\u2500\u2500\u2500\u2500\u2500\u2500\u2500\u2500\u2500\u2500\u2500\u2500\u2500\u2500 + sinh\u239ch_s\u22c5  \u2571   k  + \u2500\u2500\u2500 + \u2500\u2500\u2500\u2500\u2500\u2500\u2500 \u239f\u22c5cosh(h_s\u22c5k) + \u2500\u2500\u2500\u2500\u2500\u2500\u2500\u2500\u2500\n",
        "                       \u239d    \u2572\u2571         E_s      D    \u23a0                        \n",
        "                                                                              \n",
        "                                                                              \n",
        "                                                                              \n",
        "                                                                              \n",
        "\u2500\u2500\u2500\u2500\u2500\u2500\u2500\u2500\u2500\u2500\u2500\u2500\u2500\u2500\u2500\u2500\u2500\u2500\u2500\u2500\u2500\u2500\u2500\u2500\u2500\u2500\u2500\u2500\u2500\u2500\u2500\u2500\u2500\u2500\u2500\u2500\u2500\u2500\u2500\u2500\u2500\u2500\u2500\u2500\u2500\u2500\u2500\u2500\u2500\u2500\u2500\u2500\u2500\u2500\u2500\u2500\u2500\u2500\u2500\u2500\u2500\u2500\u2500\u2500\u2500\u2500\u2500\u2500\u2500\u2500\u2500\u2500\u2500\u2500\u2500\u2500\u2500\u2500\n",
        "  E_eff                                                                       \n",
        "\u2500\u2500\u2500\u2500\u2500\u2500\u2500\u2500\u2500\u2500\u2500\u2500\u2500\u2500\u2500\u2500\u2500\u2500\u2500\u2500\u2500\u2500\u2500\u2500\u2500\u2500\u2500\u2500\u2500\u2500\u2500\u2500\u2500\u2500\u2500\u2500\u2500\u2500\u2500\u2500\u2500\u2500\u2500\u2500\u2500\u2500\u2500\u2500\u2500\u2500\u2500\u2500\u2500\u2500\u2500\u2500\u2500\u2500\u2500\u2500\u2500\u2500\u2500\u2500\u2500\u2500\u2500\u2500\u2500\u2500\u2500\u2500\u2500\u2500\u2500\u2500\u2500\u2500\n",
        "                \u239b         ____________________\u239e    \u239e                          \n",
        "                \u239c        \u2571        2           \u239f    \u239f                          \n",
        "                \u239c       \u2571   2    \u03ba    1.0\u22c5\u2148\u22c5\u03c9 \u239f    \u239f                          \n",
        "cosh(h_s\u22c5k)\u22c5cosh\u239ch_s\u22c5  \u2571   k  + \u2500\u2500\u2500 + \u2500\u2500\u2500\u2500\u2500\u2500\u2500 \u239f + 2\u239f                          \n",
        "                \u239d    \u2572\u2571         E_s      D    \u23a0    \u239f                          \n",
        "                                                   \u239f                          \n",
        "                                                   \u239f                   \u239b      \n",
        "                                                   \u239f                   \u239c      \n",
        "                                                   \u23a0                   \u239c      \n",
        "\u2500\u2500\u2500\u2500\u2500\u2500\u2500\u2500\u2500\u2500\u2500\u2500\u2500\u2500\u2500\u2500\u2500\u2500\u2500\u2500\u2500\u2500\u2500\u2500\u2500\u2500\u2500\u2500\u2500\u2500\u2500\u2500\u2500\u2500\u2500\u2500\u2500\u2500\u2500\u2500\u2500\u2500\u2500\u2500\u2500\u2500\u2500\u2500\u2500\u2500\u2500\u2500 + sinh(h_s\u22c5k)\u22c5sinh\u239ch_s\u22c5  \n",
        "                                                                       \u239d    \u2572\u2571\n",
        "                                                                              \n",
        "                                                                              \n",
        "                                                                              \n",
        "                                                                              \n",
        "\u2500\u2500\u2500\u2500\u2500\u2500\u2500\u2500\u2500\u2500\u2500\u2500\u2500\u2500\u2500\u2500\u2500\u2500\u2500\u2500\u2500\u2500\u2500\u2500\u2500\u2500\u2500\u2500\u2500\u2500\u2500\u2500\u2500\u2500\u2500\u2500\u2500\u2500\u2500\u2500\u2500\u2500\u2500\u2500\u2500\u2500\u2500\u2500\u2500\u2500\u2500\u2500\u2500\u2500\u2500\u2500\u2500\u2500\u2500\u2500\u2500\u2500\u2500\u2500\u2500\u2500\u2500\u2500\u2500\u2500\u2500\u2500\u2500\u2500\u2500\u2500\u2500\u2500\n",
        "_______________\u239e                                                              \n",
        "   2           \u239f                                                              \n",
        "  \u03ba    1.0\u22c5\u2148\u22c5\u03c9 \u239f       \u239b         ____________________\u239e                        \n",
        " \u2500\u2500\u2500 + \u2500\u2500\u2500\u2500\u2500\u2500\u2500 \u239f       \u239c        \u2571        2           \u239f               E_eff\u22c5sin\n",
        " E_s      D    \u23a0       \u239c       \u2571   2    \u03ba    1.0\u22c5\u2148\u22c5\u03c9 \u239f                        \n",
        "\u2500\u2500\u2500\u2500\u2500\u2500\u2500\u2500\u2500\u2500\u2500\u2500\u2500\u2500\u2500\u2500 + sinh\u239ch_s\u22c5  \u2571   k  + \u2500\u2500\u2500 + \u2500\u2500\u2500\u2500\u2500\u2500\u2500 \u239f\u22c5cosh(h_s\u22c5k) + \u2500\u2500\u2500\u2500\u2500\u2500\u2500\u2500\u2500\n",
        "                       \u239d    \u2572\u2571         E_s      D    \u23a0                        \n",
        "                                                                              \n",
        "                                                                              \n",
        "                                                                              \n",
        "                                                                              \n",
        "\u2500\u2500\u2500\u2500\u2500\u2500\u2500\u2500\u2500\u2500\u2500\u2500\u2500\u2500\u2500\u2500\u2500\u2500\u2500\u2500\u2500\u2500\u2500\u2500\u2500\u2500\u2500\u2500\u2500\u2500\u2500\u2500\u2500\u2500\u2500\u2500\u2500\u2500\u2500\u2500\u2500\u2500\u2500\u2500\u2500\u2500\u2500\u2500\u2500\u2500\u2500\u2500\u2500\u2500\u2500\u2500\u2500\u2500\u2500\u2500\u2500\u2500\u2500\u2500\u2500\u2500\u2500\u2500\u2500\u2500\u2500\u2500\u2500\u2500\u2500\u2500\u2500\u2500\n",
        "  E_eff                                                                       \n",
        "\n",
        "                                                                              \n",
        "                                                                              \n",
        "                                                                              \n",
        "                                                                              \n",
        "                                     \u239b         ____________________\u239e          \n",
        "                                     \u239c        \u2571        2           \u239f          \n",
        "   ____________________\u239e             \u239c       \u2571   2    \u03ba    1.0\u22c5\u2148\u22c5\u03c9 \u239f          \n",
        "  \u2571        2           \u239f   E_eff\u22c5sinh\u239ch_s\u22c5  \u2571   k  + \u2500\u2500\u2500 + \u2500\u2500\u2500\u2500\u2500\u2500\u2500 \u239f\u22c5cosh(h_s\u22c5\n",
        " \u2571   2    \u03ba    1.0\u22c5\u2148\u22c5\u03c9 \u239f             \u239d    \u2572\u2571         E_s      D    \u23a0          \n",
        "\u2571   k  + \u2500\u2500\u2500 + \u2500\u2500\u2500\u2500\u2500\u2500\u2500 \u239f + \u2500\u2500\u2500\u2500\u2500\u2500\u2500\u2500\u2500\u2500\u2500\u2500\u2500\u2500\u2500\u2500\u2500\u2500\u2500\u2500\u2500\u2500\u2500\u2500\u2500\u2500\u2500\u2500\u2500\u2500\u2500\u2500\u2500\u2500\u2500\u2500\u2500\u2500\u2500\u2500\u2500\u2500\u2500\u2500\u2500\u2500\u2500\u2500\u2500\u2500\u2500\n",
        "         E_s      D    \u23a0                            E_d                       \n",
        "                                                                              \n",
        "                                                                              \n",
        "                                                                              \n",
        "                                                                              \n",
        "\u2500\u2500\u2500\u2500\u2500\u2500\u2500\u2500\u2500\u2500\u2500\u2500\u2500\u2500\u2500\u2500\u2500\u2500\u2500\u2500\u2500\u2500\u2500\u2500\u2500\u2500\u2500\u2500\u2500\u2500\u2500\u2500\u2500\u2500\u2500\u2500\u2500\u2500\u2500\u2500\u2500\u2500\u2500\u2500\u2500\u2500\u2500\u2500\u2500\u2500\u2500\u2500\u2500\u2500\u2500\u2500\u2500\u2500\u2500\u2500\u2500\u2500\u2500\u2500\u2500\u2500\u2500\u2500\u2500\u2500\u2500\u2500\u2500\u2500\u2500\u2500\u2500\u2500\n",
        "             \u239b         ____________________\u239e                                  \n",
        "             \u239c        \u2571        2           \u239f                                  \n",
        "             \u239c       \u2571   2    \u03ba    1.0\u22c5\u2148\u22c5\u03c9 \u239f                                  \n",
        "h(h_s\u22c5k)\u22c5sinh\u239ch_s\u22c5  \u2571   k  + \u2500\u2500\u2500 + \u2500\u2500\u2500\u2500\u2500\u2500\u2500 \u239f                                  \n",
        "             \u239d    \u2572\u2571         E_s      D    \u23a0                                  \n",
        "\u2500\u2500\u2500\u2500\u2500\u2500\u2500\u2500\u2500\u2500\u2500\u2500\u2500\u2500\u2500\u2500\u2500\u2500\u2500\u2500\u2500\u2500\u2500\u2500\u2500\u2500\u2500\u2500\u2500\u2500\u2500\u2500\u2500\u2500\u2500\u2500\u2500\u2500\u2500\u2500\u2500\u2500\u2500\u2500                                  \n",
        "                E_d                                                           \n",
        "                                                                              \n",
        "                                                                              \n",
        "                                                                              \n",
        "                                                                              \n",
        "\u2500\u2500\u2500\u2500\u2500\u2500\u2500\u2500\u2500\u2500\u2500\u2500\u2500\u2500\u2500\u2500\u2500\u2500\u2500\u2500\u2500\u2500\u2500\u2500\u2500\u2500\u2500\u2500\u2500\u2500\u2500\u2500\u2500\u2500\u2500\u2500\u2500\u2500\u2500\u2500\u2500\u2500\u2500\u2500\u2500\u2500\u2500\u2500\u2500\u2500\u2500\u2500\u2500\u2500\u2500\u2500\u2500\u2500\u2500\u2500\u2500\u2500\u2500\u2500\u2500\u2500\u2500\u2500\u2500\u2500\u2500\u2500\u2500\u2500\u2500\u2500\u2500\u2500\n",
        "                                                                              \n",
        "\u2500\u2500\u2500\u2500\u2500\u2500\u2500\u2500\u2500\u2500\u2500\u2500\u2500\u2500\u2500\u2500\u2500\u2500\u2500\u2500\u2500\u2500\u2500\u2500\u2500\u2500\u2500\u2500\u2500\u2500\u2500\u2500\u2500\u2500\u2500\u2500\u2500\u2500\u2500\u2500\u2500\u2500\u2500\u2500\u2500\u2500\u2500\u2500\u2500\u2500\u2500\u2500\u2500\u2500\u2500\u2500\u2500\u2500\u2500\u2500\u2500\u2500\u2500\u2500\u2500\u2500\u2500\u2500\u2500\u2500\u2500\u2500\u2500\u2500\u2500\u2500\u2500\u2500\n",
        "                                                                              \n",
        "                                                                              \n",
        "                                                                              \n",
        "                                                                              \n",
        "                                     \u239b         ____________________\u239e          \n",
        "                                     \u239c        \u2571        2           \u239f          \n",
        "   ____________________\u239e             \u239c       \u2571   2    \u03ba    1.0\u22c5\u2148\u22c5\u03c9 \u239f          \n",
        "  \u2571        2           \u239f   E_eff\u22c5sinh\u239ch_s\u22c5  \u2571   k  + \u2500\u2500\u2500 + \u2500\u2500\u2500\u2500\u2500\u2500\u2500 \u239f\u22c5cosh(h_s\u22c5\n",
        " \u2571   2    \u03ba    1.0\u22c5\u2148\u22c5\u03c9 \u239f             \u239d    \u2572\u2571         E_s      D    \u23a0          \n",
        "\u2571   k  + \u2500\u2500\u2500 + \u2500\u2500\u2500\u2500\u2500\u2500\u2500 \u239f + \u2500\u2500\u2500\u2500\u2500\u2500\u2500\u2500\u2500\u2500\u2500\u2500\u2500\u2500\u2500\u2500\u2500\u2500\u2500\u2500\u2500\u2500\u2500\u2500\u2500\u2500\u2500\u2500\u2500\u2500\u2500\u2500\u2500\u2500\u2500\u2500\u2500\u2500\u2500\u2500\u2500\u2500\u2500\u2500\u2500\u2500\u2500\u2500\u2500\u2500\u2500\n",
        "         E_s      D    \u23a0                            E_d                       \n",
        "                                                                              \n",
        "                                                                              \n",
        "                                                                              \n",
        "                                                                              \n",
        "\u2500\u2500\u2500\u2500\u2500\u2500\u2500\u2500\u2500\u2500\u2500\u2500\u2500\u2500\u2500\u2500\u2500\u2500\u2500\u2500\u2500\u2500\u2500\u2500\u2500\u2500\u2500\u2500\u2500\u2500\u2500\u2500\u2500\u2500\u2500\u2500\u2500\u2500\u2500\u2500\u2500\u2500\u2500\u2500\u2500\u2500\u2500\u2500\u2500\u2500\u2500\u2500\u2500\u2500\u2500\u2500\u2500\u2500\u2500\u2500\u2500\u2500\u2500\u2500\u2500\u2500\u2500\u2500\u2500\u2500\u2500\u2500\u2500\u2500\u2500\u2500\u2500\u2500\n",
        "             \u239b         ____________________\u239e                                  \n",
        "             \u239c        \u2571        2           \u239f                                  \n",
        "             \u239c       \u2571   2    \u03ba    1.0\u22c5\u2148\u22c5\u03c9 \u239f                                  \n",
        "h(h_s\u22c5k)\u22c5sinh\u239ch_s\u22c5  \u2571   k  + \u2500\u2500\u2500 + \u2500\u2500\u2500\u2500\u2500\u2500\u2500 \u239f                                  \n",
        "             \u239d    \u2572\u2571         E_s      D    \u23a0                                  \n",
        "\u2500\u2500\u2500\u2500\u2500\u2500\u2500\u2500\u2500\u2500\u2500\u2500\u2500\u2500\u2500\u2500\u2500\u2500\u2500\u2500\u2500\u2500\u2500\u2500\u2500\u2500\u2500\u2500\u2500\u2500\u2500\u2500\u2500\u2500\u2500\u2500\u2500\u2500\u2500\u2500\u2500\u2500\u2500\u2500                                  \n",
        "                E_d                                                           \n",
        "                                                                              \n",
        "                                                                              \n",
        "                                                                              \n",
        "                                                                              \n",
        "\u2500\u2500\u2500\u2500\u2500\u2500\u2500\u2500\u2500\u2500\u2500\u2500\u2500\u2500\u2500\u2500\u2500\u2500\u2500\u2500\u2500\u2500\u2500\u2500\u2500\u2500\u2500\u2500\u2500\u2500\u2500\u2500\u2500\u2500\u2500\u2500\u2500\u2500\u2500\u2500\u2500\u2500\u2500\u2500\u2500\u2500\u2500\u2500\u2500\u2500\u2500\u2500\u2500\u2500\u2500\u2500\u2500\u2500\u2500\u2500\u2500\u2500\u2500\u2500\u2500\u2500\u2500\u2500\u2500\u2500\u2500\u2500\u2500\u2500\u2500\u2500\u2500\u2500\n",
        "                                                                              \n",
        "\n",
        "  \u239e\n",
        "  \u239f\n",
        "  \u239f\n",
        "  \u239f\n",
        "  \u239f\n",
        "  \u239f\n",
        "  \u239f\n",
        "k)\u239f\n",
        "  \u239f\n",
        "\u2500\u2500\u239f\n",
        "  \u239f\n",
        "  \u239f\n",
        "  \u239f\n",
        "  \u239f\n",
        "  \u239f\n",
        "\u2500\u2500\u239f\n",
        "  \u239f\n",
        "  \u239f\n",
        "  \u239f\n",
        "  \u239f\n",
        "  \u239f\n",
        "  \u239f\n",
        "  \u239f\n",
        "  \u239f\n",
        "  \u239f\n",
        "  \u239f\n",
        "  \u23a0\n",
        "\u2500\u2500\u2500\n",
        "   \n",
        "\u2500\u2500\u2500\n",
        "  \u239e\n",
        "  \u239f\n",
        "  \u239f\n",
        "  \u239f\n",
        "  \u239f\n",
        "  \u239f\n",
        "  \u239f\n",
        "k)\u239f\n",
        "  \u239f\n",
        "\u2500\u2500\u239f\n",
        "  \u239f\n",
        "  \u239f\n",
        "  \u239f\n",
        "  \u239f\n",
        "  \u239f\n",
        "\u2500\u2500\u239f\n",
        "  \u239f\n",
        "  \u239f\n",
        "  \u239f\n",
        "  \u239f\n",
        "  \u239f\n",
        "  \u239f\n",
        "  \u239f\n",
        "  \u239f\n",
        "  \u239f\n",
        "  \u239f\n",
        "  \u23a0\n",
        "\u2500\u2500\u2500\n",
        "   "
       ]
      }
     ],
     "prompt_number": 140
    },
    {
     "cell_type": "code",
     "collapsed": false,
     "input": [],
     "language": "python",
     "metadata": {},
     "outputs": [
      {
       "latex": [
        "$$\\frac{E_{s} - \\frac{E_{s}}{E_{eff}} \\left(\\frac{k \\left(\\frac{E_{eff}}{E_{s}} - 1\\right)}{\\sqrt{k^{2} + \\frac{\\kappa^{2}}{E_{s}} + \\frac{1.0 i}{D} \\omega} \\tanh{\\left (h_{s} \\sqrt{k^{2} + \\frac{\\kappa^{2}}{E_{s}} + \\frac{1.0 i}{D} \\omega} \\right )}} + \\frac{- \\frac{k}{\\sqrt{k^{2} + \\frac{\\kappa^{2}}{E_{s}} + \\frac{1.0 i}{D} \\omega}} \\left(\\frac{E_{eff}}{E_{s}} - 1\\right) \\left(\\frac{k \\left(\\frac{E_{eff}}{E_{s}} - 1\\right) \\sinh{\\left (h_{s} k \\right )}}{\\sqrt{k^{2} + \\frac{\\kappa^{2}}{E_{s}} + \\frac{1.0 i}{D} \\omega} \\sinh{\\left (h_{s} \\sqrt{k^{2} + \\frac{\\kappa^{2}}{E_{s}} + \\frac{1.0 i}{D} \\omega} \\right )}} - \\cosh{\\left (h_{s} k \\right )} \\cosh{\\left (h_{s} \\sqrt{k^{2} + \\frac{\\kappa^{2}}{E_{s}} + \\frac{1.0 i}{D} \\omega} \\right )} + 2\\right) + \\sinh{\\left (h_{s} k \\right )} \\sinh{\\left (h_{s} \\sqrt{k^{2} + \\frac{\\kappa^{2}}{E_{s}} + \\frac{1.0 i}{D} \\omega} \\right )} + \\frac{E_{eff}}{E_{d}} \\sinh{\\left (h_{s} \\sqrt{k^{2} + \\frac{\\kappa^{2}}{E_{s}} + \\frac{1.0 i}{D} \\omega} \\right )} \\cosh{\\left (h_{s} k \\right )}}{\\frac{k \\cosh{\\left (h_{s} \\sqrt{k^{2} + \\frac{\\kappa^{2}}{E_{s}} + \\frac{1.0 i}{D} \\omega} \\right )}}{\\sqrt{k^{2} + \\frac{\\kappa^{2}}{E_{s}} + \\frac{1.0 i}{D} \\omega}} \\left(\\frac{E_{eff}}{E_{s}} - 1\\right) \\sinh{\\left (h_{s} k \\right )} + \\sinh{\\left (h_{s} \\sqrt{k^{2} + \\frac{\\kappa^{2}}{E_{s}} + \\frac{1.0 i}{D} \\omega} \\right )} \\cosh{\\left (h_{s} k \\right )} + \\frac{E_{eff}}{E_{d}} \\sinh{\\left (h_{s} k \\right )} \\sinh{\\left (h_{s} \\sqrt{k^{2} + \\frac{\\kappa^{2}}{E_{s}} + \\frac{1.0 i}{D} \\omega} \\right )}}\\right)}{E_{s} + \\frac{E_{s}}{E_{eff}} \\left(\\frac{k \\left(\\frac{E_{eff}}{E_{s}} - 1\\right)}{\\sqrt{k^{2} + \\frac{\\kappa^{2}}{E_{s}} + \\frac{1.0 i}{D} \\omega} \\tanh{\\left (h_{s} \\sqrt{k^{2} + \\frac{\\kappa^{2}}{E_{s}} + \\frac{1.0 i}{D} \\omega} \\right )}} + \\frac{- \\frac{k}{\\sqrt{k^{2} + \\frac{\\kappa^{2}}{E_{s}} + \\frac{1.0 i}{D} \\omega}} \\left(\\frac{E_{eff}}{E_{s}} - 1\\right) \\left(\\frac{k \\left(\\frac{E_{eff}}{E_{s}} - 1\\right) \\sinh{\\left (h_{s} k \\right )}}{\\sqrt{k^{2} + \\frac{\\kappa^{2}}{E_{s}} + \\frac{1.0 i}{D} \\omega} \\sinh{\\left (h_{s} \\sqrt{k^{2} + \\frac{\\kappa^{2}}{E_{s}} + \\frac{1.0 i}{D} \\omega} \\right )}} - \\cosh{\\left (h_{s} k \\right )} \\cosh{\\left (h_{s} \\sqrt{k^{2} + \\frac{\\kappa^{2}}{E_{s}} + \\frac{1.0 i}{D} \\omega} \\right )} + 2\\right) + \\sinh{\\left (h_{s} k \\right )} \\sinh{\\left (h_{s} \\sqrt{k^{2} + \\frac{\\kappa^{2}}{E_{s}} + \\frac{1.0 i}{D} \\omega} \\right )} + \\frac{E_{eff}}{E_{d}} \\sinh{\\left (h_{s} \\sqrt{k^{2} + \\frac{\\kappa^{2}}{E_{s}} + \\frac{1.0 i}{D} \\omega} \\right )} \\cosh{\\left (h_{s} k \\right )}}{\\frac{k \\cosh{\\left (h_{s} \\sqrt{k^{2} + \\frac{\\kappa^{2}}{E_{s}} + \\frac{1.0 i}{D} \\omega} \\right )}}{\\sqrt{k^{2} + \\frac{\\kappa^{2}}{E_{s}} + \\frac{1.0 i}{D} \\omega}} \\left(\\frac{E_{eff}}{E_{s}} - 1\\right) \\sinh{\\left (h_{s} k \\right )} + \\sinh{\\left (h_{s} \\sqrt{k^{2} + \\frac{\\kappa^{2}}{E_{s}} + \\frac{1.0 i}{D} \\omega} \\right )} \\cosh{\\left (h_{s} k \\right )} + \\frac{E_{eff}}{E_{d}} \\sinh{\\left (h_{s} k \\right )} \\sinh{\\left (h_{s} \\sqrt{k^{2} + \\frac{\\kappa^{2}}{E_{s}} + \\frac{1.0 i}{D} \\omega} \\right )}}\\right)}$$"
       ],
       "metadata": {},
       "output_type": "pyout",
       "prompt_number": 141,
       "text": [
        "          \u239b                                                                   \n",
        "          \u239c                                                                   \n",
        "          \u239c                                                                   \n",
        "          \u239c                                                                  k\n",
        "          \u239c                                                                   \n",
        "          \u239c                                                                   \n",
        "          \u239c                                                                   \n",
        "          \u239c                                                                   \n",
        "          \u239c                                                                   \n",
        "          \u239c                                                                - \u2500\n",
        "          \u239c                                                                   \n",
        "          \u239c                                                                   \n",
        "          \u239c                          \u239bE_eff    \u239e                              \n",
        "          \u239c                        k\u22c5\u239c\u2500\u2500\u2500\u2500\u2500 - 1\u239f                              \n",
        "          \u239c                          \u239d E_s     \u23a0                              \n",
        "      E_s\u22c5\u239c\u2500\u2500\u2500\u2500\u2500\u2500\u2500\u2500\u2500\u2500\u2500\u2500\u2500\u2500\u2500\u2500\u2500\u2500\u2500\u2500\u2500\u2500\u2500\u2500\u2500\u2500\u2500\u2500\u2500\u2500\u2500\u2500\u2500\u2500\u2500\u2500\u2500\u2500\u2500\u2500\u2500\u2500\u2500\u2500\u2500\u2500\u2500\u2500\u2500\u2500\u2500\u2500\u2500\u2500\u2500\u2500\u2500\u2500\u2500\u2500\u2500 + \u2500\u2500\u2500\n",
        "          \u239c     ____________________     \u239b         ____________________\u239e      \n",
        "          \u239c    \u2571        2                \u239c        \u2571        2           \u239f      \n",
        "          \u239c   \u2571   2    \u03ba    1.0\u22c5\u2148\u22c5\u03c9      \u239c       \u2571   2    \u03ba    1.0\u22c5\u2148\u22c5\u03c9 \u239f      \n",
        "          \u239c  \u2571   k  + \u2500\u2500\u2500 + \u2500\u2500\u2500\u2500\u2500\u2500\u2500 \u22c5tanh\u239ch_s\u22c5  \u2571   k  + \u2500\u2500\u2500 + \u2500\u2500\u2500\u2500\u2500\u2500\u2500 \u239f      \n",
        "          \u239c\u2572\u2571         E_s      D         \u239d    \u2572\u2571         E_s      D    \u23a0      \n",
        "          \u239c                                                                   \n",
        "          \u239c                                                                   \n",
        "          \u239c                                                                   \n",
        "          \u239c                                                                   \n",
        "          \u239c                                                                   \n",
        "          \u239d                                                                   \n",
        "E_s - \u2500\u2500\u2500\u2500\u2500\u2500\u2500\u2500\u2500\u2500\u2500\u2500\u2500\u2500\u2500\u2500\u2500\u2500\u2500\u2500\u2500\u2500\u2500\u2500\u2500\u2500\u2500\u2500\u2500\u2500\u2500\u2500\u2500\u2500\u2500\u2500\u2500\u2500\u2500\u2500\u2500\u2500\u2500\u2500\u2500\u2500\u2500\u2500\u2500\u2500\u2500\u2500\u2500\u2500\u2500\u2500\u2500\u2500\u2500\u2500\u2500\u2500\u2500\u2500\u2500\u2500\u2500\u2500\u2500\u2500\u2500\u2500\n",
        "                                                                              \n",
        "\u2500\u2500\u2500\u2500\u2500\u2500\u2500\u2500\u2500\u2500\u2500\u2500\u2500\u2500\u2500\u2500\u2500\u2500\u2500\u2500\u2500\u2500\u2500\u2500\u2500\u2500\u2500\u2500\u2500\u2500\u2500\u2500\u2500\u2500\u2500\u2500\u2500\u2500\u2500\u2500\u2500\u2500\u2500\u2500\u2500\u2500\u2500\u2500\u2500\u2500\u2500\u2500\u2500\u2500\u2500\u2500\u2500\u2500\u2500\u2500\u2500\u2500\u2500\u2500\u2500\u2500\u2500\u2500\u2500\u2500\u2500\u2500\u2500\u2500\u2500\u2500\u2500\u2500\n",
        "          \u239b                                                                   \n",
        "          \u239c                                                                   \n",
        "          \u239c                                                                   \n",
        "          \u239c                                                                  k\n",
        "          \u239c                                                                   \n",
        "          \u239c                                                                   \n",
        "          \u239c                                                                   \n",
        "          \u239c                                                                   \n",
        "          \u239c                                                                   \n",
        "          \u239c                                                                - \u2500\n",
        "          \u239c                                                                   \n",
        "          \u239c                                                                   \n",
        "          \u239c                          \u239bE_eff    \u239e                              \n",
        "          \u239c                        k\u22c5\u239c\u2500\u2500\u2500\u2500\u2500 - 1\u239f                              \n",
        "          \u239c                          \u239d E_s     \u23a0                              \n",
        "      E_s\u22c5\u239c\u2500\u2500\u2500\u2500\u2500\u2500\u2500\u2500\u2500\u2500\u2500\u2500\u2500\u2500\u2500\u2500\u2500\u2500\u2500\u2500\u2500\u2500\u2500\u2500\u2500\u2500\u2500\u2500\u2500\u2500\u2500\u2500\u2500\u2500\u2500\u2500\u2500\u2500\u2500\u2500\u2500\u2500\u2500\u2500\u2500\u2500\u2500\u2500\u2500\u2500\u2500\u2500\u2500\u2500\u2500\u2500\u2500\u2500\u2500\u2500\u2500 + \u2500\u2500\u2500\n",
        "          \u239c     ____________________     \u239b         ____________________\u239e      \n",
        "          \u239c    \u2571        2                \u239c        \u2571        2           \u239f      \n",
        "          \u239c   \u2571   2    \u03ba    1.0\u22c5\u2148\u22c5\u03c9      \u239c       \u2571   2    \u03ba    1.0\u22c5\u2148\u22c5\u03c9 \u239f      \n",
        "          \u239c  \u2571   k  + \u2500\u2500\u2500 + \u2500\u2500\u2500\u2500\u2500\u2500\u2500 \u22c5tanh\u239ch_s\u22c5  \u2571   k  + \u2500\u2500\u2500 + \u2500\u2500\u2500\u2500\u2500\u2500\u2500 \u239f      \n",
        "          \u239c\u2572\u2571         E_s      D         \u239d    \u2572\u2571         E_s      D    \u23a0      \n",
        "          \u239c                                                                   \n",
        "          \u239c                                                                   \n",
        "          \u239c                                                                   \n",
        "          \u239c                                                                   \n",
        "          \u239c                                                                   \n",
        "          \u239d                                                                   \n",
        "E_s + \u2500\u2500\u2500\u2500\u2500\u2500\u2500\u2500\u2500\u2500\u2500\u2500\u2500\u2500\u2500\u2500\u2500\u2500\u2500\u2500\u2500\u2500\u2500\u2500\u2500\u2500\u2500\u2500\u2500\u2500\u2500\u2500\u2500\u2500\u2500\u2500\u2500\u2500\u2500\u2500\u2500\u2500\u2500\u2500\u2500\u2500\u2500\u2500\u2500\u2500\u2500\u2500\u2500\u2500\u2500\u2500\u2500\u2500\u2500\u2500\u2500\u2500\u2500\u2500\u2500\u2500\u2500\u2500\u2500\u2500\u2500\u2500\n",
        "                                                                              \n",
        "\n",
        "             \u239b                    \u239bE_eff    \u239e                                 \n",
        "             \u239c                  k\u22c5\u239c\u2500\u2500\u2500\u2500\u2500 - 1\u239f\u22c5sinh(h_s\u22c5k)                     \n",
        " \u239bE_eff    \u239e \u239c                    \u239d E_s     \u23a0                                 \n",
        "\u22c5\u239c\u2500\u2500\u2500\u2500\u2500 - 1\u239f\u22c5\u239c\u2500\u2500\u2500\u2500\u2500\u2500\u2500\u2500\u2500\u2500\u2500\u2500\u2500\u2500\u2500\u2500\u2500\u2500\u2500\u2500\u2500\u2500\u2500\u2500\u2500\u2500\u2500\u2500\u2500\u2500\u2500\u2500\u2500\u2500\u2500\u2500\u2500\u2500\u2500\u2500\u2500\u2500\u2500\u2500\u2500\u2500\u2500\u2500\u2500\u2500\u2500\u2500\u2500\u2500\u2500\u2500\u2500\u2500\u2500\u2500\u2500 - \n",
        " \u239d E_s     \u23a0 \u239c     ____________________     \u239b         ____________________\u239e   \n",
        "             \u239c    \u2571        2                \u239c        \u2571        2           \u239f   \n",
        "             \u239c   \u2571   2    \u03ba    1.0\u22c5\u2148\u22c5\u03c9      \u239c       \u2571   2    \u03ba    1.0\u22c5\u2148\u22c5\u03c9 \u239f   \n",
        "             \u239c  \u2571   k  + \u2500\u2500\u2500 + \u2500\u2500\u2500\u2500\u2500\u2500\u2500 \u22c5sinh\u239ch_s\u22c5  \u2571   k  + \u2500\u2500\u2500 + \u2500\u2500\u2500\u2500\u2500\u2500\u2500 \u239f   \n",
        "             \u239d\u2572\u2571         E_s      D         \u239d    \u2572\u2571         E_s      D    \u23a0   \n",
        "\u2500\u2500\u2500\u2500\u2500\u2500\u2500\u2500\u2500\u2500\u2500\u2500\u2500\u2500\u2500\u2500\u2500\u2500\u2500\u2500\u2500\u2500\u2500\u2500\u2500\u2500\u2500\u2500\u2500\u2500\u2500\u2500\u2500\u2500\u2500\u2500\u2500\u2500\u2500\u2500\u2500\u2500\u2500\u2500\u2500\u2500\u2500\u2500\u2500\u2500\u2500\u2500\u2500\u2500\u2500\u2500\u2500\u2500\u2500\u2500\u2500\u2500\u2500\u2500\u2500\u2500\u2500\u2500\u2500\u2500\u2500\u2500\u2500\u2500\u2500\u2500\u2500\u2500\n",
        "                                                         ____________________ \n",
        "                                                        \u2571        2            \n",
        "                                                       \u2571   2    \u03ba    1.0\u22c5\u2148\u22c5\u03c9  \n",
        "                                                      \u2571   k  + \u2500\u2500\u2500 + \u2500\u2500\u2500\u2500\u2500\u2500\u2500  \n",
        "                                                    \u2572\u2571         E_s      D     \n",
        "\u2500\u2500\u2500\u2500\u2500\u2500\u2500\u2500\u2500\u2500\u2500\u2500\u2500\u2500\u2500\u2500\u2500\u2500\u2500\u2500\u2500\u2500\u2500\u2500\u2500\u2500\u2500\u2500\u2500\u2500\u2500\u2500\u2500\u2500\u2500\u2500\u2500\u2500\u2500\u2500\u2500\u2500\u2500\u2500\u2500\u2500\u2500\u2500\u2500\u2500\u2500\u2500\u2500\u2500\u2500\u2500\u2500\u2500\u2500\u2500\u2500\u2500\u2500\u2500\u2500\u2500\u2500\u2500\u2500\u2500\u2500\u2500\u2500\u2500\u2500\u2500\u2500\u2500\n",
        "                                                               \u239b         _____\n",
        "                                                               \u239c        \u2571     \n",
        "                                   \u239bE_eff    \u239e                 \u239c       \u2571   2  \n",
        "                                 k\u22c5\u239c\u2500\u2500\u2500\u2500\u2500 - 1\u239f\u22c5sinh(h_s\u22c5k)\u22c5cosh\u239ch_s\u22c5  \u2571   k  +\n",
        "                                   \u239d E_s     \u23a0                 \u239d    \u2572\u2571        \n",
        "                                 \u2500\u2500\u2500\u2500\u2500\u2500\u2500\u2500\u2500\u2500\u2500\u2500\u2500\u2500\u2500\u2500\u2500\u2500\u2500\u2500\u2500\u2500\u2500\u2500\u2500\u2500\u2500\u2500\u2500\u2500\u2500\u2500\u2500\u2500\u2500\u2500\u2500\u2500\u2500\u2500\u2500\u2500\u2500\u2500\u2500\n",
        "                                                        ____________________  \n",
        "                                                       \u2571        2             \n",
        "                                                      \u2571   2    \u03ba    1.0\u22c5\u2148\u22c5\u03c9   \n",
        "                                                     \u2571   k  + \u2500\u2500\u2500 + \u2500\u2500\u2500\u2500\u2500\u2500\u2500   \n",
        "                                                   \u2572\u2571         E_s      D      \n",
        "\u2500\u2500\u2500\u2500\u2500\u2500\u2500\u2500\u2500\u2500\u2500\u2500\u2500\u2500\u2500\u2500\u2500\u2500\u2500\u2500\u2500\u2500\u2500\u2500\u2500\u2500\u2500\u2500\u2500\u2500\u2500\u2500\u2500\u2500\u2500\u2500\u2500\u2500\u2500\u2500\u2500\u2500\u2500\u2500\u2500\u2500\u2500\u2500\u2500\u2500\u2500\u2500\u2500\u2500\u2500\u2500\u2500\u2500\u2500\u2500\u2500\u2500\u2500\u2500\u2500\u2500\u2500\u2500\u2500\u2500\u2500\u2500\u2500\u2500\u2500\u2500\u2500\u2500\n",
        "                                                                              \n",
        "\u2500\u2500\u2500\u2500\u2500\u2500\u2500\u2500\u2500\u2500\u2500\u2500\u2500\u2500\u2500\u2500\u2500\u2500\u2500\u2500\u2500\u2500\u2500\u2500\u2500\u2500\u2500\u2500\u2500\u2500\u2500\u2500\u2500\u2500\u2500\u2500\u2500\u2500\u2500\u2500\u2500\u2500\u2500\u2500\u2500\u2500\u2500\u2500\u2500\u2500\u2500\u2500\u2500\u2500\u2500\u2500\u2500\u2500\u2500\u2500\u2500\u2500\u2500\u2500\u2500\u2500\u2500\u2500\u2500\u2500\u2500\u2500\u2500\u2500\u2500\u2500\u2500\u2500\n",
        "             \u239b                    \u239bE_eff    \u239e                                 \n",
        "             \u239c                  k\u22c5\u239c\u2500\u2500\u2500\u2500\u2500 - 1\u239f\u22c5sinh(h_s\u22c5k)                     \n",
        " \u239bE_eff    \u239e \u239c                    \u239d E_s     \u23a0                                 \n",
        "\u22c5\u239c\u2500\u2500\u2500\u2500\u2500 - 1\u239f\u22c5\u239c\u2500\u2500\u2500\u2500\u2500\u2500\u2500\u2500\u2500\u2500\u2500\u2500\u2500\u2500\u2500\u2500\u2500\u2500\u2500\u2500\u2500\u2500\u2500\u2500\u2500\u2500\u2500\u2500\u2500\u2500\u2500\u2500\u2500\u2500\u2500\u2500\u2500\u2500\u2500\u2500\u2500\u2500\u2500\u2500\u2500\u2500\u2500\u2500\u2500\u2500\u2500\u2500\u2500\u2500\u2500\u2500\u2500\u2500\u2500\u2500\u2500 - \n",
        " \u239d E_s     \u23a0 \u239c     ____________________     \u239b         ____________________\u239e   \n",
        "             \u239c    \u2571        2                \u239c        \u2571        2           \u239f   \n",
        "             \u239c   \u2571   2    \u03ba    1.0\u22c5\u2148\u22c5\u03c9      \u239c       \u2571   2    \u03ba    1.0\u22c5\u2148\u22c5\u03c9 \u239f   \n",
        "             \u239c  \u2571   k  + \u2500\u2500\u2500 + \u2500\u2500\u2500\u2500\u2500\u2500\u2500 \u22c5sinh\u239ch_s\u22c5  \u2571   k  + \u2500\u2500\u2500 + \u2500\u2500\u2500\u2500\u2500\u2500\u2500 \u239f   \n",
        "             \u239d\u2572\u2571         E_s      D         \u239d    \u2572\u2571         E_s      D    \u23a0   \n",
        "\u2500\u2500\u2500\u2500\u2500\u2500\u2500\u2500\u2500\u2500\u2500\u2500\u2500\u2500\u2500\u2500\u2500\u2500\u2500\u2500\u2500\u2500\u2500\u2500\u2500\u2500\u2500\u2500\u2500\u2500\u2500\u2500\u2500\u2500\u2500\u2500\u2500\u2500\u2500\u2500\u2500\u2500\u2500\u2500\u2500\u2500\u2500\u2500\u2500\u2500\u2500\u2500\u2500\u2500\u2500\u2500\u2500\u2500\u2500\u2500\u2500\u2500\u2500\u2500\u2500\u2500\u2500\u2500\u2500\u2500\u2500\u2500\u2500\u2500\u2500\u2500\u2500\u2500\n",
        "                                                         ____________________ \n",
        "                                                        \u2571        2            \n",
        "                                                       \u2571   2    \u03ba    1.0\u22c5\u2148\u22c5\u03c9  \n",
        "                                                      \u2571   k  + \u2500\u2500\u2500 + \u2500\u2500\u2500\u2500\u2500\u2500\u2500  \n",
        "                                                    \u2572\u2571         E_s      D     \n",
        "\u2500\u2500\u2500\u2500\u2500\u2500\u2500\u2500\u2500\u2500\u2500\u2500\u2500\u2500\u2500\u2500\u2500\u2500\u2500\u2500\u2500\u2500\u2500\u2500\u2500\u2500\u2500\u2500\u2500\u2500\u2500\u2500\u2500\u2500\u2500\u2500\u2500\u2500\u2500\u2500\u2500\u2500\u2500\u2500\u2500\u2500\u2500\u2500\u2500\u2500\u2500\u2500\u2500\u2500\u2500\u2500\u2500\u2500\u2500\u2500\u2500\u2500\u2500\u2500\u2500\u2500\u2500\u2500\u2500\u2500\u2500\u2500\u2500\u2500\u2500\u2500\u2500\u2500\n",
        "                                                               \u239b         _____\n",
        "                                                               \u239c        \u2571     \n",
        "                                   \u239bE_eff    \u239e                 \u239c       \u2571   2  \n",
        "                                 k\u22c5\u239c\u2500\u2500\u2500\u2500\u2500 - 1\u239f\u22c5sinh(h_s\u22c5k)\u22c5cosh\u239ch_s\u22c5  \u2571   k  +\n",
        "                                   \u239d E_s     \u23a0                 \u239d    \u2572\u2571        \n",
        "                                 \u2500\u2500\u2500\u2500\u2500\u2500\u2500\u2500\u2500\u2500\u2500\u2500\u2500\u2500\u2500\u2500\u2500\u2500\u2500\u2500\u2500\u2500\u2500\u2500\u2500\u2500\u2500\u2500\u2500\u2500\u2500\u2500\u2500\u2500\u2500\u2500\u2500\u2500\u2500\u2500\u2500\u2500\u2500\u2500\u2500\n",
        "                                                        ____________________  \n",
        "                                                       \u2571        2             \n",
        "                                                      \u2571   2    \u03ba    1.0\u22c5\u2148\u22c5\u03c9   \n",
        "                                                     \u2571   k  + \u2500\u2500\u2500 + \u2500\u2500\u2500\u2500\u2500\u2500\u2500   \n",
        "                                                   \u2572\u2571         E_s      D      \n",
        "\u2500\u2500\u2500\u2500\u2500\u2500\u2500\u2500\u2500\u2500\u2500\u2500\u2500\u2500\u2500\u2500\u2500\u2500\u2500\u2500\u2500\u2500\u2500\u2500\u2500\u2500\u2500\u2500\u2500\u2500\u2500\u2500\u2500\u2500\u2500\u2500\u2500\u2500\u2500\u2500\u2500\u2500\u2500\u2500\u2500\u2500\u2500\u2500\u2500\u2500\u2500\u2500\u2500\u2500\u2500\u2500\u2500\u2500\u2500\u2500\u2500\u2500\u2500\u2500\u2500\u2500\u2500\u2500\u2500\u2500\u2500\u2500\u2500\u2500\u2500\u2500\u2500\u2500\n",
        "                                                                              \n",
        "\n",
        "                \u239b         ____________________\u239e    \u239e                          \n",
        "                \u239c        \u2571        2           \u239f    \u239f                          \n",
        "                \u239c       \u2571   2    \u03ba    1.0\u22c5\u2148\u22c5\u03c9 \u239f    \u239f                          \n",
        "cosh(h_s\u22c5k)\u22c5cosh\u239ch_s\u22c5  \u2571   k  + \u2500\u2500\u2500 + \u2500\u2500\u2500\u2500\u2500\u2500\u2500 \u239f + 2\u239f                          \n",
        "                \u239d    \u2572\u2571         E_s      D    \u23a0    \u239f                          \n",
        "                                                   \u239f                          \n",
        "                                                   \u239f                   \u239b      \n",
        "                                                   \u239f                   \u239c      \n",
        "                                                   \u23a0                   \u239c      \n",
        "\u2500\u2500\u2500\u2500\u2500\u2500\u2500\u2500\u2500\u2500\u2500\u2500\u2500\u2500\u2500\u2500\u2500\u2500\u2500\u2500\u2500\u2500\u2500\u2500\u2500\u2500\u2500\u2500\u2500\u2500\u2500\u2500\u2500\u2500\u2500\u2500\u2500\u2500\u2500\u2500\u2500\u2500\u2500\u2500\u2500\u2500\u2500\u2500\u2500\u2500\u2500\u2500 + sinh(h_s\u22c5k)\u22c5sinh\u239ch_s\u22c5  \n",
        "                                                                       \u239d    \u2572\u2571\n",
        "                                                                              \n",
        "                                                                              \n",
        "                                                                              \n",
        "                                                                              \n",
        "\u2500\u2500\u2500\u2500\u2500\u2500\u2500\u2500\u2500\u2500\u2500\u2500\u2500\u2500\u2500\u2500\u2500\u2500\u2500\u2500\u2500\u2500\u2500\u2500\u2500\u2500\u2500\u2500\u2500\u2500\u2500\u2500\u2500\u2500\u2500\u2500\u2500\u2500\u2500\u2500\u2500\u2500\u2500\u2500\u2500\u2500\u2500\u2500\u2500\u2500\u2500\u2500\u2500\u2500\u2500\u2500\u2500\u2500\u2500\u2500\u2500\u2500\u2500\u2500\u2500\u2500\u2500\u2500\u2500\u2500\u2500\u2500\u2500\u2500\u2500\u2500\u2500\u2500\n",
        "_______________\u239e                                                              \n",
        "   2           \u239f                                                              \n",
        "  \u03ba    1.0\u22c5\u2148\u22c5\u03c9 \u239f       \u239b         ____________________\u239e                        \n",
        " \u2500\u2500\u2500 + \u2500\u2500\u2500\u2500\u2500\u2500\u2500 \u239f       \u239c        \u2571        2           \u239f               E_eff\u22c5sin\n",
        " E_s      D    \u23a0       \u239c       \u2571   2    \u03ba    1.0\u22c5\u2148\u22c5\u03c9 \u239f                        \n",
        "\u2500\u2500\u2500\u2500\u2500\u2500\u2500\u2500\u2500\u2500\u2500\u2500\u2500\u2500\u2500\u2500 + sinh\u239ch_s\u22c5  \u2571   k  + \u2500\u2500\u2500 + \u2500\u2500\u2500\u2500\u2500\u2500\u2500 \u239f\u22c5cosh(h_s\u22c5k) + \u2500\u2500\u2500\u2500\u2500\u2500\u2500\u2500\u2500\n",
        "                       \u239d    \u2572\u2571         E_s      D    \u23a0                        \n",
        "                                                                              \n",
        "                                                                              \n",
        "                                                                              \n",
        "                                                                              \n",
        "\u2500\u2500\u2500\u2500\u2500\u2500\u2500\u2500\u2500\u2500\u2500\u2500\u2500\u2500\u2500\u2500\u2500\u2500\u2500\u2500\u2500\u2500\u2500\u2500\u2500\u2500\u2500\u2500\u2500\u2500\u2500\u2500\u2500\u2500\u2500\u2500\u2500\u2500\u2500\u2500\u2500\u2500\u2500\u2500\u2500\u2500\u2500\u2500\u2500\u2500\u2500\u2500\u2500\u2500\u2500\u2500\u2500\u2500\u2500\u2500\u2500\u2500\u2500\u2500\u2500\u2500\u2500\u2500\u2500\u2500\u2500\u2500\u2500\u2500\u2500\u2500\u2500\u2500\n",
        "  E_eff                                                                       \n",
        "\u2500\u2500\u2500\u2500\u2500\u2500\u2500\u2500\u2500\u2500\u2500\u2500\u2500\u2500\u2500\u2500\u2500\u2500\u2500\u2500\u2500\u2500\u2500\u2500\u2500\u2500\u2500\u2500\u2500\u2500\u2500\u2500\u2500\u2500\u2500\u2500\u2500\u2500\u2500\u2500\u2500\u2500\u2500\u2500\u2500\u2500\u2500\u2500\u2500\u2500\u2500\u2500\u2500\u2500\u2500\u2500\u2500\u2500\u2500\u2500\u2500\u2500\u2500\u2500\u2500\u2500\u2500\u2500\u2500\u2500\u2500\u2500\u2500\u2500\u2500\u2500\u2500\u2500\n",
        "                \u239b         ____________________\u239e    \u239e                          \n",
        "                \u239c        \u2571        2           \u239f    \u239f                          \n",
        "                \u239c       \u2571   2    \u03ba    1.0\u22c5\u2148\u22c5\u03c9 \u239f    \u239f                          \n",
        "cosh(h_s\u22c5k)\u22c5cosh\u239ch_s\u22c5  \u2571   k  + \u2500\u2500\u2500 + \u2500\u2500\u2500\u2500\u2500\u2500\u2500 \u239f + 2\u239f                          \n",
        "                \u239d    \u2572\u2571         E_s      D    \u23a0    \u239f                          \n",
        "                                                   \u239f                          \n",
        "                                                   \u239f                   \u239b      \n",
        "                                                   \u239f                   \u239c      \n",
        "                                                   \u23a0                   \u239c      \n",
        "\u2500\u2500\u2500\u2500\u2500\u2500\u2500\u2500\u2500\u2500\u2500\u2500\u2500\u2500\u2500\u2500\u2500\u2500\u2500\u2500\u2500\u2500\u2500\u2500\u2500\u2500\u2500\u2500\u2500\u2500\u2500\u2500\u2500\u2500\u2500\u2500\u2500\u2500\u2500\u2500\u2500\u2500\u2500\u2500\u2500\u2500\u2500\u2500\u2500\u2500\u2500\u2500 + sinh(h_s\u22c5k)\u22c5sinh\u239ch_s\u22c5  \n",
        "                                                                       \u239d    \u2572\u2571\n",
        "                                                                              \n",
        "                                                                              \n",
        "                                                                              \n",
        "                                                                              \n",
        "\u2500\u2500\u2500\u2500\u2500\u2500\u2500\u2500\u2500\u2500\u2500\u2500\u2500\u2500\u2500\u2500\u2500\u2500\u2500\u2500\u2500\u2500\u2500\u2500\u2500\u2500\u2500\u2500\u2500\u2500\u2500\u2500\u2500\u2500\u2500\u2500\u2500\u2500\u2500\u2500\u2500\u2500\u2500\u2500\u2500\u2500\u2500\u2500\u2500\u2500\u2500\u2500\u2500\u2500\u2500\u2500\u2500\u2500\u2500\u2500\u2500\u2500\u2500\u2500\u2500\u2500\u2500\u2500\u2500\u2500\u2500\u2500\u2500\u2500\u2500\u2500\u2500\u2500\n",
        "_______________\u239e                                                              \n",
        "   2           \u239f                                                              \n",
        "  \u03ba    1.0\u22c5\u2148\u22c5\u03c9 \u239f       \u239b         ____________________\u239e                        \n",
        " \u2500\u2500\u2500 + \u2500\u2500\u2500\u2500\u2500\u2500\u2500 \u239f       \u239c        \u2571        2           \u239f               E_eff\u22c5sin\n",
        " E_s      D    \u23a0       \u239c       \u2571   2    \u03ba    1.0\u22c5\u2148\u22c5\u03c9 \u239f                        \n",
        "\u2500\u2500\u2500\u2500\u2500\u2500\u2500\u2500\u2500\u2500\u2500\u2500\u2500\u2500\u2500\u2500 + sinh\u239ch_s\u22c5  \u2571   k  + \u2500\u2500\u2500 + \u2500\u2500\u2500\u2500\u2500\u2500\u2500 \u239f\u22c5cosh(h_s\u22c5k) + \u2500\u2500\u2500\u2500\u2500\u2500\u2500\u2500\u2500\n",
        "                       \u239d    \u2572\u2571         E_s      D    \u23a0                        \n",
        "                                                                              \n",
        "                                                                              \n",
        "                                                                              \n",
        "                                                                              \n",
        "\u2500\u2500\u2500\u2500\u2500\u2500\u2500\u2500\u2500\u2500\u2500\u2500\u2500\u2500\u2500\u2500\u2500\u2500\u2500\u2500\u2500\u2500\u2500\u2500\u2500\u2500\u2500\u2500\u2500\u2500\u2500\u2500\u2500\u2500\u2500\u2500\u2500\u2500\u2500\u2500\u2500\u2500\u2500\u2500\u2500\u2500\u2500\u2500\u2500\u2500\u2500\u2500\u2500\u2500\u2500\u2500\u2500\u2500\u2500\u2500\u2500\u2500\u2500\u2500\u2500\u2500\u2500\u2500\u2500\u2500\u2500\u2500\u2500\u2500\u2500\u2500\u2500\u2500\n",
        "  E_eff                                                                       \n",
        "\n",
        "                                                                              \n",
        "                                                                              \n",
        "                                                                              \n",
        "                                                                              \n",
        "                                     \u239b         ____________________\u239e          \n",
        "                                     \u239c        \u2571        2           \u239f          \n",
        "   ____________________\u239e             \u239c       \u2571   2    \u03ba    1.0\u22c5\u2148\u22c5\u03c9 \u239f          \n",
        "  \u2571        2           \u239f   E_eff\u22c5sinh\u239ch_s\u22c5  \u2571   k  + \u2500\u2500\u2500 + \u2500\u2500\u2500\u2500\u2500\u2500\u2500 \u239f\u22c5cosh(h_s\u22c5\n",
        " \u2571   2    \u03ba    1.0\u22c5\u2148\u22c5\u03c9 \u239f             \u239d    \u2572\u2571         E_s      D    \u23a0          \n",
        "\u2571   k  + \u2500\u2500\u2500 + \u2500\u2500\u2500\u2500\u2500\u2500\u2500 \u239f + \u2500\u2500\u2500\u2500\u2500\u2500\u2500\u2500\u2500\u2500\u2500\u2500\u2500\u2500\u2500\u2500\u2500\u2500\u2500\u2500\u2500\u2500\u2500\u2500\u2500\u2500\u2500\u2500\u2500\u2500\u2500\u2500\u2500\u2500\u2500\u2500\u2500\u2500\u2500\u2500\u2500\u2500\u2500\u2500\u2500\u2500\u2500\u2500\u2500\u2500\u2500\n",
        "         E_s      D    \u23a0                            E_d                       \n",
        "                                                                              \n",
        "                                                                              \n",
        "                                                                              \n",
        "                                                                              \n",
        "\u2500\u2500\u2500\u2500\u2500\u2500\u2500\u2500\u2500\u2500\u2500\u2500\u2500\u2500\u2500\u2500\u2500\u2500\u2500\u2500\u2500\u2500\u2500\u2500\u2500\u2500\u2500\u2500\u2500\u2500\u2500\u2500\u2500\u2500\u2500\u2500\u2500\u2500\u2500\u2500\u2500\u2500\u2500\u2500\u2500\u2500\u2500\u2500\u2500\u2500\u2500\u2500\u2500\u2500\u2500\u2500\u2500\u2500\u2500\u2500\u2500\u2500\u2500\u2500\u2500\u2500\u2500\u2500\u2500\u2500\u2500\u2500\u2500\u2500\u2500\u2500\u2500\u2500\n",
        "             \u239b         ____________________\u239e                                  \n",
        "             \u239c        \u2571        2           \u239f                                  \n",
        "             \u239c       \u2571   2    \u03ba    1.0\u22c5\u2148\u22c5\u03c9 \u239f                                  \n",
        "h(h_s\u22c5k)\u22c5sinh\u239ch_s\u22c5  \u2571   k  + \u2500\u2500\u2500 + \u2500\u2500\u2500\u2500\u2500\u2500\u2500 \u239f                                  \n",
        "             \u239d    \u2572\u2571         E_s      D    \u23a0                                  \n",
        "\u2500\u2500\u2500\u2500\u2500\u2500\u2500\u2500\u2500\u2500\u2500\u2500\u2500\u2500\u2500\u2500\u2500\u2500\u2500\u2500\u2500\u2500\u2500\u2500\u2500\u2500\u2500\u2500\u2500\u2500\u2500\u2500\u2500\u2500\u2500\u2500\u2500\u2500\u2500\u2500\u2500\u2500\u2500\u2500                                  \n",
        "                E_d                                                           \n",
        "                                                                              \n",
        "                                                                              \n",
        "                                                                              \n",
        "                                                                              \n",
        "\u2500\u2500\u2500\u2500\u2500\u2500\u2500\u2500\u2500\u2500\u2500\u2500\u2500\u2500\u2500\u2500\u2500\u2500\u2500\u2500\u2500\u2500\u2500\u2500\u2500\u2500\u2500\u2500\u2500\u2500\u2500\u2500\u2500\u2500\u2500\u2500\u2500\u2500\u2500\u2500\u2500\u2500\u2500\u2500\u2500\u2500\u2500\u2500\u2500\u2500\u2500\u2500\u2500\u2500\u2500\u2500\u2500\u2500\u2500\u2500\u2500\u2500\u2500\u2500\u2500\u2500\u2500\u2500\u2500\u2500\u2500\u2500\u2500\u2500\u2500\u2500\u2500\u2500\n",
        "                                                                              \n",
        "\u2500\u2500\u2500\u2500\u2500\u2500\u2500\u2500\u2500\u2500\u2500\u2500\u2500\u2500\u2500\u2500\u2500\u2500\u2500\u2500\u2500\u2500\u2500\u2500\u2500\u2500\u2500\u2500\u2500\u2500\u2500\u2500\u2500\u2500\u2500\u2500\u2500\u2500\u2500\u2500\u2500\u2500\u2500\u2500\u2500\u2500\u2500\u2500\u2500\u2500\u2500\u2500\u2500\u2500\u2500\u2500\u2500\u2500\u2500\u2500\u2500\u2500\u2500\u2500\u2500\u2500\u2500\u2500\u2500\u2500\u2500\u2500\u2500\u2500\u2500\u2500\u2500\u2500\n",
        "                                                                              \n",
        "                                                                              \n",
        "                                                                              \n",
        "                                                                              \n",
        "                                     \u239b         ____________________\u239e          \n",
        "                                     \u239c        \u2571        2           \u239f          \n",
        "   ____________________\u239e             \u239c       \u2571   2    \u03ba    1.0\u22c5\u2148\u22c5\u03c9 \u239f          \n",
        "  \u2571        2           \u239f   E_eff\u22c5sinh\u239ch_s\u22c5  \u2571   k  + \u2500\u2500\u2500 + \u2500\u2500\u2500\u2500\u2500\u2500\u2500 \u239f\u22c5cosh(h_s\u22c5\n",
        " \u2571   2    \u03ba    1.0\u22c5\u2148\u22c5\u03c9 \u239f             \u239d    \u2572\u2571         E_s      D    \u23a0          \n",
        "\u2571   k  + \u2500\u2500\u2500 + \u2500\u2500\u2500\u2500\u2500\u2500\u2500 \u239f + \u2500\u2500\u2500\u2500\u2500\u2500\u2500\u2500\u2500\u2500\u2500\u2500\u2500\u2500\u2500\u2500\u2500\u2500\u2500\u2500\u2500\u2500\u2500\u2500\u2500\u2500\u2500\u2500\u2500\u2500\u2500\u2500\u2500\u2500\u2500\u2500\u2500\u2500\u2500\u2500\u2500\u2500\u2500\u2500\u2500\u2500\u2500\u2500\u2500\u2500\u2500\n",
        "         E_s      D    \u23a0                            E_d                       \n",
        "                                                                              \n",
        "                                                                              \n",
        "                                                                              \n",
        "                                                                              \n",
        "\u2500\u2500\u2500\u2500\u2500\u2500\u2500\u2500\u2500\u2500\u2500\u2500\u2500\u2500\u2500\u2500\u2500\u2500\u2500\u2500\u2500\u2500\u2500\u2500\u2500\u2500\u2500\u2500\u2500\u2500\u2500\u2500\u2500\u2500\u2500\u2500\u2500\u2500\u2500\u2500\u2500\u2500\u2500\u2500\u2500\u2500\u2500\u2500\u2500\u2500\u2500\u2500\u2500\u2500\u2500\u2500\u2500\u2500\u2500\u2500\u2500\u2500\u2500\u2500\u2500\u2500\u2500\u2500\u2500\u2500\u2500\u2500\u2500\u2500\u2500\u2500\u2500\u2500\n",
        "             \u239b         ____________________\u239e                                  \n",
        "             \u239c        \u2571        2           \u239f                                  \n",
        "             \u239c       \u2571   2    \u03ba    1.0\u22c5\u2148\u22c5\u03c9 \u239f                                  \n",
        "h(h_s\u22c5k)\u22c5sinh\u239ch_s\u22c5  \u2571   k  + \u2500\u2500\u2500 + \u2500\u2500\u2500\u2500\u2500\u2500\u2500 \u239f                                  \n",
        "             \u239d    \u2572\u2571         E_s      D    \u23a0                                  \n",
        "\u2500\u2500\u2500\u2500\u2500\u2500\u2500\u2500\u2500\u2500\u2500\u2500\u2500\u2500\u2500\u2500\u2500\u2500\u2500\u2500\u2500\u2500\u2500\u2500\u2500\u2500\u2500\u2500\u2500\u2500\u2500\u2500\u2500\u2500\u2500\u2500\u2500\u2500\u2500\u2500\u2500\u2500\u2500\u2500                                  \n",
        "                E_d                                                           \n",
        "                                                                              \n",
        "                                                                              \n",
        "                                                                              \n",
        "                                                                              \n",
        "\u2500\u2500\u2500\u2500\u2500\u2500\u2500\u2500\u2500\u2500\u2500\u2500\u2500\u2500\u2500\u2500\u2500\u2500\u2500\u2500\u2500\u2500\u2500\u2500\u2500\u2500\u2500\u2500\u2500\u2500\u2500\u2500\u2500\u2500\u2500\u2500\u2500\u2500\u2500\u2500\u2500\u2500\u2500\u2500\u2500\u2500\u2500\u2500\u2500\u2500\u2500\u2500\u2500\u2500\u2500\u2500\u2500\u2500\u2500\u2500\u2500\u2500\u2500\u2500\u2500\u2500\u2500\u2500\u2500\u2500\u2500\u2500\u2500\u2500\u2500\u2500\u2500\u2500\n",
        "                                                                              \n",
        "\n",
        "  \u239e\n",
        "  \u239f\n",
        "  \u239f\n",
        "  \u239f\n",
        "  \u239f\n",
        "  \u239f\n",
        "  \u239f\n",
        "k)\u239f\n",
        "  \u239f\n",
        "\u2500\u2500\u239f\n",
        "  \u239f\n",
        "  \u239f\n",
        "  \u239f\n",
        "  \u239f\n",
        "  \u239f\n",
        "\u2500\u2500\u239f\n",
        "  \u239f\n",
        "  \u239f\n",
        "  \u239f\n",
        "  \u239f\n",
        "  \u239f\n",
        "  \u239f\n",
        "  \u239f\n",
        "  \u239f\n",
        "  \u239f\n",
        "  \u239f\n",
        "  \u23a0\n",
        "\u2500\u2500\u2500\n",
        "   \n",
        "\u2500\u2500\u2500\n",
        "  \u239e\n",
        "  \u239f\n",
        "  \u239f\n",
        "  \u239f\n",
        "  \u239f\n",
        "  \u239f\n",
        "  \u239f\n",
        "k)\u239f\n",
        "  \u239f\n",
        "\u2500\u2500\u239f\n",
        "  \u239f\n",
        "  \u239f\n",
        "  \u239f\n",
        "  \u239f\n",
        "  \u239f\n",
        "\u2500\u2500\u239f\n",
        "  \u239f\n",
        "  \u239f\n",
        "  \u239f\n",
        "  \u239f\n",
        "  \u239f\n",
        "  \u239f\n",
        "  \u239f\n",
        "  \u239f\n",
        "  \u239f\n",
        "  \u239f\n",
        "  \u23a0\n",
        "\u2500\u2500\u2500\n",
        "   "
       ]
      }
     ],
     "prompt_number": 141
    },
    {
     "cell_type": "code",
     "collapsed": false,
     "input": [
      "for key, val in intermediates.viewitems():\n",
      "    autowrap(expr=val, args = )"
     ],
     "language": "python",
     "metadata": {},
     "outputs": []
    },
    {
     "cell_type": "markdown",
     "metadata": {},
     "source": [
      "## Small functions"
     ]
    },
    {
     "cell_type": "code",
     "collapsed": false,
     "input": [
      "_eta = intermediates[eta]"
     ],
     "language": "python",
     "metadata": {},
     "outputs": [],
     "prompt_number": 163
    },
    {
     "cell_type": "code",
     "collapsed": false,
     "input": [
      "all_k = [1, 10, 100, 1000, 10000, 100000]\n",
      "all_eta = [_eta.evalf(subs={k:_k, kappa:3500, E_s:3 - 0.001j, D: 0.005, omega:300})\n",
      "           for _k in all_k]"
     ],
     "language": "python",
     "metadata": {},
     "outputs": [],
     "prompt_number": 176
    },
    {
     "cell_type": "code",
     "collapsed": false,
     "input": [
      "print(str(all_eta).replace('*I', 'j').replace(\",\", \",\\n\"))"
     ],
     "language": "python",
     "metadata": {},
     "outputs": [
      {
       "output_type": "stream",
       "stream": "stdout",
       "text": [
        "[2020.78311260126 + 15.182507854811j,\n",
        " 2020.80760652432 + 15.182323829782j,\n",
        " 2023.25550170076 + 15.163955048756j,\n",
        " 2254.66583909462 + 13.607584302718j,\n",
        " 10202.1243828582 + 3.007271263178j,\n",
        " 100020.414581093 + 0.30674293451j]\n"
       ]
      }
     ],
     "prompt_number": 179
    },
    {
     "cell_type": "code",
     "collapsed": false,
     "input": [
      "_lamda = intermediates[lamda]\n",
      "all_lamda = [_lamda.evalf(subs={k:_k, E_s:3 - 0.001j, D:0.005, E_eff:3 - 100j, eta: _eta_}) for _k, _eta_ in zip(all_k, all_eta)]\n",
      "    "
     ],
     "language": "python",
     "metadata": {},
     "outputs": [],
     "prompt_number": 180
    },
    {
     "cell_type": "code",
     "collapsed": false,
     "input": [
      "print(str(all_lamda).replace('*I', 'j').replace(\",\", \",\\n\"))"
     ],
     "language": "python",
     "metadata": {},
     "outputs": [
      {
       "output_type": "stream",
       "stream": "stdout",
       "text": [
        "[0.0001184255261724 + 0.0164941987549306j,\n",
        " 0.00118421087011718 + 0.164939988752172j,\n",
        " 0.0117978533636026 + 1.64740475175451j,\n",
        " 0.0842948437214929 + 14.7834985873234j,\n",
        " -0.00125999301746353 + 32.672603689536j,\n",
        " -0.0110065260871034 + 33.3261929274151j]\n"
       ]
      }
     ],
     "prompt_number": 182
    },
    {
     "cell_type": "code",
     "collapsed": false,
     "input": [],
     "language": "python",
     "metadata": {},
     "outputs": [
      {
       "latex": [
        "$$\\sqrt{k^{2} + \\frac{\\kappa^{2}}{E_{s}} + \\frac{1.0 i}{D} \\omega}$$"
       ],
       "metadata": {},
       "output_type": "pyout",
       "prompt_number": 175,
       "text": [
        "     ____________________\n",
        "    \u2571        2           \n",
        "   \u2571   2    \u03ba    1.0\u22c5\u2148\u22c5\u03c9 \n",
        "  \u2571   k  + \u2500\u2500\u2500 + \u2500\u2500\u2500\u2500\u2500\u2500\u2500 \n",
        "\u2572\u2571         E_s      D    "
       ]
      }
     ],
     "prompt_number": 175
    },
    {
     "cell_type": "code",
     "collapsed": false,
     "input": [],
     "language": "python",
     "metadata": {},
     "outputs": []
    }
   ],
   "metadata": {}
  }
 ]
}