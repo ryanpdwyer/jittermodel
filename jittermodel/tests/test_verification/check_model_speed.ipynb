{
 "metadata": {
  "name": "",
  "signature": "sha256:78843faf958349fb0d0ed1249d33e82ffb6c726d45488199cf4ca1bf03b45c3c"
 },
 "nbformat": 3,
 "nbformat_minor": 0,
 "worksheets": [
  {
   "cells": [
    {
     "cell_type": "code",
     "collapsed": false,
     "input": [
      "from jittermodel import u\n",
      "from jittermodel.simulation import Simulation\n",
      "from jittermodel.base import Cantilever, Experiment, Transistor\n",
      "from datetime import datetime"
     ],
     "language": "python",
     "metadata": {},
     "outputs": [],
     "prompt_number": 1
    },
    {
     "cell_type": "heading",
     "level": 1,
     "metadata": {},
     "source": [
      "Current Code"
     ]
    },
    {
     "cell_type": "code",
     "collapsed": false,
     "input": [
      "cant = Cantilever(f_c=50*u.kHz, Q=10000*u.dimensionless, k_c=3*u.N/u.m)\n",
      "expt = Experiment(d=100*u.nm, V_ts=5*u.V, jitter_f_i=0.2*u.Hz, jitter_f_f=3*u.Hz)\n",
      "trans = Transistor(semiconductor='TPD', h=70*u.nm, h_trans=1*u.nm, h_i=300*u.nm,\n",
      "                   E_s1=3.5, E_s2=-0.0005, E_i1=4.65, E_i2=0,\n",
      "                   mobility=3e-06*u('cm^2/s/V'), T=298*u.K, V_g=10*u.V)"
     ],
     "language": "python",
     "metadata": {},
     "outputs": [],
     "prompt_number": 2
    },
    {
     "cell_type": "heading",
     "level": 2,
     "metadata": {},
     "source": [
      "Model 2"
     ]
    },
    {
     "cell_type": "code",
     "collapsed": false,
     "input": [
      "sim2 = Simulation(cant, trans, expt)"
     ],
     "language": "python",
     "metadata": {},
     "outputs": [],
     "prompt_number": 3
    },
    {
     "cell_type": "code",
     "collapsed": false,
     "input": [
      "sim2.calc_jitter()"
     ],
     "language": "python",
     "metadata": {},
     "outputs": [
      {
       "metadata": {},
       "output_type": "pyout",
       "prompt_number": 4,
       "text": [
        "7.430450490152195e-12"
       ]
      }
     ],
     "prompt_number": 4
    },
    {
     "cell_type": "code",
     "collapsed": false,
     "input": [
      "model2 = %timeit -o sim2.calc_jitter()"
     ],
     "language": "python",
     "metadata": {},
     "outputs": [
      {
       "output_type": "stream",
       "stream": "stdout",
       "text": [
        "1 loops, best of 3: 286 ms per loop\n"
       ]
      }
     ],
     "prompt_number": 5
    },
    {
     "cell_type": "heading",
     "level": 2,
     "metadata": {},
     "source": [
      "Model 1"
     ]
    },
    {
     "cell_type": "code",
     "collapsed": false,
     "input": [
      "sim1 = Simulation(cant, trans, expt)\n",
      "sim1.model = 1"
     ],
     "language": "python",
     "metadata": {},
     "outputs": [],
     "prompt_number": 7
    },
    {
     "cell_type": "code",
     "collapsed": false,
     "input": [
      "sim1.calc_jitter()"
     ],
     "language": "python",
     "metadata": {},
     "outputs": [
      {
       "metadata": {},
       "output_type": "pyout",
       "prompt_number": 8,
       "text": [
        "1.621198786313096e-13"
       ]
      }
     ],
     "prompt_number": 8
    },
    {
     "cell_type": "code",
     "collapsed": false,
     "input": [
      "model1 = %timeit -o sim1.calc_jitter()"
     ],
     "language": "python",
     "metadata": {},
     "outputs": [
      {
       "output_type": "stream",
       "stream": "stdout",
       "text": [
        "1 loops, best of 3: 391 ms per loop\n"
       ]
      }
     ],
     "prompt_number": 9
    },
    {
     "cell_type": "heading",
     "level": 2,
     "metadata": {},
     "source": [
      "Store results"
     ]
    },
    {
     "cell_type": "code",
     "collapsed": false,
     "input": [
      "date = datetime.today().isoformat()\n",
      "library_rev_list = !git describe\n",
      "library_rev = library_rev_list[0]\n",
      "git_hash_list = !git rev-parse HEAD\n",
      "git_hash= git_hash_list[0]\n",
      "m1t = \"{0:.2e}\".format(model1.best)\n",
      "m2t = \"{0:.2e}\".format(model2.best)\n",
      "!echo \"$date,$library_rev,$git_hash,$m1t,$m2t\""
     ],
     "language": "python",
     "metadata": {},
     "outputs": [
      {
       "output_type": "stream",
       "stream": "stdout",
       "text": [
        "2015-01-12T15:08:28.286527,0.2,6754fd84b6b48dc2b9b52b4a27ef9450d241c378,3.91e-01,2.86e-01\r\n"
       ]
      }
     ],
     "prompt_number": 11
    },
    {
     "cell_type": "code",
     "collapsed": false,
     "input": [
      "!echo \"$date,$library_rev,$git_hash,$m1t,$m2t\\n\" >> speed.csv"
     ],
     "language": "python",
     "metadata": {},
     "outputs": [],
     "prompt_number": 12
    }
   ],
   "metadata": {}
  }
 ]
}