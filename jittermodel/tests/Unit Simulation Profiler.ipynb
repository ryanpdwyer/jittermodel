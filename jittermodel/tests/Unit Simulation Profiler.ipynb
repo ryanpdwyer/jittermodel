{
 "metadata": {
  "name": ""
 },
 "nbformat": 3,
 "nbformat_minor": 0,
 "worksheets": [
  {
   "cells": [
    {
     "cell_type": "code",
     "collapsed": false,
     "input": [
      "import jittermodel\n",
      "from jittermodel.ubase import UnitCantilever, UnitTransistor, UnitExperiment\n",
      "from jittermodel.plot import UnitGeneratePlotData\n",
      "from jittermodel import u\n",
      "\n",
      "import cProfile\n",
      "import pstats\n",
      "\n",
      "def make_unit_plot():\n",
      "    c1 = UnitCantilever()\n",
      "    t1 = UnitTransistor(h=70*u.nm)\n",
      "    e1 = UnitExperiment()\n",
      "    gpd = UnitGeneratePlotData(c1, t1, e1, 'd', (40*u.nm, 500*u.nm))\n",
      "    V_g_vals = (1*u.V, 20*u.V, 40*u.V)\n",
      "    gpd.calc_plot_data('jitter', 'd', 'V_g', V_g_vals,\n",
      "                       x_scale='linear', n_pts=5)"
     ],
     "language": "python",
     "metadata": {},
     "outputs": [],
     "prompt_number": 1
    },
    {
     "cell_type": "code",
     "collapsed": false,
     "input": [
      "def my_profile():\n",
      "    cProfile.run('make_unit_plot()', 'unit_stats')\n",
      "    p = pstats.Stats('unit_stats')\n",
      "    p.strip_dirs()\n",
      "    p.sort_stats('time').print_stats(10)"
     ],
     "language": "python",
     "metadata": {},
     "outputs": [],
     "prompt_number": 2
    },
    {
     "cell_type": "code",
     "collapsed": false,
     "input": [
      "my_profile()"
     ],
     "language": "python",
     "metadata": {},
     "outputs": [
      {
       "output_type": "stream",
       "stream": "stdout",
       "text": [
        "Thu Feb 27 09:36:55 2014    unit_stats\n",
        "\n",
        "         5655733 function calls (5627727 primitive calls) in 11.862 seconds\n",
        "\n",
        "   Ordered by: internal time\n",
        "   List reduced from 247 to 10 due to restriction <10>\n",
        "\n",
        "   ncalls  tottime  percall  cumtime  percall filename:lineno(function)\n",
        "   297900    3.600    0.000   10.493    0.000 usimulation.py:216(_corr_integrand)\n",
        "   595800    2.845    0.000    2.845    0.000 usimulation.py:44(coth)\n",
        "   297900    2.155    0.000    6.852    0.000 usimulation.py:181(_im_dielectric)\n",
        "   893850    0.548    0.000    0.548    0.000 ubase.py:219(E_s)\n",
        "   298050    0.462    0.000    0.569    0.000 ubase.py:266(kappa)\n",
        "   297900    0.341    0.000    0.715    0.000 ubase.py:274(E_eff)\n",
        "   297900    0.250    0.000   10.743    0.000 usimulation.py:230(<lambda>)\n",
        "     1890    0.244    0.000   10.987    0.006 {scipy.integrate._quadpack._qagie}\n",
        "   298050    0.170    0.000    0.228    0.000 ubase.py:261(sigma)\n",
        "   298050    0.138    0.000    0.154    0.000 ubase.py:203(diff)\n",
        "\n",
        "\n"
       ]
      }
     ],
     "prompt_number": 5
    },
    {
     "cell_type": "markdown",
     "metadata": {},
     "source": [
      "We see that `_corr_integrand` (3.6), `coth` (2.845), and `_im_dielectric` (2.155) take the vast majority of the time . We can try changing this by optimizing these functions. First, let's try removing the `coth` function call, instead calling `1\\tanh`."
     ]
    },
    {
     "cell_type": "code",
     "collapsed": false,
     "input": [
      "my_profile()"
     ],
     "language": "python",
     "metadata": {},
     "outputs": [
      {
       "output_type": "stream",
       "stream": "stdout",
       "text": [
        "Thu Feb 27 10:18:35 2014    unit_stats\n",
        "\n",
        "         5059933 function calls (5031927 primitive calls) in 10.245 seconds\n",
        "\n",
        "   Ordered by: internal time\n",
        "   List reduced from 246 to 10 due to restriction <10>\n",
        "\n",
        "   ncalls  tottime  percall  cumtime  percall filename:lineno(function)\n",
        "   297900    3.509    0.000    8.891    0.000 usimulation.py:216(_corr_integrand)\n",
        "   297900    3.461    0.000    5.342    0.000 usimulation.py:181(_im_dielectric)\n",
        "   893850    0.578    0.000    0.578    0.000 ubase.py:219(E_s)\n",
        "   298050    0.456    0.000    0.560    0.000 ubase.py:266(kappa)\n",
        "   297900    0.336    0.000    0.719    0.000 ubase.py:274(E_eff)\n",
        "     1890    0.250    0.000    9.370    0.005 {scipy.integrate._quadpack._qagie}\n",
        "   297900    0.229    0.000    9.120    0.000 usimulation.py:230(<lambda>)\n",
        "   298050    0.170    0.000    0.228    0.000 ubase.py:261(sigma)\n",
        "   298050    0.147    0.000    0.163    0.000 ubase.py:203(diff)\n",
        "   596297    0.112    0.000    0.112    0.000 ubase.py:246(rho)\n",
        "\n",
        "\n"
       ]
      }
     ],
     "prompt_number": 22
    },
    {
     "cell_type": "markdown",
     "metadata": {},
     "source": [
      "Wow! We see that eliminating this one function call reduced the execution time by 1.6 seconds! Let's try removing some boilerplate type checking in these critical functions."
     ]
    },
    {
     "cell_type": "code",
     "collapsed": false,
     "input": [
      "my_profile()"
     ],
     "language": "python",
     "metadata": {},
     "outputs": [
      {
       "output_type": "stream",
       "stream": "stdout",
       "text": [
        "Thu Feb 27 10:23:39 2014    unit_stats\n",
        "\n",
        "         5062703 function calls (5034666 primitive calls) in 9.927 seconds\n",
        "\n",
        "   Ordered by: internal time\n",
        "   List reduced from 248 to 10 due to restriction <10>\n",
        "\n",
        "   ncalls  tottime  percall  cumtime  percall filename:lineno(function)\n",
        "   297900    3.397    0.000    8.560    0.000 usimulation.py:216(_corr_integrand)\n",
        "   297900    3.323    0.000    5.119    0.000 usimulation.py:181(_im_dielectric)\n",
        "   893850    0.531    0.000    0.531    0.000 ubase.py:219(E_s)\n",
        "   298050    0.442    0.000    0.547    0.000 ubase.py:266(kappa)\n",
        "   297900    0.326    0.000    0.692    0.000 ubase.py:274(E_eff)\n",
        "     1890    0.240    0.000    9.024    0.005 {scipy.integrate._quadpack._qagie}\n",
        "   297900    0.224    0.000    8.784    0.000 usimulation.py:230(<lambda>)\n",
        "   298050    0.164    0.000    0.222    0.000 ubase.py:261(sigma)\n",
        "   298050    0.136    0.000    0.153    0.000 ubase.py:203(diff)\n",
        "   596297    0.113    0.000    0.113    0.000 ubase.py:246(rho)\n",
        "\n",
        "\n"
       ]
      }
     ],
     "prompt_number": 3
    },
    {
     "cell_type": "code",
     "collapsed": false,
     "input": [
      "my_profile()"
     ],
     "language": "python",
     "metadata": {},
     "outputs": [
      {
       "output_type": "stream",
       "stream": "stdout",
       "text": [
        "Thu Feb 27 10:09:15 2014    unit_stats\n",
        "\n",
        "         5655733 function calls (5627727 primitive calls) in 11.800 seconds\n",
        "\n",
        "   Ordered by: internal time\n",
        "   List reduced from 247 to 10 due to restriction <10>\n",
        "\n",
        "   ncalls  tottime  percall  cumtime  percall filename:lineno(function)\n",
        "   297900    3.574    0.000   10.413    0.000 usimulation.py:216(_corr_integrand)\n",
        "   595800    2.808    0.000    2.808    0.000 usimulation.py:44(coth)\n",
        "   297900    2.136    0.000    6.799    0.000 usimulation.py:181(_im_dielectric)\n",
        "   893850    0.543    0.000    0.543    0.000 ubase.py:219(E_s)\n",
        "   298050    0.468    0.000    0.575    0.000 ubase.py:266(kappa)\n",
        "   297900    0.335    0.000    0.712    0.000 ubase.py:274(E_eff)\n",
        "     1890    0.246    0.000   10.900    0.006 {scipy.integrate._quadpack._qagie}\n",
        "   297900    0.241    0.000   10.654    0.000 usimulation.py:230(<lambda>)\n",
        "   298050    0.172    0.000    0.231    0.000 ubase.py:261(sigma)\n",
        "   298050    0.137    0.000    0.154    0.000 ubase.py:203(diff)\n",
        "\n",
        "\n"
       ]
      }
     ],
     "prompt_number": 9
    },
    {
     "cell_type": "code",
     "collapsed": false,
     "input": [],
     "language": "python",
     "metadata": {},
     "outputs": []
    }
   ],
   "metadata": {}
  }
 ]
}