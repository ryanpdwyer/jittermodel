{
 "metadata": {
  "name": "",
  "signature": "sha256:210113c90f182117debb4b59ccd5da812095f023795d14296976e6f472b20ad8"
 },
 "nbformat": 3,
 "nbformat_minor": 0,
 "worksheets": [
  {
   "cells": [
    {
     "cell_type": "code",
     "collapsed": false,
     "input": [
      "import jittermodel\n",
      "from jittermodel.base import Cantilever, Transistor, Experiment\n",
      "from jittermodel.plot import GeneratePlotData\n",
      "from jittermodel import u\n",
      "\n",
      "import cProfile\n",
      "import pstats\n",
      "\n",
      "def make_plot():\n",
      "    c1 = Cantilever()\n",
      "    t1 = Transistor(h=70*u.nm)\n",
      "    e1 = Experiment()\n",
      "    gpd = GeneratePlotData(c1, t1, e1, 'd', (40*u.nm, 500*u.nm))\n",
      "    V_g_vals = (1*u.V, 20*u.V, 40*u.V)\n",
      "    gpd.calc_plot_data('jitter', 'd', 'V_g', V_g_vals,\n",
      "                       x_scale='log', n_pts=5)"
     ],
     "language": "python",
     "metadata": {},
     "outputs": [],
     "prompt_number": 1
    },
    {
     "cell_type": "code",
     "collapsed": false,
     "input": [
      "def my_profile():\n",
      "    cProfile.run('make_plot()', 'unit_stats')\n",
      "    p = pstats.Stats('unit_stats')\n",
      "    p.strip_dirs()\n",
      "    p.sort_stats('time').print_stats(10)"
     ],
     "language": "python",
     "metadata": {},
     "outputs": [],
     "prompt_number": 2
    },
    {
     "cell_type": "code",
     "collapsed": false,
     "input": [
      "my_profile()"
     ],
     "language": "python",
     "metadata": {},
     "outputs": [
      {
       "ename": "TypeError",
       "evalue": "data type not understood",
       "output_type": "pyerr",
       "traceback": [
        "\u001b[0;31m---------------------------------------------------------------------------\u001b[0m\n\u001b[0;31mTypeError\u001b[0m                                 Traceback (most recent call last)",
        "\u001b[0;32m<ipython-input-3-8736898e33e4>\u001b[0m in \u001b[0;36m<module>\u001b[0;34m()\u001b[0m\n\u001b[0;32m----> 1\u001b[0;31m \u001b[0mmy_profile\u001b[0m\u001b[0;34m(\u001b[0m\u001b[0;34m)\u001b[0m\u001b[0;34m\u001b[0m\u001b[0m\n\u001b[0m",
        "\u001b[0;32m<ipython-input-2-5fe3a0ad9f6c>\u001b[0m in \u001b[0;36mmy_profile\u001b[0;34m()\u001b[0m\n\u001b[1;32m      1\u001b[0m \u001b[0;32mdef\u001b[0m \u001b[0mmy_profile\u001b[0m\u001b[0;34m(\u001b[0m\u001b[0;34m)\u001b[0m\u001b[0;34m:\u001b[0m\u001b[0;34m\u001b[0m\u001b[0m\n\u001b[0;32m----> 2\u001b[0;31m     \u001b[0mcProfile\u001b[0m\u001b[0;34m.\u001b[0m\u001b[0mrun\u001b[0m\u001b[0;34m(\u001b[0m\u001b[0;34m'make_plot()'\u001b[0m\u001b[0;34m,\u001b[0m \u001b[0;34m'unit_stats'\u001b[0m\u001b[0;34m)\u001b[0m\u001b[0;34m\u001b[0m\u001b[0m\n\u001b[0m\u001b[1;32m      3\u001b[0m     \u001b[0mp\u001b[0m \u001b[0;34m=\u001b[0m \u001b[0mpstats\u001b[0m\u001b[0;34m.\u001b[0m\u001b[0mStats\u001b[0m\u001b[0;34m(\u001b[0m\u001b[0;34m'unit_stats'\u001b[0m\u001b[0;34m)\u001b[0m\u001b[0;34m\u001b[0m\u001b[0m\n\u001b[1;32m      4\u001b[0m     \u001b[0mp\u001b[0m\u001b[0;34m.\u001b[0m\u001b[0mstrip_dirs\u001b[0m\u001b[0;34m(\u001b[0m\u001b[0;34m)\u001b[0m\u001b[0;34m\u001b[0m\u001b[0m\n\u001b[1;32m      5\u001b[0m     \u001b[0mp\u001b[0m\u001b[0;34m.\u001b[0m\u001b[0msort_stats\u001b[0m\u001b[0;34m(\u001b[0m\u001b[0;34m'time'\u001b[0m\u001b[0;34m)\u001b[0m\u001b[0;34m.\u001b[0m\u001b[0mprint_stats\u001b[0m\u001b[0;34m(\u001b[0m\u001b[0;36m10\u001b[0m\u001b[0;34m)\u001b[0m\u001b[0;34m\u001b[0m\u001b[0m\n",
        "\u001b[0;32m/usr/local/Cellar/python/2.7.8_1/Frameworks/Python.framework/Versions/2.7/lib/python2.7/cProfile.pyc\u001b[0m in \u001b[0;36mrun\u001b[0;34m(statement, filename, sort)\u001b[0m\n\u001b[1;32m     27\u001b[0m     \u001b[0;32mtry\u001b[0m\u001b[0;34m:\u001b[0m\u001b[0;34m\u001b[0m\u001b[0m\n\u001b[1;32m     28\u001b[0m         \u001b[0;32mtry\u001b[0m\u001b[0;34m:\u001b[0m\u001b[0;34m\u001b[0m\u001b[0m\n\u001b[0;32m---> 29\u001b[0;31m             \u001b[0mprof\u001b[0m \u001b[0;34m=\u001b[0m \u001b[0mprof\u001b[0m\u001b[0;34m.\u001b[0m\u001b[0mrun\u001b[0m\u001b[0;34m(\u001b[0m\u001b[0mstatement\u001b[0m\u001b[0;34m)\u001b[0m\u001b[0;34m\u001b[0m\u001b[0m\n\u001b[0m\u001b[1;32m     30\u001b[0m         \u001b[0;32mexcept\u001b[0m \u001b[0mSystemExit\u001b[0m\u001b[0;34m:\u001b[0m\u001b[0;34m\u001b[0m\u001b[0m\n\u001b[1;32m     31\u001b[0m             \u001b[0;32mpass\u001b[0m\u001b[0;34m\u001b[0m\u001b[0m\n",
        "\u001b[0;32m/usr/local/Cellar/python/2.7.8_1/Frameworks/Python.framework/Versions/2.7/lib/python2.7/cProfile.pyc\u001b[0m in \u001b[0;36mrun\u001b[0;34m(self, cmd)\u001b[0m\n\u001b[1;32m    133\u001b[0m         \u001b[0;32mimport\u001b[0m \u001b[0m__main__\u001b[0m\u001b[0;34m\u001b[0m\u001b[0m\n\u001b[1;32m    134\u001b[0m         \u001b[0mdict\u001b[0m \u001b[0;34m=\u001b[0m \u001b[0m__main__\u001b[0m\u001b[0;34m.\u001b[0m\u001b[0m__dict__\u001b[0m\u001b[0;34m\u001b[0m\u001b[0m\n\u001b[0;32m--> 135\u001b[0;31m         \u001b[0;32mreturn\u001b[0m \u001b[0mself\u001b[0m\u001b[0;34m.\u001b[0m\u001b[0mrunctx\u001b[0m\u001b[0;34m(\u001b[0m\u001b[0mcmd\u001b[0m\u001b[0;34m,\u001b[0m \u001b[0mdict\u001b[0m\u001b[0;34m,\u001b[0m \u001b[0mdict\u001b[0m\u001b[0;34m)\u001b[0m\u001b[0;34m\u001b[0m\u001b[0m\n\u001b[0m\u001b[1;32m    136\u001b[0m \u001b[0;34m\u001b[0m\u001b[0m\n\u001b[1;32m    137\u001b[0m     \u001b[0;32mdef\u001b[0m \u001b[0mrunctx\u001b[0m\u001b[0;34m(\u001b[0m\u001b[0mself\u001b[0m\u001b[0;34m,\u001b[0m \u001b[0mcmd\u001b[0m\u001b[0;34m,\u001b[0m \u001b[0mglobals\u001b[0m\u001b[0;34m,\u001b[0m \u001b[0mlocals\u001b[0m\u001b[0;34m)\u001b[0m\u001b[0;34m:\u001b[0m\u001b[0;34m\u001b[0m\u001b[0m\n",
        "\u001b[0;32m/usr/local/Cellar/python/2.7.8_1/Frameworks/Python.framework/Versions/2.7/lib/python2.7/cProfile.pyc\u001b[0m in \u001b[0;36mrunctx\u001b[0;34m(self, cmd, globals, locals)\u001b[0m\n\u001b[1;32m    138\u001b[0m         \u001b[0mself\u001b[0m\u001b[0;34m.\u001b[0m\u001b[0menable\u001b[0m\u001b[0;34m(\u001b[0m\u001b[0;34m)\u001b[0m\u001b[0;34m\u001b[0m\u001b[0m\n\u001b[1;32m    139\u001b[0m         \u001b[0;32mtry\u001b[0m\u001b[0;34m:\u001b[0m\u001b[0;34m\u001b[0m\u001b[0m\n\u001b[0;32m--> 140\u001b[0;31m             \u001b[0;32mexec\u001b[0m \u001b[0mcmd\u001b[0m \u001b[0;32min\u001b[0m \u001b[0mglobals\u001b[0m\u001b[0;34m,\u001b[0m \u001b[0mlocals\u001b[0m\u001b[0;34m\u001b[0m\u001b[0m\n\u001b[0m\u001b[1;32m    141\u001b[0m         \u001b[0;32mfinally\u001b[0m\u001b[0;34m:\u001b[0m\u001b[0;34m\u001b[0m\u001b[0m\n\u001b[1;32m    142\u001b[0m             \u001b[0mself\u001b[0m\u001b[0;34m.\u001b[0m\u001b[0mdisable\u001b[0m\u001b[0;34m(\u001b[0m\u001b[0;34m)\u001b[0m\u001b[0;34m\u001b[0m\u001b[0m\n",
        "\u001b[0;32m<string>\u001b[0m in \u001b[0;36m<module>\u001b[0;34m()\u001b[0m\n",
        "\u001b[0;32m<ipython-input-1-113fd7961f17>\u001b[0m in \u001b[0;36mmake_plot\u001b[0;34m()\u001b[0m\n\u001b[1;32m     14\u001b[0m     \u001b[0mV_g_vals\u001b[0m \u001b[0;34m=\u001b[0m \u001b[0;34m(\u001b[0m\u001b[0;36m1\u001b[0m\u001b[0;34m*\u001b[0m\u001b[0mu\u001b[0m\u001b[0;34m.\u001b[0m\u001b[0mV\u001b[0m\u001b[0;34m,\u001b[0m \u001b[0;36m20\u001b[0m\u001b[0;34m*\u001b[0m\u001b[0mu\u001b[0m\u001b[0;34m.\u001b[0m\u001b[0mV\u001b[0m\u001b[0;34m,\u001b[0m \u001b[0;36m40\u001b[0m\u001b[0;34m*\u001b[0m\u001b[0mu\u001b[0m\u001b[0;34m.\u001b[0m\u001b[0mV\u001b[0m\u001b[0;34m)\u001b[0m\u001b[0;34m\u001b[0m\u001b[0m\n\u001b[1;32m     15\u001b[0m     gpd.calc_plot_data('jitter', 'd', 'V_g', V_g_vals,\n\u001b[0;32m---> 16\u001b[0;31m                        x_scale='linear', n_pts=5)\n\u001b[0m",
        "\u001b[0;32m/Users/ryandwyer/Documents/Programming/mypython/jittermodel/jittermodel/plot.pyc\u001b[0m in \u001b[0;36mcalc_plot_data\u001b[0;34m(self, y_var, x_var, multi_plot_var, multi_plot_values, x_scale, n_pts)\u001b[0m\n\u001b[1;32m    155\u001b[0m         \u001b[0mself\u001b[0m\u001b[0;34m.\u001b[0m\u001b[0mn_pts\u001b[0m \u001b[0;34m=\u001b[0m \u001b[0mn_pts\u001b[0m\u001b[0;34m\u001b[0m\u001b[0m\n\u001b[1;32m    156\u001b[0m \u001b[0;34m\u001b[0m\u001b[0m\n\u001b[0;32m--> 157\u001b[0;31m         \u001b[0mself\u001b[0m\u001b[0;34m.\u001b[0m\u001b[0m_make_sim_array\u001b[0m\u001b[0;34m(\u001b[0m\u001b[0;34m)\u001b[0m\u001b[0;34m\u001b[0m\u001b[0m\n\u001b[0m\u001b[1;32m    158\u001b[0m         \u001b[0mself\u001b[0m\u001b[0;34m.\u001b[0m\u001b[0m_calculate_plot_points\u001b[0m\u001b[0;34m(\u001b[0m\u001b[0;34m)\u001b[0m\u001b[0;34m\u001b[0m\u001b[0m\n\u001b[1;32m    159\u001b[0m \u001b[0;34m\u001b[0m\u001b[0m\n",
        "\u001b[0;32m/Users/ryandwyer/Documents/Programming/mypython/jittermodel/jittermodel/plot.pyc\u001b[0m in \u001b[0;36m_make_sim_array\u001b[0;34m(self)\u001b[0m\n\u001b[1;32m    114\u001b[0m         \"\"\"Makes an array of simulations over the variable varied\n\u001b[1;32m    115\u001b[0m         in the experiment, and also for multi_plot_var.\"\"\"\n\u001b[0;32m--> 116\u001b[0;31m         \u001b[0mvariable_values\u001b[0m \u001b[0;34m=\u001b[0m \u001b[0mself\u001b[0m\u001b[0;34m.\u001b[0m\u001b[0m_calc_variable_array\u001b[0m\u001b[0;34m(\u001b[0m\u001b[0mself\u001b[0m\u001b[0;34m.\u001b[0m\u001b[0mx_scale\u001b[0m\u001b[0;34m)\u001b[0m\u001b[0;34m\u001b[0m\u001b[0m\n\u001b[0m\u001b[1;32m    117\u001b[0m         \u001b[0mself\u001b[0m\u001b[0;34m.\u001b[0m\u001b[0mall_sims\u001b[0m \u001b[0;34m=\u001b[0m \u001b[0;34m[\u001b[0m\u001b[0;34m]\u001b[0m\u001b[0;34m\u001b[0m\u001b[0m\n\u001b[1;32m    118\u001b[0m         \u001b[0;32mfor\u001b[0m \u001b[0mmulti_plot_val\u001b[0m \u001b[0;32min\u001b[0m \u001b[0mself\u001b[0m\u001b[0;34m.\u001b[0m\u001b[0mmulti_plot_values\u001b[0m\u001b[0;34m:\u001b[0m\u001b[0;34m\u001b[0m\u001b[0m\n",
        "\u001b[0;32m/Users/ryandwyer/Documents/Programming/mypython/jittermodel/jittermodel/plot.pyc\u001b[0m in \u001b[0;36m_calc_variable_array\u001b[0;34m(self, x_scale, n_pts)\u001b[0m\n\u001b[1;32m     97\u001b[0m         \u001b[0;32melif\u001b[0m \u001b[0mx_scale\u001b[0m \u001b[0;34m==\u001b[0m \u001b[0;34m'linear'\u001b[0m\u001b[0;34m:\u001b[0m\u001b[0;34m\u001b[0m\u001b[0m\n\u001b[1;32m     98\u001b[0m             _r = np.linspace(self.variable_range[0],\n\u001b[0;32m---> 99\u001b[0;31m                              self.variable_range[1], n_pts)\n\u001b[0m\u001b[1;32m    100\u001b[0m         \u001b[0;32melse\u001b[0m\u001b[0;34m:\u001b[0m\u001b[0;34m\u001b[0m\u001b[0m\n\u001b[1;32m    101\u001b[0m             \u001b[0;32mraise\u001b[0m \u001b[0mValueError\u001b[0m\u001b[0;34m(\u001b[0m\u001b[0;34m\"x_scale must be either 'log' or 'linear'\"\u001b[0m\u001b[0;34m)\u001b[0m\u001b[0;34m\u001b[0m\u001b[0m\n",
        "\u001b[0;32m/usr/local/lib/python2.7/site-packages/numpy/core/function_base.pyc\u001b[0m in \u001b[0;36mlinspace\u001b[0;34m(start, stop, num, endpoint, retstep, dtype)\u001b[0m\n\u001b[1;32m     87\u001b[0m \u001b[0;34m\u001b[0m\u001b[0m\n\u001b[1;32m     88\u001b[0m     \u001b[0;32mif\u001b[0m \u001b[0mdtype\u001b[0m \u001b[0;32mis\u001b[0m \u001b[0mNone\u001b[0m\u001b[0;34m:\u001b[0m\u001b[0;34m\u001b[0m\u001b[0m\n\u001b[0;32m---> 89\u001b[0;31m         \u001b[0mdtype\u001b[0m \u001b[0;34m=\u001b[0m \u001b[0mresult_type\u001b[0m\u001b[0;34m(\u001b[0m\u001b[0mstart\u001b[0m\u001b[0;34m,\u001b[0m \u001b[0mstop\u001b[0m\u001b[0;34m,\u001b[0m \u001b[0mfloat\u001b[0m\u001b[0;34m(\u001b[0m\u001b[0mnum\u001b[0m\u001b[0;34m)\u001b[0m\u001b[0;34m)\u001b[0m\u001b[0;34m\u001b[0m\u001b[0m\n\u001b[0m\u001b[1;32m     90\u001b[0m \u001b[0;34m\u001b[0m\u001b[0m\n\u001b[1;32m     91\u001b[0m     \u001b[0;32mif\u001b[0m \u001b[0mnum\u001b[0m \u001b[0;34m<=\u001b[0m \u001b[0;36m0\u001b[0m\u001b[0;34m:\u001b[0m\u001b[0;34m\u001b[0m\u001b[0m\n",
        "\u001b[0;31mTypeError\u001b[0m: data type not understood"
       ]
      }
     ],
     "prompt_number": 3
    },
    {
     "cell_type": "markdown",
     "metadata": {},
     "source": [
      "We see that `_corr_integrand` (3.6), `coth` (2.845), and `_im_dielectric` (2.155) take the vast majority of the time . We can try changing this by optimizing these functions. First, let's try removing the `coth` function call, instead calling `1\\tanh`."
     ]
    },
    {
     "cell_type": "code",
     "collapsed": false,
     "input": [
      "my_profile()"
     ],
     "language": "python",
     "metadata": {},
     "outputs": [
      {
       "output_type": "stream",
       "stream": "stdout",
       "text": [
        "Thu Feb 27 10:18:35 2014    unit_stats\n",
        "\n",
        "         5059933 function calls (5031927 primitive calls) in 10.245 seconds\n",
        "\n",
        "   Ordered by: internal time\n",
        "   List reduced from 246 to 10 due to restriction <10>\n",
        "\n",
        "   ncalls  tottime  percall  cumtime  percall filename:lineno(function)\n",
        "   297900    3.509    0.000    8.891    0.000 usimulation.py:216(_corr_integrand)\n",
        "   297900    3.461    0.000    5.342    0.000 usimulation.py:181(_im_dielectric)\n",
        "   893850    0.578    0.000    0.578    0.000 ubase.py:219(E_s)\n",
        "   298050    0.456    0.000    0.560    0.000 ubase.py:266(kappa)\n",
        "   297900    0.336    0.000    0.719    0.000 ubase.py:274(E_eff)\n",
        "     1890    0.250    0.000    9.370    0.005 {scipy.integrate._quadpack._qagie}\n",
        "   297900    0.229    0.000    9.120    0.000 usimulation.py:230(<lambda>)\n",
        "   298050    0.170    0.000    0.228    0.000 ubase.py:261(sigma)\n",
        "   298050    0.147    0.000    0.163    0.000 ubase.py:203(diff)\n",
        "   596297    0.112    0.000    0.112    0.000 ubase.py:246(rho)\n",
        "\n",
        "\n"
       ]
      }
     ],
     "prompt_number": 22
    },
    {
     "cell_type": "markdown",
     "metadata": {},
     "source": [
      "Wow! We see that eliminating this one function call reduced the execution time by 1.6 seconds! Let's try removing some boilerplate type checking in these critical functions."
     ]
    },
    {
     "cell_type": "code",
     "collapsed": false,
     "input": [
      "my_profile()"
     ],
     "language": "python",
     "metadata": {},
     "outputs": [
      {
       "output_type": "stream",
       "stream": "stdout",
       "text": [
        "Thu Feb 27 10:23:39 2014    unit_stats\n",
        "\n",
        "         5062703 function calls (5034666 primitive calls) in 9.927 seconds\n",
        "\n",
        "   Ordered by: internal time\n",
        "   List reduced from 248 to 10 due to restriction <10>\n",
        "\n",
        "   ncalls  tottime  percall  cumtime  percall filename:lineno(function)\n",
        "   297900    3.397    0.000    8.560    0.000 usimulation.py:216(_corr_integrand)\n",
        "   297900    3.323    0.000    5.119    0.000 usimulation.py:181(_im_dielectric)\n",
        "   893850    0.531    0.000    0.531    0.000 ubase.py:219(E_s)\n",
        "   298050    0.442    0.000    0.547    0.000 ubase.py:266(kappa)\n",
        "   297900    0.326    0.000    0.692    0.000 ubase.py:274(E_eff)\n",
        "     1890    0.240    0.000    9.024    0.005 {scipy.integrate._quadpack._qagie}\n",
        "   297900    0.224    0.000    8.784    0.000 usimulation.py:230(<lambda>)\n",
        "   298050    0.164    0.000    0.222    0.000 ubase.py:261(sigma)\n",
        "   298050    0.136    0.000    0.153    0.000 ubase.py:203(diff)\n",
        "   596297    0.113    0.000    0.113    0.000 ubase.py:246(rho)\n",
        "\n",
        "\n"
       ]
      }
     ],
     "prompt_number": 3
    },
    {
     "cell_type": "code",
     "collapsed": false,
     "input": [
      "my_profile()"
     ],
     "language": "python",
     "metadata": {},
     "outputs": [
      {
       "output_type": "stream",
       "stream": "stdout",
       "text": [
        "Thu Feb 27 10:09:15 2014    unit_stats\n",
        "\n",
        "         5655733 function calls (5627727 primitive calls) in 11.800 seconds\n",
        "\n",
        "   Ordered by: internal time\n",
        "   List reduced from 247 to 10 due to restriction <10>\n",
        "\n",
        "   ncalls  tottime  percall  cumtime  percall filename:lineno(function)\n",
        "   297900    3.574    0.000   10.413    0.000 usimulation.py:216(_corr_integrand)\n",
        "   595800    2.808    0.000    2.808    0.000 usimulation.py:44(coth)\n",
        "   297900    2.136    0.000    6.799    0.000 usimulation.py:181(_im_dielectric)\n",
        "   893850    0.543    0.000    0.543    0.000 ubase.py:219(E_s)\n",
        "   298050    0.468    0.000    0.575    0.000 ubase.py:266(kappa)\n",
        "   297900    0.335    0.000    0.712    0.000 ubase.py:274(E_eff)\n",
        "     1890    0.246    0.000   10.900    0.006 {scipy.integrate._quadpack._qagie}\n",
        "   297900    0.241    0.000   10.654    0.000 usimulation.py:230(<lambda>)\n",
        "   298050    0.172    0.000    0.231    0.000 ubase.py:261(sigma)\n",
        "   298050    0.137    0.000    0.154    0.000 ubase.py:203(diff)\n",
        "\n",
        "\n"
       ]
      }
     ],
     "prompt_number": 9
    },
    {
     "cell_type": "code",
     "collapsed": false,
     "input": [],
     "language": "python",
     "metadata": {},
     "outputs": []
    }
   ],
   "metadata": {}
  }
 ]
}