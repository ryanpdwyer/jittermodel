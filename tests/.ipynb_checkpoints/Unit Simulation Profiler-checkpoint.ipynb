{
 "metadata": {
  "name": ""
 },
 "nbformat": 3,
 "nbformat_minor": 0,
 "worksheets": [
  {
   "cells": [
    {
     "cell_type": "code",
     "collapsed": false,
     "input": [
      "from jittermodel.ubase import UnitCantilever, UnitTransistor, UnitExperiment\n",
      "from jittermodel.plot import UnitGeneratePlotData\n",
      "from jittermodel import u\n",
      "\n",
      "import cProfile\n",
      "import pstats\n",
      "\n",
      "def make_unit_plot():\n",
      "    c1 = UnitCantilever()\n",
      "    t1 = UnitTransistor(h=70*u.nm)\n",
      "    e1 = UnitExperiment()\n",
      "    gpd = UnitGeneratePlotData(c1, t1, e1, 'd', (40*u.nm, 500*u.nm))\n",
      "    V_g_vals = (1*u.V, 20*u.V, 40*u.V)\n",
      "    gpd.calc_plot_data('jitter', 'd', 'V_g', V_g_vals,\n",
      "                       x_scale='linear', n_pts=5)"
     ],
     "language": "python",
     "metadata": {},
     "outputs": [],
     "prompt_number": 1
    },
    {
     "cell_type": "code",
     "collapsed": false,
     "input": [
      "def my_profile():\n",
      "    cProfile.run('make_unit_plot()', 'unit_stats')\n",
      "    p = pstats.Stats('unit_stats')\n",
      "    p.strip_dirs()\n",
      "    p.sort_stats('time').print_stats(10)"
     ],
     "language": "python",
     "metadata": {},
     "outputs": [],
     "prompt_number": 2
    },
    {
     "cell_type": "code",
     "collapsed": false,
     "input": [
      "my_profile()"
     ],
     "language": "python",
     "metadata": {},
     "outputs": [
      {
       "output_type": "stream",
       "stream": "stdout",
       "text": [
        "Thu Feb 27 09:35:27 2014    unit_stats\n",
        "\n",
        "         5658503 function calls (5630466 primitive calls) in 11.618 seconds\n",
        "\n",
        "   Ordered by: internal time\n",
        "   List reduced from 249 to 10 due to restriction <10>\n",
        "\n",
        "   ncalls  tottime  percall  cumtime  percall filename:lineno(function)\n",
        "   297900    3.501    0.000   10.272    0.000 /Users/ryandwyer/Dropbox/Python_Code/projects/jittermodel/usimulation.py:216(_corr_integrand)\n",
        "   595800    2.791    0.000    2.791    0.000 /Users/ryandwyer/Dropbox/Python_Code/projects/jittermodel/usimulation.py:44(coth)\n",
        "   297900    2.111    0.000    6.731    0.000 /Users/ryandwyer/Dropbox/Python_Code/projects/jittermodel/usimulation.py:181(_im_dielectric)\n",
        "   893850    0.537    0.000    0.537    0.000 /Users/ryandwyer/Dropbox/Python_Code/projects/jittermodel/ubase.py:219(E_s)\n",
        "   298050    0.455    0.000    0.561    0.000 /Users/ryandwyer/Dropbox/Python_Code/projects/jittermodel/ubase.py:266(kappa)\n",
        "   297900    0.330    0.000    0.701    0.000 /Users/ryandwyer/Dropbox/Python_Code/projects/jittermodel/ubase.py:274(E_eff)\n",
        "   297900    0.244    0.000   10.516    0.000 /Users/ryandwyer/Dropbox/Python_Code/projects/jittermodel/usimulation.py:230(<lambda>)\n",
        "     1890    0.237    0.000   10.753    0.006 {scipy.integrate._quadpack._qagie}\n",
        "   298050    0.167    0.000    0.225    0.000 /Users/ryandwyer/Dropbox/Python_Code/projects/jittermodel/ubase.py:261(sigma)\n",
        "   298050    0.138    0.000    0.154    0.000 /Users/ryandwyer/Dropbox/Python_Code/projects/jittermodel/ubase.py:203(diff)\n",
        "\n",
        "\n"
       ]
      }
     ],
     "prompt_number": 3
    },
    {
     "cell_type": "code",
     "collapsed": false,
     "input": [],
     "language": "python",
     "metadata": {},
     "outputs": []
    }
   ],
   "metadata": {}
  }
 ]
}