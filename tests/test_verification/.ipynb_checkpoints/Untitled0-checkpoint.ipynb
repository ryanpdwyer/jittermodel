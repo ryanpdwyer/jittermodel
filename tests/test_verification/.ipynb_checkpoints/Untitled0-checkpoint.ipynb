{
 "metadata": {
  "name": ""
 },
 "nbformat": 3,
 "nbformat_minor": 0,
 "worksheets": [
  {
   "cells": [
    {
     "cell_type": "code",
     "collapsed": false,
     "input": [
      "from sympy import *\n",
      "from sympy.abc import d, h, r, n\n",
      "from sympy.utilities.autowrap import ufuncify\n",
      "import numpy as np\n",
      "E_s1 = symbols('E_s1')"
     ],
     "language": "python",
     "metadata": {},
     "outputs": [],
     "prompt_number": 55
    },
    {
     "cell_type": "code",
     "collapsed": false,
     "input": [
      "def alpha():\n",
      "    return acosh(1 + d / r + h / (E_s1 * r))\n",
      "\n",
      "summand = sinh(alpha()) / sinh(n * alpha())\n",
      "\n",
      "vals = {d: 0.1, r: 0.05, h: 0.15, E_s1: 3, n: 3}\n",
      "uvals = {'d': 0.1, 'r': 0.05, 'h': 0.15, 'e_s1': 3, 'n': 3}"
     ],
     "language": "python",
     "metadata": {},
     "outputs": [],
     "prompt_number": 63
    },
    {
     "cell_type": "code",
     "collapsed": false,
     "input": [
      "alpha().evalf(subs=vals)"
     ],
     "language": "python",
     "metadata": {},
     "outputs": [
      {
       "metadata": {},
       "output_type": "pyout",
       "prompt_number": 60,
       "text": [
        "2.06343706889556"
       ]
      }
     ],
     "prompt_number": 60
    },
    {
     "cell_type": "code",
     "collapsed": false,
     "input": [
      "usmmd = ufuncify([d, r, h, E_s1, n], summand)"
     ],
     "language": "python",
     "metadata": {},
     "outputs": [],
     "prompt_number": 61
    },
    {
     "cell_type": "code",
     "collapsed": false,
     "input": [
      "usmmd(, 0.5, 1.5, 3, 1)"
     ],
     "language": "python",
     "metadata": {},
     "outputs": [
      {
       "metadata": {},
       "output_type": "pyout",
       "prompt_number": 70,
       "text": [
        "array([ 0.02857143])"
       ]
      }
     ],
     "prompt_number": 70
    },
    {
     "cell_type": "code",
     "collapsed": false,
     "input": [],
     "language": "python",
     "metadata": {},
     "outputs": []
    }
   ],
   "metadata": {}
  }
 ]
}