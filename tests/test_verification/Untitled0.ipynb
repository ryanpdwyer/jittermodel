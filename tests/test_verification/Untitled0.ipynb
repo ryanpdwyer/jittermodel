{
 "metadata": {
  "name": ""
 },
 "nbformat": 3,
 "nbformat_minor": 0,
 "worksheets": [
  {
   "cells": [
    {
     "cell_type": "code",
     "collapsed": false,
     "input": [
      "from sympy import *\n",
      "from sympy.abc import d, h, r, n\n",
      "from sympy.utilities.autowrap import ufuncify\n",
      "import numpy as np\n",
      "E_s1 = symbols('E_s1')"
     ],
     "language": "python",
     "metadata": {},
     "outputs": [],
     "prompt_number": 3
    },
    {
     "cell_type": "code",
     "collapsed": false,
     "input": [
      "def alpha():\n",
      "    return acosh(1 + d / r + h / (E_s1 * r))\n",
      "\n",
      "summand = sinh(alpha()) / sinh(n * alpha())\n",
      "\n",
      "vals = {d: 0.1, r: 0.05, h: 0.15, E_s1: 3, n: 3}\n",
      "uvals = {'d': 0.1, 'r': 0.05, 'h': 0.15, 'e_s1': 3, 'n': 3}"
     ],
     "language": "python",
     "metadata": {},
     "outputs": [],
     "prompt_number": 4
    },
    {
     "cell_type": "code",
     "collapsed": false,
     "input": [
      "alpha().evalf(subs=vals)\n",
      "summand"
     ],
     "language": "python",
     "metadata": {},
     "outputs": [
      {
       "metadata": {},
       "output_type": "pyout",
       "prompt_number": 5,
       "text": [
        "sqrt(d/r + h/(E_s1*r))*sqrt(d/r + 2 + h/(E_s1*r))/sinh(n*acosh(d/r + 1 + h/(E_s1*r)))"
       ]
      }
     ],
     "prompt_number": 5
    },
    {
     "cell_type": "code",
     "collapsed": false,
     "input": [
      "usmmd = ufuncify((d, r, h, n, E_s1), summand)"
     ],
     "language": "python",
     "metadata": {},
     "outputs": [],
     "prompt_number": 6
    },
    {
     "cell_type": "code",
     "collapsed": false,
     "input": [
      "da = np.linspace(0.095, 0.105, 100)\n",
      "da"
     ],
     "language": "python",
     "metadata": {},
     "outputs": [
      {
       "metadata": {},
       "output_type": "pyout",
       "prompt_number": 7,
       "text": [
        "array([ 0.095     ,  0.09510101,  0.09520202,  0.09530303,  0.09540404,\n",
        "        0.09550505,  0.09560606,  0.09570707,  0.09580808,  0.09590909,\n",
        "        0.0960101 ,  0.09611111,  0.09621212,  0.09631313,  0.09641414,\n",
        "        0.09651515,  0.09661616,  0.09671717,  0.09681818,  0.09691919,\n",
        "        0.0970202 ,  0.09712121,  0.09722222,  0.09732323,  0.09742424,\n",
        "        0.09752525,  0.09762626,  0.09772727,  0.09782828,  0.09792929,\n",
        "        0.0980303 ,  0.09813131,  0.09823232,  0.09833333,  0.09843434,\n",
        "        0.09853535,  0.09863636,  0.09873737,  0.09883838,  0.09893939,\n",
        "        0.0990404 ,  0.09914141,  0.09924242,  0.09934343,  0.09944444,\n",
        "        0.09954545,  0.09964646,  0.09974747,  0.09984848,  0.09994949,\n",
        "        0.10005051,  0.10015152,  0.10025253,  0.10035354,  0.10045455,\n",
        "        0.10055556,  0.10065657,  0.10075758,  0.10085859,  0.1009596 ,\n",
        "        0.10106061,  0.10116162,  0.10126263,  0.10136364,  0.10146465,\n",
        "        0.10156566,  0.10166667,  0.10176768,  0.10186869,  0.1019697 ,\n",
        "        0.10207071,  0.10217172,  0.10227273,  0.10237374,  0.10247475,\n",
        "        0.10257576,  0.10267677,  0.10277778,  0.10287879,  0.1029798 ,\n",
        "        0.10308081,  0.10318182,  0.10328283,  0.10338384,  0.10348485,\n",
        "        0.10358586,  0.10368687,  0.10378788,  0.10388889,  0.1039899 ,\n",
        "        0.10409091,  0.10419192,  0.10429293,  0.10439394,  0.10449495,\n",
        "        0.10459596,  0.10469697,  0.10479798,  0.10489899,  0.105     ])"
       ]
      }
     ],
     "prompt_number": 7
    },
    {
     "cell_type": "markdown",
     "metadata": {},
     "source": [
      "usmmd is now a function of d, E_s1, h, n, r"
     ]
    },
    {
     "cell_type": "code",
     "collapsed": false,
     "input": [
      "usmmd(*(0.1, 0.05, 0.15, 3, 1))"
     ],
     "language": "python",
     "metadata": {},
     "outputs": [
      {
       "metadata": {},
       "output_type": "pyout",
       "prompt_number": 9,
       "text": [
        "array([ 0.03998401])"
       ]
      }
     ],
     "prompt_number": 9
    },
    {
     "cell_type": "code",
     "collapsed": false,
     "input": [],
     "language": "python",
     "metadata": {},
     "outputs": []
    },
    {
     "cell_type": "code",
     "collapsed": false,
     "input": [],
     "language": "python",
     "metadata": {},
     "outputs": []
    }
   ],
   "metadata": {}
  }
 ]
}